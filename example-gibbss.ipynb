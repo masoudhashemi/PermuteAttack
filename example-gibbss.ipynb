{
 "cells": [
  {
   "cell_type": "markdown",
   "metadata": {},
   "source": [
    "## Available:\n",
    "1. black list: wont change the black listed columns\n",
    "2. early stopping\n",
    "3. one hot encoded inputs\n",
    "4. Correct Black list, now it is applied on the one_hot list not the input columns. \n",
    "\n",
    "## TODO:\n",
    "1. The node labels are out of the figure"
   ]
  },
  {
   "cell_type": "code",
   "execution_count": 1,
   "metadata": {},
   "outputs": [],
   "source": [
    "%load_ext autoreload\n",
    "%autoreload 2\n",
    "\n",
    "import pandas as pd\n",
    "pd.set_option('display.max_rows', 500)\n",
    "pd.set_option('display.max_columns', 500)\n",
    "pd.set_option('display.width', 1000)"
   ]
  },
  {
   "cell_type": "code",
   "execution_count": 2,
   "metadata": {},
   "outputs": [],
   "source": [
    "import pickle"
   ]
  },
  {
   "cell_type": "code",
   "execution_count": 3,
   "metadata": {},
   "outputs": [],
   "source": [
    "import random\n",
    "from sklearn.ensemble import RandomForestClassifier\n",
    "from sklearn.tree import DecisionTreeClassifier \n",
    "from sklearn.linear_model import LogisticRegression, SGDClassifier\n",
    "from sklearn.preprocessing import MinMaxScaler\n",
    "from sklearn.pipeline import Pipeline\n",
    "\n",
    "import numpy as np\n",
    "import pandas as pd\n",
    "from sklearn.preprocessing import LabelEncoder\n",
    "\n",
    "from sklearn.datasets import load_iris, load_breast_cancer\n",
    "from sklearn.model_selection import train_test_split\n",
    "from sklearn.metrics import accuracy_score\n",
    "from sklearn.ensemble import ExtraTreesClassifier\n",
    "\n",
    "import matplotlib.pyplot as plt\n",
    "%matplotlib inline\n",
    "\n",
    "np.random.seed(555)\n",
    "\n",
    "import matplotlib.pyplot\n",
    "plt.style.use('ggplot')"
   ]
  },
  {
   "cell_type": "code",
   "execution_count": 4,
   "metadata": {},
   "outputs": [],
   "source": [
    "from alibi.utils.mapping import (\n",
    "    ohe_to_ord as alibi_ohe_to_ord,\n",
    "    ord_to_ohe as alibi_ord_to_ohe,\n",
    ")"
   ]
  },
  {
   "cell_type": "code",
   "execution_count": 5,
   "metadata": {},
   "outputs": [],
   "source": [
    "from ga_attack_gibss import plot_graph, create_onehot_map, GA_Counterfactual, alibi_ord_to_ohe, GAdvExample"
   ]
  },
  {
   "cell_type": "code",
   "execution_count": 6,
   "metadata": {},
   "outputs": [
    {
     "data": {
      "text/html": [
       "<div>\n",
       "<style scoped>\n",
       "    .dataframe tbody tr th:only-of-type {\n",
       "        vertical-align: middle;\n",
       "    }\n",
       "\n",
       "    .dataframe tbody tr th {\n",
       "        vertical-align: top;\n",
       "    }\n",
       "\n",
       "    .dataframe thead th {\n",
       "        text-align: right;\n",
       "    }\n",
       "</style>\n",
       "<table border=\"1\" class=\"dataframe\">\n",
       "  <thead>\n",
       "    <tr style=\"text-align: right;\">\n",
       "      <th></th>\n",
       "      <th>duration_in_month</th>\n",
       "      <th>credit_amount</th>\n",
       "      <th>installment_as_income_perc</th>\n",
       "      <th>present_res_since</th>\n",
       "      <th>age</th>\n",
       "      <th>credits_this_bank</th>\n",
       "      <th>people_under_maintenance</th>\n",
       "      <th>account_check_status_0 &lt;= ... &lt; 200 DM</th>\n",
       "      <th>account_check_status_&lt; 0 DM</th>\n",
       "      <th>account_check_status_&gt;= 200 DM / salary assignments for at least 1 year</th>\n",
       "      <th>account_check_status_no checking account</th>\n",
       "      <th>credit_history_all credits at this bank paid back duly</th>\n",
       "      <th>credit_history_critical account/ other credits existing (not at this bank)</th>\n",
       "      <th>credit_history_delay in paying off in the past</th>\n",
       "      <th>credit_history_existing credits paid back duly till now</th>\n",
       "      <th>credit_history_no credits taken/ all credits paid back duly</th>\n",
       "      <th>purpose_(vacation - does not exist?)</th>\n",
       "      <th>purpose_business</th>\n",
       "      <th>purpose_car (new)</th>\n",
       "      <th>purpose_car (used)</th>\n",
       "      <th>purpose_domestic appliances</th>\n",
       "      <th>purpose_education</th>\n",
       "      <th>purpose_furniture/equipment</th>\n",
       "      <th>purpose_radio/television</th>\n",
       "      <th>purpose_repairs</th>\n",
       "      <th>purpose_retraining</th>\n",
       "      <th>savings_.. &gt;= 1000 DM</th>\n",
       "      <th>savings_... &lt; 100 DM</th>\n",
       "      <th>savings_100 &lt;= ... &lt; 500 DM</th>\n",
       "      <th>savings_500 &lt;= ... &lt; 1000 DM</th>\n",
       "      <th>savings_unknown/ no savings account</th>\n",
       "      <th>present_emp_since_.. &gt;= 7 years</th>\n",
       "      <th>present_emp_since_... &lt; 1 year</th>\n",
       "      <th>present_emp_since_1 &lt;= ... &lt; 4 years</th>\n",
       "      <th>present_emp_since_4 &lt;= ... &lt; 7 years</th>\n",
       "      <th>present_emp_since_unemployed</th>\n",
       "      <th>personal_status_sex_female : divorced/separated/married</th>\n",
       "      <th>personal_status_sex_male : divorced/separated</th>\n",
       "      <th>personal_status_sex_male : married/widowed</th>\n",
       "      <th>personal_status_sex_male : single</th>\n",
       "      <th>other_debtors_co-applicant</th>\n",
       "      <th>other_debtors_guarantor</th>\n",
       "      <th>other_debtors_none</th>\n",
       "      <th>property_if not A121 : building society savings agreement/ life insurance</th>\n",
       "      <th>property_if not A121/A122 : car or other, not in attribute 6</th>\n",
       "      <th>property_real estate</th>\n",
       "      <th>property_unknown / no property</th>\n",
       "      <th>other_installment_plans_bank</th>\n",
       "      <th>other_installment_plans_none</th>\n",
       "      <th>other_installment_plans_stores</th>\n",
       "      <th>housing_for free</th>\n",
       "      <th>housing_own</th>\n",
       "      <th>housing_rent</th>\n",
       "      <th>job_management/ self-employed/ highly qualified employee/ officer</th>\n",
       "      <th>job_skilled employee / official</th>\n",
       "      <th>job_unemployed/ unskilled - non-resident</th>\n",
       "      <th>job_unskilled - resident</th>\n",
       "      <th>telephone_none</th>\n",
       "      <th>telephone_yes, registered under the customers name</th>\n",
       "      <th>foreign_worker_no</th>\n",
       "      <th>foreign_worker_yes</th>\n",
       "    </tr>\n",
       "  </thead>\n",
       "  <tbody>\n",
       "    <tr>\n",
       "      <th>0</th>\n",
       "      <td>6</td>\n",
       "      <td>1169</td>\n",
       "      <td>4</td>\n",
       "      <td>4</td>\n",
       "      <td>67</td>\n",
       "      <td>2</td>\n",
       "      <td>1</td>\n",
       "      <td>0</td>\n",
       "      <td>1</td>\n",
       "      <td>0</td>\n",
       "      <td>0</td>\n",
       "      <td>0</td>\n",
       "      <td>1</td>\n",
       "      <td>0</td>\n",
       "      <td>0</td>\n",
       "      <td>0</td>\n",
       "      <td>0</td>\n",
       "      <td>0</td>\n",
       "      <td>0</td>\n",
       "      <td>0</td>\n",
       "      <td>1</td>\n",
       "      <td>0</td>\n",
       "      <td>0</td>\n",
       "      <td>0</td>\n",
       "      <td>0</td>\n",
       "      <td>0</td>\n",
       "      <td>0</td>\n",
       "      <td>0</td>\n",
       "      <td>0</td>\n",
       "      <td>0</td>\n",
       "      <td>1</td>\n",
       "      <td>1</td>\n",
       "      <td>0</td>\n",
       "      <td>0</td>\n",
       "      <td>0</td>\n",
       "      <td>0</td>\n",
       "      <td>0</td>\n",
       "      <td>0</td>\n",
       "      <td>0</td>\n",
       "      <td>1</td>\n",
       "      <td>0</td>\n",
       "      <td>0</td>\n",
       "      <td>1</td>\n",
       "      <td>0</td>\n",
       "      <td>0</td>\n",
       "      <td>1</td>\n",
       "      <td>0</td>\n",
       "      <td>0</td>\n",
       "      <td>1</td>\n",
       "      <td>0</td>\n",
       "      <td>0</td>\n",
       "      <td>1</td>\n",
       "      <td>0</td>\n",
       "      <td>0</td>\n",
       "      <td>1</td>\n",
       "      <td>0</td>\n",
       "      <td>0</td>\n",
       "      <td>0</td>\n",
       "      <td>1</td>\n",
       "      <td>0</td>\n",
       "      <td>1</td>\n",
       "    </tr>\n",
       "    <tr>\n",
       "      <th>1</th>\n",
       "      <td>48</td>\n",
       "      <td>5951</td>\n",
       "      <td>2</td>\n",
       "      <td>2</td>\n",
       "      <td>22</td>\n",
       "      <td>1</td>\n",
       "      <td>1</td>\n",
       "      <td>1</td>\n",
       "      <td>0</td>\n",
       "      <td>0</td>\n",
       "      <td>0</td>\n",
       "      <td>0</td>\n",
       "      <td>0</td>\n",
       "      <td>0</td>\n",
       "      <td>1</td>\n",
       "      <td>0</td>\n",
       "      <td>0</td>\n",
       "      <td>0</td>\n",
       "      <td>0</td>\n",
       "      <td>0</td>\n",
       "      <td>1</td>\n",
       "      <td>0</td>\n",
       "      <td>0</td>\n",
       "      <td>0</td>\n",
       "      <td>0</td>\n",
       "      <td>0</td>\n",
       "      <td>0</td>\n",
       "      <td>1</td>\n",
       "      <td>0</td>\n",
       "      <td>0</td>\n",
       "      <td>0</td>\n",
       "      <td>0</td>\n",
       "      <td>0</td>\n",
       "      <td>1</td>\n",
       "      <td>0</td>\n",
       "      <td>0</td>\n",
       "      <td>1</td>\n",
       "      <td>0</td>\n",
       "      <td>0</td>\n",
       "      <td>0</td>\n",
       "      <td>0</td>\n",
       "      <td>0</td>\n",
       "      <td>1</td>\n",
       "      <td>0</td>\n",
       "      <td>0</td>\n",
       "      <td>1</td>\n",
       "      <td>0</td>\n",
       "      <td>0</td>\n",
       "      <td>1</td>\n",
       "      <td>0</td>\n",
       "      <td>0</td>\n",
       "      <td>1</td>\n",
       "      <td>0</td>\n",
       "      <td>0</td>\n",
       "      <td>1</td>\n",
       "      <td>0</td>\n",
       "      <td>0</td>\n",
       "      <td>1</td>\n",
       "      <td>0</td>\n",
       "      <td>0</td>\n",
       "      <td>1</td>\n",
       "    </tr>\n",
       "    <tr>\n",
       "      <th>2</th>\n",
       "      <td>12</td>\n",
       "      <td>2096</td>\n",
       "      <td>2</td>\n",
       "      <td>3</td>\n",
       "      <td>49</td>\n",
       "      <td>1</td>\n",
       "      <td>2</td>\n",
       "      <td>0</td>\n",
       "      <td>0</td>\n",
       "      <td>0</td>\n",
       "      <td>1</td>\n",
       "      <td>0</td>\n",
       "      <td>1</td>\n",
       "      <td>0</td>\n",
       "      <td>0</td>\n",
       "      <td>0</td>\n",
       "      <td>1</td>\n",
       "      <td>0</td>\n",
       "      <td>0</td>\n",
       "      <td>0</td>\n",
       "      <td>0</td>\n",
       "      <td>0</td>\n",
       "      <td>0</td>\n",
       "      <td>0</td>\n",
       "      <td>0</td>\n",
       "      <td>0</td>\n",
       "      <td>0</td>\n",
       "      <td>1</td>\n",
       "      <td>0</td>\n",
       "      <td>0</td>\n",
       "      <td>0</td>\n",
       "      <td>0</td>\n",
       "      <td>0</td>\n",
       "      <td>0</td>\n",
       "      <td>1</td>\n",
       "      <td>0</td>\n",
       "      <td>0</td>\n",
       "      <td>0</td>\n",
       "      <td>0</td>\n",
       "      <td>1</td>\n",
       "      <td>0</td>\n",
       "      <td>0</td>\n",
       "      <td>1</td>\n",
       "      <td>0</td>\n",
       "      <td>0</td>\n",
       "      <td>1</td>\n",
       "      <td>0</td>\n",
       "      <td>0</td>\n",
       "      <td>1</td>\n",
       "      <td>0</td>\n",
       "      <td>0</td>\n",
       "      <td>1</td>\n",
       "      <td>0</td>\n",
       "      <td>0</td>\n",
       "      <td>0</td>\n",
       "      <td>0</td>\n",
       "      <td>1</td>\n",
       "      <td>1</td>\n",
       "      <td>0</td>\n",
       "      <td>0</td>\n",
       "      <td>1</td>\n",
       "    </tr>\n",
       "    <tr>\n",
       "      <th>3</th>\n",
       "      <td>42</td>\n",
       "      <td>7882</td>\n",
       "      <td>2</td>\n",
       "      <td>4</td>\n",
       "      <td>45</td>\n",
       "      <td>1</td>\n",
       "      <td>2</td>\n",
       "      <td>0</td>\n",
       "      <td>1</td>\n",
       "      <td>0</td>\n",
       "      <td>0</td>\n",
       "      <td>0</td>\n",
       "      <td>0</td>\n",
       "      <td>0</td>\n",
       "      <td>1</td>\n",
       "      <td>0</td>\n",
       "      <td>0</td>\n",
       "      <td>0</td>\n",
       "      <td>0</td>\n",
       "      <td>0</td>\n",
       "      <td>0</td>\n",
       "      <td>0</td>\n",
       "      <td>0</td>\n",
       "      <td>1</td>\n",
       "      <td>0</td>\n",
       "      <td>0</td>\n",
       "      <td>0</td>\n",
       "      <td>1</td>\n",
       "      <td>0</td>\n",
       "      <td>0</td>\n",
       "      <td>0</td>\n",
       "      <td>0</td>\n",
       "      <td>0</td>\n",
       "      <td>0</td>\n",
       "      <td>1</td>\n",
       "      <td>0</td>\n",
       "      <td>0</td>\n",
       "      <td>0</td>\n",
       "      <td>0</td>\n",
       "      <td>1</td>\n",
       "      <td>0</td>\n",
       "      <td>1</td>\n",
       "      <td>0</td>\n",
       "      <td>1</td>\n",
       "      <td>0</td>\n",
       "      <td>0</td>\n",
       "      <td>0</td>\n",
       "      <td>0</td>\n",
       "      <td>1</td>\n",
       "      <td>0</td>\n",
       "      <td>1</td>\n",
       "      <td>0</td>\n",
       "      <td>0</td>\n",
       "      <td>0</td>\n",
       "      <td>1</td>\n",
       "      <td>0</td>\n",
       "      <td>0</td>\n",
       "      <td>1</td>\n",
       "      <td>0</td>\n",
       "      <td>0</td>\n",
       "      <td>1</td>\n",
       "    </tr>\n",
       "    <tr>\n",
       "      <th>4</th>\n",
       "      <td>24</td>\n",
       "      <td>4870</td>\n",
       "      <td>3</td>\n",
       "      <td>4</td>\n",
       "      <td>53</td>\n",
       "      <td>2</td>\n",
       "      <td>2</td>\n",
       "      <td>0</td>\n",
       "      <td>1</td>\n",
       "      <td>0</td>\n",
       "      <td>0</td>\n",
       "      <td>0</td>\n",
       "      <td>0</td>\n",
       "      <td>1</td>\n",
       "      <td>0</td>\n",
       "      <td>0</td>\n",
       "      <td>0</td>\n",
       "      <td>0</td>\n",
       "      <td>1</td>\n",
       "      <td>0</td>\n",
       "      <td>0</td>\n",
       "      <td>0</td>\n",
       "      <td>0</td>\n",
       "      <td>0</td>\n",
       "      <td>0</td>\n",
       "      <td>0</td>\n",
       "      <td>0</td>\n",
       "      <td>1</td>\n",
       "      <td>0</td>\n",
       "      <td>0</td>\n",
       "      <td>0</td>\n",
       "      <td>0</td>\n",
       "      <td>0</td>\n",
       "      <td>1</td>\n",
       "      <td>0</td>\n",
       "      <td>0</td>\n",
       "      <td>0</td>\n",
       "      <td>0</td>\n",
       "      <td>0</td>\n",
       "      <td>1</td>\n",
       "      <td>0</td>\n",
       "      <td>0</td>\n",
       "      <td>1</td>\n",
       "      <td>0</td>\n",
       "      <td>0</td>\n",
       "      <td>0</td>\n",
       "      <td>1</td>\n",
       "      <td>0</td>\n",
       "      <td>1</td>\n",
       "      <td>0</td>\n",
       "      <td>1</td>\n",
       "      <td>0</td>\n",
       "      <td>0</td>\n",
       "      <td>0</td>\n",
       "      <td>1</td>\n",
       "      <td>0</td>\n",
       "      <td>0</td>\n",
       "      <td>1</td>\n",
       "      <td>0</td>\n",
       "      <td>0</td>\n",
       "      <td>1</td>\n",
       "    </tr>\n",
       "  </tbody>\n",
       "</table>\n",
       "</div>"
      ],
      "text/plain": [
       "   duration_in_month  credit_amount  installment_as_income_perc  present_res_since  age  credits_this_bank  people_under_maintenance  account_check_status_0 <= ... < 200 DM  account_check_status_< 0 DM  account_check_status_>= 200 DM / salary assignments for at least 1 year  account_check_status_no checking account  credit_history_all credits at this bank paid back duly  credit_history_critical account/ other credits existing (not at this bank)  credit_history_delay in paying off in the past  credit_history_existing credits paid back duly till now  credit_history_no credits taken/ all credits paid back duly  purpose_(vacation - does not exist?)  purpose_business  purpose_car (new)  purpose_car (used)  purpose_domestic appliances  purpose_education  purpose_furniture/equipment  purpose_radio/television  purpose_repairs  purpose_retraining  savings_.. >= 1000 DM   savings_... < 100 DM  savings_100 <= ... < 500 DM  savings_500 <= ... < 1000 DM   savings_unknown/ no savings account  \\\n",
       "0                  6           1169                           4                  4   67                  2                         1                                       0                            1                                                  0                                                               0                                                  0                                                       1                                                                        0                                                  0                                                        0                                               0                 0                  0                   0                            1                  0                            0                         0                0                   0                       0                     0                            0                              0                                    1   \n",
       "1                 48           5951                           2                  2   22                  1                         1                                       1                            0                                                  0                                                               0                                                  0                                                       0                                                                        0                                                  1                                                        0                                               0                 0                  0                   0                            1                  0                            0                         0                0                   0                       0                     1                            0                              0                                    0   \n",
       "2                 12           2096                           2                  3   49                  1                         2                                       0                            0                                                  0                                                               1                                                  0                                                       1                                                                        0                                                  0                                                        0                                               1                 0                  0                   0                            0                  0                            0                         0                0                   0                       0                     1                            0                              0                                    0   \n",
       "3                 42           7882                           2                  4   45                  1                         2                                       0                            1                                                  0                                                               0                                                  0                                                       0                                                                        0                                                  1                                                        0                                               0                 0                  0                   0                            0                  0                            0                         1                0                   0                       0                     1                            0                              0                                    0   \n",
       "4                 24           4870                           3                  4   53                  2                         2                                       0                            1                                                  0                                                               0                                                  0                                                       0                                                                        1                                                  0                                                        0                                               0                 0                  1                   0                            0                  0                            0                         0                0                   0                       0                     1                            0                              0                                    0   \n",
       "\n",
       "   present_emp_since_.. >= 7 years  present_emp_since_... < 1 year   present_emp_since_1 <= ... < 4 years  present_emp_since_4 <= ... < 7 years  present_emp_since_unemployed  personal_status_sex_female : divorced/separated/married  personal_status_sex_male : divorced/separated  personal_status_sex_male : married/widowed  personal_status_sex_male : single  other_debtors_co-applicant  other_debtors_guarantor  other_debtors_none  property_if not A121 : building society savings agreement/ life insurance  property_if not A121/A122 : car or other, not in attribute 6  property_real estate  property_unknown / no property  other_installment_plans_bank  other_installment_plans_none  other_installment_plans_stores  housing_for free  housing_own  housing_rent  job_management/ self-employed/ highly qualified employee/ officer  job_skilled employee / official  job_unemployed/ unskilled - non-resident  job_unskilled - resident  telephone_none  telephone_yes, registered under the customers name   \\\n",
       "0                                1                                0                                     0                                     0                             0                                                  0                                                    0                                           0                                  1                           0                        0                   1                                                  0                                                                          0                                1                               0                             0                             1                               0                 0            1             0                                                  0                                                1                                         0                         0               0                                                  1     \n",
       "1                                0                                0                                     1                                     0                             0                                                  1                                                    0                                           0                                  0                           0                        0                   1                                                  0                                                                          0                                1                               0                             0                             1                               0                 0            1             0                                                  0                                                1                                         0                         0               1                                                  0     \n",
       "2                                0                                0                                     0                                     1                             0                                                  0                                                    0                                           0                                  1                           0                        0                   1                                                  0                                                                          0                                1                               0                             0                             1                               0                 0            1             0                                                  0                                                0                                         0                         1               1                                                  0     \n",
       "3                                0                                0                                     0                                     1                             0                                                  0                                                    0                                           0                                  1                           0                        1                   0                                                  1                                                                          0                                0                               0                             0                             1                               0                 1            0             0                                                  0                                                1                                         0                         0               1                                                  0     \n",
       "4                                0                                0                                     1                                     0                             0                                                  0                                                    0                                           0                                  1                           0                        0                   1                                                  0                                                                          0                                0                               1                             0                             1                               0                 1            0             0                                                  0                                                1                                         0                         0               1                                                  0     \n",
       "\n",
       "   foreign_worker_no  foreign_worker_yes  \n",
       "0                  0                   1  \n",
       "1                  0                   1  \n",
       "2                  0                   1  \n",
       "3                  0                   1  \n",
       "4                  0                   1  "
      ]
     },
     "execution_count": 6,
     "metadata": {},
     "output_type": "execute_result"
    }
   ],
   "source": [
    "data = pd.read_csv('german_credit.csv')\n",
    "y = data['default']\n",
    "X_df = data.drop('default', axis=1)\n",
    "\n",
    "cats = [X_df.dtypes.index[i] for i in range(X_df.shape[1]) if X_df.dtypes[i]=='object']\n",
    "X_df = pd.get_dummies(X_df, columns=cats)\n",
    "\n",
    "X = X_df.values\n",
    "y = y.values\n",
    "\n",
    "X_df.head()"
   ]
  },
  {
   "cell_type": "code",
   "execution_count": 22,
   "metadata": {},
   "outputs": [
    {
     "data": {
      "text/plain": [
       "(1000, 61)"
      ]
     },
     "execution_count": 22,
     "metadata": {},
     "output_type": "execute_result"
    }
   ],
   "source": [
    "X.shape"
   ]
  },
  {
   "cell_type": "code",
   "execution_count": 7,
   "metadata": {},
   "outputs": [
    {
     "data": {
      "text/plain": [
       "0.775"
      ]
     },
     "execution_count": 7,
     "metadata": {},
     "output_type": "execute_result"
    }
   ],
   "source": [
    "clf = RandomForestClassifier()\n",
    "X_train, X_test, y_train, y_test = train_test_split(X,y,test_size=0.4)\n",
    "clf.fit(X_train,y_train)\n",
    "clf.score(X_test,y_test)\n",
    "\n",
    "# logistic = SGDClassifier(loss='log', penalty='l1', early_stopping=True,\n",
    "#                          max_iter=10000, tol=1e-5, random_state=0)\n",
    "# sca = MinMaxScaler()\n",
    "# clf = Pipeline(steps=[('sca', sca), ('logistic', logistic)])\n",
    "# clf.fit(X,y)\n",
    "# clf.score(X,y)"
   ]
  },
  {
   "cell_type": "code",
   "execution_count": 8,
   "metadata": {},
   "outputs": [],
   "source": [
    "feature_names = list(X_df.columns)"
   ]
  },
  {
   "cell_type": "code",
   "execution_count": 9,
   "metadata": {},
   "outputs": [
    {
     "data": {
      "text/plain": [
       "{7: 4,\n",
       " 11: 5,\n",
       " 16: 10,\n",
       " 26: 5,\n",
       " 31: 5,\n",
       " 36: 4,\n",
       " 40: 3,\n",
       " 43: 4,\n",
       " 47: 3,\n",
       " 50: 3,\n",
       " 53: 4,\n",
       " 57: 2,\n",
       " 59: 2}"
      ]
     },
     "execution_count": 9,
     "metadata": {},
     "output_type": "execute_result"
    }
   ],
   "source": [
    "_, one_hot = create_onehot_map(feature_names, sep=\"_\", min_dist=1, data=None)\n",
    "one_hot"
   ]
  },
  {
   "cell_type": "code",
   "execution_count": 10,
   "metadata": {},
   "outputs": [
    {
     "data": {
      "text/plain": [
       "((600, 20), (600, 61))"
      ]
     },
     "execution_count": 10,
     "metadata": {},
     "output_type": "execute_result"
    }
   ],
   "source": [
    "data_ = alibi_ohe_to_ord(X_train, one_hot)[0]\n",
    "data_.shape, X_train.shape"
   ]
  },
  {
   "cell_type": "code",
   "execution_count": 11,
   "metadata": {},
   "outputs": [
    {
     "data": {
      "text/plain": [
       "array([ 4., 12., 18., 24., 72.])"
      ]
     },
     "execution_count": 11,
     "metadata": {},
     "output_type": "execute_result"
    }
   ],
   "source": [
    "np.quantile(data_[:,0], np.linspace(0,1,5))"
   ]
  },
  {
   "cell_type": "code",
   "execution_count": 12,
   "metadata": {},
   "outputs": [
    {
     "data": {
      "text/plain": [
       "(array([ 10,  13,  21,  25,  37,  57,  59,  66,  73,  83,  86, 112, 117,\n",
       "        119, 123, 127, 134, 136, 145, 151, 172, 174, 180, 181, 198, 202,\n",
       "        211, 213, 214, 226, 227, 238, 244, 247, 250, 252, 269, 281, 286,\n",
       "        293, 304, 311, 316, 326, 336, 338, 346, 360, 383, 386, 394]),)"
      ]
     },
     "execution_count": 12,
     "metadata": {},
     "output_type": "execute_result"
    }
   ],
   "source": [
    "indp = np.where((clf.predict_proba(X_test)[:,1]<0.5) & (clf.predict_proba(X_test)[:,1]>0.4))\n",
    "indp"
   ]
  },
  {
   "cell_type": "code",
   "execution_count": 13,
   "metadata": {},
   "outputs": [
    {
     "data": {
      "text/plain": [
       "(array([  9,  11,  16,  18,  29,  44,  51,  52,  55,  64,  65,  68,  71,\n",
       "         72,  74,  75,  76,  79,  80,  81,  94, 106, 108, 114, 131, 132,\n",
       "        141, 150, 152, 162, 164, 171, 173, 193, 209, 210, 212, 224, 232,\n",
       "        236, 243, 245, 257, 261, 266, 270, 271, 273, 279, 303, 306, 307,\n",
       "        314, 315, 324, 327, 329, 350, 357, 361, 362, 370, 372, 378, 380]),)"
      ]
     },
     "execution_count": 13,
     "metadata": {},
     "output_type": "execute_result"
    }
   ],
   "source": [
    "indn = np.where((clf.predict_proba(X_test)[:,1]<0.7) & (clf.predict_proba(X_test)[:,1]>0.5))\n",
    "indn"
   ]
  },
  {
   "cell_type": "code",
   "execution_count": 14,
   "metadata": {},
   "outputs": [
    {
     "name": "stderr",
     "output_type": "stream",
     "text": [
      "100%|██████████| 10/10 [00:45<00:00,  4.54s/it]\n"
     ]
    }
   ],
   "source": [
    "idx_test = 315\n",
    "\n",
    "ga = GAdvExample(feature_names=feature_names,\n",
    "                sol_per_pop=30, num_parents_mating=15, cat_vars_ohe=one_hot,\n",
    "                 num_generations=100, n_runs=10, black_list=None,\n",
    "                 verbose=False, beta=.96)\n",
    "\n",
    "x_all, x_changes, x_sucess = ga.attack(clf, x=X_test[idx_test,:],x_train=X_train)"
   ]
  },
  {
   "cell_type": "code",
   "execution_count": 15,
   "metadata": {},
   "outputs": [
    {
     "data": {
      "text/html": [
       "<style  type=\"text/css\" >\n",
       "    #T_5a7b9a80_c38c_11ea_bc50_a3fa918fd41crow1_col27 {\n",
       "            background-color:  darkorange;\n",
       "        }    #T_5a7b9a80_c38c_11ea_bc50_a3fa918fd41crow1_col30 {\n",
       "            background-color:  darkorange;\n",
       "        }    #T_5a7b9a80_c38c_11ea_bc50_a3fa918fd41crow1_col61 {\n",
       "            background-color:  darkorange;\n",
       "        }    #T_5a7b9a80_c38c_11ea_bc50_a3fa918fd41crow1_col62 {\n",
       "            background-color:  darkorange;\n",
       "        }    #T_5a7b9a80_c38c_11ea_bc50_a3fa918fd41crow2_col47 {\n",
       "            background-color:  darkorange;\n",
       "        }    #T_5a7b9a80_c38c_11ea_bc50_a3fa918fd41crow2_col48 {\n",
       "            background-color:  darkorange;\n",
       "        }    #T_5a7b9a80_c38c_11ea_bc50_a3fa918fd41crow2_col61 {\n",
       "            background-color:  darkorange;\n",
       "        }    #T_5a7b9a80_c38c_11ea_bc50_a3fa918fd41crow2_col62 {\n",
       "            background-color:  darkorange;\n",
       "        }    #T_5a7b9a80_c38c_11ea_bc50_a3fa918fd41crow3_col2 {\n",
       "            background-color:  darkorange;\n",
       "        }    #T_5a7b9a80_c38c_11ea_bc50_a3fa918fd41crow3_col47 {\n",
       "            background-color:  darkorange;\n",
       "        }    #T_5a7b9a80_c38c_11ea_bc50_a3fa918fd41crow3_col48 {\n",
       "            background-color:  darkorange;\n",
       "        }    #T_5a7b9a80_c38c_11ea_bc50_a3fa918fd41crow3_col61 {\n",
       "            background-color:  darkorange;\n",
       "        }    #T_5a7b9a80_c38c_11ea_bc50_a3fa918fd41crow3_col62 {\n",
       "            background-color:  darkorange;\n",
       "        }</style><table id=\"T_5a7b9a80_c38c_11ea_bc50_a3fa918fd41c\" ><thead>    <tr>        <th class=\"blank level0\" ></th>        <th class=\"col_heading level0 col0\" >duration_in_month</th>        <th class=\"col_heading level0 col1\" >credit_amount</th>        <th class=\"col_heading level0 col2\" >installment_as_income_perc</th>        <th class=\"col_heading level0 col3\" >present_res_since</th>        <th class=\"col_heading level0 col4\" >age</th>        <th class=\"col_heading level0 col5\" >credits_this_bank</th>        <th class=\"col_heading level0 col6\" >people_under_maintenance</th>        <th class=\"col_heading level0 col7\" >account_check_status_0 <= ... < 200 DM</th>        <th class=\"col_heading level0 col8\" >account_check_status_< 0 DM</th>        <th class=\"col_heading level0 col9\" >account_check_status_>= 200 DM / salary assignments for at least 1 year</th>        <th class=\"col_heading level0 col10\" >account_check_status_no checking account</th>        <th class=\"col_heading level0 col11\" >credit_history_all credits at this bank paid back duly</th>        <th class=\"col_heading level0 col12\" >credit_history_critical account/ other credits existing (not at this bank)</th>        <th class=\"col_heading level0 col13\" >credit_history_delay in paying off in the past</th>        <th class=\"col_heading level0 col14\" >credit_history_existing credits paid back duly till now</th>        <th class=\"col_heading level0 col15\" >credit_history_no credits taken/ all credits paid back duly</th>        <th class=\"col_heading level0 col16\" >purpose_(vacation - does not exist?)</th>        <th class=\"col_heading level0 col17\" >purpose_business</th>        <th class=\"col_heading level0 col18\" >purpose_car (new)</th>        <th class=\"col_heading level0 col19\" >purpose_car (used)</th>        <th class=\"col_heading level0 col20\" >purpose_domestic appliances</th>        <th class=\"col_heading level0 col21\" >purpose_education</th>        <th class=\"col_heading level0 col22\" >purpose_furniture/equipment</th>        <th class=\"col_heading level0 col23\" >purpose_radio/television</th>        <th class=\"col_heading level0 col24\" >purpose_repairs</th>        <th class=\"col_heading level0 col25\" >purpose_retraining</th>        <th class=\"col_heading level0 col26\" >savings_.. >= 1000 DM </th>        <th class=\"col_heading level0 col27\" >savings_... < 100 DM</th>        <th class=\"col_heading level0 col28\" >savings_100 <= ... < 500 DM</th>        <th class=\"col_heading level0 col29\" >savings_500 <= ... < 1000 DM </th>        <th class=\"col_heading level0 col30\" >savings_unknown/ no savings account</th>        <th class=\"col_heading level0 col31\" >present_emp_since_.. >= 7 years</th>        <th class=\"col_heading level0 col32\" >present_emp_since_... < 1 year </th>        <th class=\"col_heading level0 col33\" >present_emp_since_1 <= ... < 4 years</th>        <th class=\"col_heading level0 col34\" >present_emp_since_4 <= ... < 7 years</th>        <th class=\"col_heading level0 col35\" >present_emp_since_unemployed</th>        <th class=\"col_heading level0 col36\" >personal_status_sex_female : divorced/separated/married</th>        <th class=\"col_heading level0 col37\" >personal_status_sex_male : divorced/separated</th>        <th class=\"col_heading level0 col38\" >personal_status_sex_male : married/widowed</th>        <th class=\"col_heading level0 col39\" >personal_status_sex_male : single</th>        <th class=\"col_heading level0 col40\" >other_debtors_co-applicant</th>        <th class=\"col_heading level0 col41\" >other_debtors_guarantor</th>        <th class=\"col_heading level0 col42\" >other_debtors_none</th>        <th class=\"col_heading level0 col43\" >property_if not A121 : building society savings agreement/ life insurance</th>        <th class=\"col_heading level0 col44\" >property_if not A121/A122 : car or other, not in attribute 6</th>        <th class=\"col_heading level0 col45\" >property_real estate</th>        <th class=\"col_heading level0 col46\" >property_unknown / no property</th>        <th class=\"col_heading level0 col47\" >other_installment_plans_bank</th>        <th class=\"col_heading level0 col48\" >other_installment_plans_none</th>        <th class=\"col_heading level0 col49\" >other_installment_plans_stores</th>        <th class=\"col_heading level0 col50\" >housing_for free</th>        <th class=\"col_heading level0 col51\" >housing_own</th>        <th class=\"col_heading level0 col52\" >housing_rent</th>        <th class=\"col_heading level0 col53\" >job_management/ self-employed/ highly qualified employee/ officer</th>        <th class=\"col_heading level0 col54\" >job_skilled employee / official</th>        <th class=\"col_heading level0 col55\" >job_unemployed/ unskilled - non-resident</th>        <th class=\"col_heading level0 col56\" >job_unskilled - resident</th>        <th class=\"col_heading level0 col57\" >telephone_none</th>        <th class=\"col_heading level0 col58\" >telephone_yes, registered under the customers name </th>        <th class=\"col_heading level0 col59\" >foreign_worker_no</th>        <th class=\"col_heading level0 col60\" >foreign_worker_yes</th>        <th class=\"col_heading level0 col61\" >P0</th>        <th class=\"col_heading level0 col62\" >P1</th>    </tr></thead><tbody>\n",
       "                <tr>\n",
       "                        <th id=\"T_5a7b9a80_c38c_11ea_bc50_a3fa918fd41clevel0_row0\" class=\"row_heading level0 row0\" >0</th>\n",
       "                        <td id=\"T_5a7b9a80_c38c_11ea_bc50_a3fa918fd41crow0_col0\" class=\"data row0 col0\" >48.000000</td>\n",
       "                        <td id=\"T_5a7b9a80_c38c_11ea_bc50_a3fa918fd41crow0_col1\" class=\"data row0 col1\" >6110.000000</td>\n",
       "                        <td id=\"T_5a7b9a80_c38c_11ea_bc50_a3fa918fd41crow0_col2\" class=\"data row0 col2\" >1.000000</td>\n",
       "                        <td id=\"T_5a7b9a80_c38c_11ea_bc50_a3fa918fd41crow0_col3\" class=\"data row0 col3\" >3.000000</td>\n",
       "                        <td id=\"T_5a7b9a80_c38c_11ea_bc50_a3fa918fd41crow0_col4\" class=\"data row0 col4\" >31.000000</td>\n",
       "                        <td id=\"T_5a7b9a80_c38c_11ea_bc50_a3fa918fd41crow0_col5\" class=\"data row0 col5\" >1.000000</td>\n",
       "                        <td id=\"T_5a7b9a80_c38c_11ea_bc50_a3fa918fd41crow0_col6\" class=\"data row0 col6\" >1.000000</td>\n",
       "                        <td id=\"T_5a7b9a80_c38c_11ea_bc50_a3fa918fd41crow0_col7\" class=\"data row0 col7\" >0.000000</td>\n",
       "                        <td id=\"T_5a7b9a80_c38c_11ea_bc50_a3fa918fd41crow0_col8\" class=\"data row0 col8\" >0.000000</td>\n",
       "                        <td id=\"T_5a7b9a80_c38c_11ea_bc50_a3fa918fd41crow0_col9\" class=\"data row0 col9\" >0.000000</td>\n",
       "                        <td id=\"T_5a7b9a80_c38c_11ea_bc50_a3fa918fd41crow0_col10\" class=\"data row0 col10\" >1.000000</td>\n",
       "                        <td id=\"T_5a7b9a80_c38c_11ea_bc50_a3fa918fd41crow0_col11\" class=\"data row0 col11\" >0.000000</td>\n",
       "                        <td id=\"T_5a7b9a80_c38c_11ea_bc50_a3fa918fd41crow0_col12\" class=\"data row0 col12\" >1.000000</td>\n",
       "                        <td id=\"T_5a7b9a80_c38c_11ea_bc50_a3fa918fd41crow0_col13\" class=\"data row0 col13\" >0.000000</td>\n",
       "                        <td id=\"T_5a7b9a80_c38c_11ea_bc50_a3fa918fd41crow0_col14\" class=\"data row0 col14\" >0.000000</td>\n",
       "                        <td id=\"T_5a7b9a80_c38c_11ea_bc50_a3fa918fd41crow0_col15\" class=\"data row0 col15\" >0.000000</td>\n",
       "                        <td id=\"T_5a7b9a80_c38c_11ea_bc50_a3fa918fd41crow0_col16\" class=\"data row0 col16\" >1.000000</td>\n",
       "                        <td id=\"T_5a7b9a80_c38c_11ea_bc50_a3fa918fd41crow0_col17\" class=\"data row0 col17\" >0.000000</td>\n",
       "                        <td id=\"T_5a7b9a80_c38c_11ea_bc50_a3fa918fd41crow0_col18\" class=\"data row0 col18\" >0.000000</td>\n",
       "                        <td id=\"T_5a7b9a80_c38c_11ea_bc50_a3fa918fd41crow0_col19\" class=\"data row0 col19\" >0.000000</td>\n",
       "                        <td id=\"T_5a7b9a80_c38c_11ea_bc50_a3fa918fd41crow0_col20\" class=\"data row0 col20\" >0.000000</td>\n",
       "                        <td id=\"T_5a7b9a80_c38c_11ea_bc50_a3fa918fd41crow0_col21\" class=\"data row0 col21\" >0.000000</td>\n",
       "                        <td id=\"T_5a7b9a80_c38c_11ea_bc50_a3fa918fd41crow0_col22\" class=\"data row0 col22\" >0.000000</td>\n",
       "                        <td id=\"T_5a7b9a80_c38c_11ea_bc50_a3fa918fd41crow0_col23\" class=\"data row0 col23\" >0.000000</td>\n",
       "                        <td id=\"T_5a7b9a80_c38c_11ea_bc50_a3fa918fd41crow0_col24\" class=\"data row0 col24\" >0.000000</td>\n",
       "                        <td id=\"T_5a7b9a80_c38c_11ea_bc50_a3fa918fd41crow0_col25\" class=\"data row0 col25\" >0.000000</td>\n",
       "                        <td id=\"T_5a7b9a80_c38c_11ea_bc50_a3fa918fd41crow0_col26\" class=\"data row0 col26\" >0.000000</td>\n",
       "                        <td id=\"T_5a7b9a80_c38c_11ea_bc50_a3fa918fd41crow0_col27\" class=\"data row0 col27\" >1.000000</td>\n",
       "                        <td id=\"T_5a7b9a80_c38c_11ea_bc50_a3fa918fd41crow0_col28\" class=\"data row0 col28\" >0.000000</td>\n",
       "                        <td id=\"T_5a7b9a80_c38c_11ea_bc50_a3fa918fd41crow0_col29\" class=\"data row0 col29\" >0.000000</td>\n",
       "                        <td id=\"T_5a7b9a80_c38c_11ea_bc50_a3fa918fd41crow0_col30\" class=\"data row0 col30\" >0.000000</td>\n",
       "                        <td id=\"T_5a7b9a80_c38c_11ea_bc50_a3fa918fd41crow0_col31\" class=\"data row0 col31\" >0.000000</td>\n",
       "                        <td id=\"T_5a7b9a80_c38c_11ea_bc50_a3fa918fd41crow0_col32\" class=\"data row0 col32\" >0.000000</td>\n",
       "                        <td id=\"T_5a7b9a80_c38c_11ea_bc50_a3fa918fd41crow0_col33\" class=\"data row0 col33\" >1.000000</td>\n",
       "                        <td id=\"T_5a7b9a80_c38c_11ea_bc50_a3fa918fd41crow0_col34\" class=\"data row0 col34\" >0.000000</td>\n",
       "                        <td id=\"T_5a7b9a80_c38c_11ea_bc50_a3fa918fd41crow0_col35\" class=\"data row0 col35\" >0.000000</td>\n",
       "                        <td id=\"T_5a7b9a80_c38c_11ea_bc50_a3fa918fd41crow0_col36\" class=\"data row0 col36\" >0.000000</td>\n",
       "                        <td id=\"T_5a7b9a80_c38c_11ea_bc50_a3fa918fd41crow0_col37\" class=\"data row0 col37\" >0.000000</td>\n",
       "                        <td id=\"T_5a7b9a80_c38c_11ea_bc50_a3fa918fd41crow0_col38\" class=\"data row0 col38\" >0.000000</td>\n",
       "                        <td id=\"T_5a7b9a80_c38c_11ea_bc50_a3fa918fd41crow0_col39\" class=\"data row0 col39\" >1.000000</td>\n",
       "                        <td id=\"T_5a7b9a80_c38c_11ea_bc50_a3fa918fd41crow0_col40\" class=\"data row0 col40\" >0.000000</td>\n",
       "                        <td id=\"T_5a7b9a80_c38c_11ea_bc50_a3fa918fd41crow0_col41\" class=\"data row0 col41\" >0.000000</td>\n",
       "                        <td id=\"T_5a7b9a80_c38c_11ea_bc50_a3fa918fd41crow0_col42\" class=\"data row0 col42\" >1.000000</td>\n",
       "                        <td id=\"T_5a7b9a80_c38c_11ea_bc50_a3fa918fd41crow0_col43\" class=\"data row0 col43\" >0.000000</td>\n",
       "                        <td id=\"T_5a7b9a80_c38c_11ea_bc50_a3fa918fd41crow0_col44\" class=\"data row0 col44\" >0.000000</td>\n",
       "                        <td id=\"T_5a7b9a80_c38c_11ea_bc50_a3fa918fd41crow0_col45\" class=\"data row0 col45\" >0.000000</td>\n",
       "                        <td id=\"T_5a7b9a80_c38c_11ea_bc50_a3fa918fd41crow0_col46\" class=\"data row0 col46\" >1.000000</td>\n",
       "                        <td id=\"T_5a7b9a80_c38c_11ea_bc50_a3fa918fd41crow0_col47\" class=\"data row0 col47\" >1.000000</td>\n",
       "                        <td id=\"T_5a7b9a80_c38c_11ea_bc50_a3fa918fd41crow0_col48\" class=\"data row0 col48\" >0.000000</td>\n",
       "                        <td id=\"T_5a7b9a80_c38c_11ea_bc50_a3fa918fd41crow0_col49\" class=\"data row0 col49\" >0.000000</td>\n",
       "                        <td id=\"T_5a7b9a80_c38c_11ea_bc50_a3fa918fd41crow0_col50\" class=\"data row0 col50\" >1.000000</td>\n",
       "                        <td id=\"T_5a7b9a80_c38c_11ea_bc50_a3fa918fd41crow0_col51\" class=\"data row0 col51\" >0.000000</td>\n",
       "                        <td id=\"T_5a7b9a80_c38c_11ea_bc50_a3fa918fd41crow0_col52\" class=\"data row0 col52\" >0.000000</td>\n",
       "                        <td id=\"T_5a7b9a80_c38c_11ea_bc50_a3fa918fd41crow0_col53\" class=\"data row0 col53\" >0.000000</td>\n",
       "                        <td id=\"T_5a7b9a80_c38c_11ea_bc50_a3fa918fd41crow0_col54\" class=\"data row0 col54\" >1.000000</td>\n",
       "                        <td id=\"T_5a7b9a80_c38c_11ea_bc50_a3fa918fd41crow0_col55\" class=\"data row0 col55\" >0.000000</td>\n",
       "                        <td id=\"T_5a7b9a80_c38c_11ea_bc50_a3fa918fd41crow0_col56\" class=\"data row0 col56\" >0.000000</td>\n",
       "                        <td id=\"T_5a7b9a80_c38c_11ea_bc50_a3fa918fd41crow0_col57\" class=\"data row0 col57\" >0.000000</td>\n",
       "                        <td id=\"T_5a7b9a80_c38c_11ea_bc50_a3fa918fd41crow0_col58\" class=\"data row0 col58\" >1.000000</td>\n",
       "                        <td id=\"T_5a7b9a80_c38c_11ea_bc50_a3fa918fd41crow0_col59\" class=\"data row0 col59\" >0.000000</td>\n",
       "                        <td id=\"T_5a7b9a80_c38c_11ea_bc50_a3fa918fd41crow0_col60\" class=\"data row0 col60\" >1.000000</td>\n",
       "                        <td id=\"T_5a7b9a80_c38c_11ea_bc50_a3fa918fd41crow0_col61\" class=\"data row0 col61\" >0.370000</td>\n",
       "                        <td id=\"T_5a7b9a80_c38c_11ea_bc50_a3fa918fd41crow0_col62\" class=\"data row0 col62\" >0.630000</td>\n",
       "            </tr>\n",
       "            <tr>\n",
       "                        <th id=\"T_5a7b9a80_c38c_11ea_bc50_a3fa918fd41clevel0_row1\" class=\"row_heading level0 row1\" >1</th>\n",
       "                        <td id=\"T_5a7b9a80_c38c_11ea_bc50_a3fa918fd41crow1_col0\" class=\"data row1 col0\" >48.000000</td>\n",
       "                        <td id=\"T_5a7b9a80_c38c_11ea_bc50_a3fa918fd41crow1_col1\" class=\"data row1 col1\" >6110.000000</td>\n",
       "                        <td id=\"T_5a7b9a80_c38c_11ea_bc50_a3fa918fd41crow1_col2\" class=\"data row1 col2\" >1.000000</td>\n",
       "                        <td id=\"T_5a7b9a80_c38c_11ea_bc50_a3fa918fd41crow1_col3\" class=\"data row1 col3\" >3.000000</td>\n",
       "                        <td id=\"T_5a7b9a80_c38c_11ea_bc50_a3fa918fd41crow1_col4\" class=\"data row1 col4\" >31.000000</td>\n",
       "                        <td id=\"T_5a7b9a80_c38c_11ea_bc50_a3fa918fd41crow1_col5\" class=\"data row1 col5\" >1.000000</td>\n",
       "                        <td id=\"T_5a7b9a80_c38c_11ea_bc50_a3fa918fd41crow1_col6\" class=\"data row1 col6\" >1.000000</td>\n",
       "                        <td id=\"T_5a7b9a80_c38c_11ea_bc50_a3fa918fd41crow1_col7\" class=\"data row1 col7\" >0.000000</td>\n",
       "                        <td id=\"T_5a7b9a80_c38c_11ea_bc50_a3fa918fd41crow1_col8\" class=\"data row1 col8\" >0.000000</td>\n",
       "                        <td id=\"T_5a7b9a80_c38c_11ea_bc50_a3fa918fd41crow1_col9\" class=\"data row1 col9\" >0.000000</td>\n",
       "                        <td id=\"T_5a7b9a80_c38c_11ea_bc50_a3fa918fd41crow1_col10\" class=\"data row1 col10\" >1.000000</td>\n",
       "                        <td id=\"T_5a7b9a80_c38c_11ea_bc50_a3fa918fd41crow1_col11\" class=\"data row1 col11\" >0.000000</td>\n",
       "                        <td id=\"T_5a7b9a80_c38c_11ea_bc50_a3fa918fd41crow1_col12\" class=\"data row1 col12\" >1.000000</td>\n",
       "                        <td id=\"T_5a7b9a80_c38c_11ea_bc50_a3fa918fd41crow1_col13\" class=\"data row1 col13\" >0.000000</td>\n",
       "                        <td id=\"T_5a7b9a80_c38c_11ea_bc50_a3fa918fd41crow1_col14\" class=\"data row1 col14\" >0.000000</td>\n",
       "                        <td id=\"T_5a7b9a80_c38c_11ea_bc50_a3fa918fd41crow1_col15\" class=\"data row1 col15\" >0.000000</td>\n",
       "                        <td id=\"T_5a7b9a80_c38c_11ea_bc50_a3fa918fd41crow1_col16\" class=\"data row1 col16\" >1.000000</td>\n",
       "                        <td id=\"T_5a7b9a80_c38c_11ea_bc50_a3fa918fd41crow1_col17\" class=\"data row1 col17\" >0.000000</td>\n",
       "                        <td id=\"T_5a7b9a80_c38c_11ea_bc50_a3fa918fd41crow1_col18\" class=\"data row1 col18\" >0.000000</td>\n",
       "                        <td id=\"T_5a7b9a80_c38c_11ea_bc50_a3fa918fd41crow1_col19\" class=\"data row1 col19\" >0.000000</td>\n",
       "                        <td id=\"T_5a7b9a80_c38c_11ea_bc50_a3fa918fd41crow1_col20\" class=\"data row1 col20\" >0.000000</td>\n",
       "                        <td id=\"T_5a7b9a80_c38c_11ea_bc50_a3fa918fd41crow1_col21\" class=\"data row1 col21\" >0.000000</td>\n",
       "                        <td id=\"T_5a7b9a80_c38c_11ea_bc50_a3fa918fd41crow1_col22\" class=\"data row1 col22\" >0.000000</td>\n",
       "                        <td id=\"T_5a7b9a80_c38c_11ea_bc50_a3fa918fd41crow1_col23\" class=\"data row1 col23\" >0.000000</td>\n",
       "                        <td id=\"T_5a7b9a80_c38c_11ea_bc50_a3fa918fd41crow1_col24\" class=\"data row1 col24\" >0.000000</td>\n",
       "                        <td id=\"T_5a7b9a80_c38c_11ea_bc50_a3fa918fd41crow1_col25\" class=\"data row1 col25\" >0.000000</td>\n",
       "                        <td id=\"T_5a7b9a80_c38c_11ea_bc50_a3fa918fd41crow1_col26\" class=\"data row1 col26\" >0.000000</td>\n",
       "                        <td id=\"T_5a7b9a80_c38c_11ea_bc50_a3fa918fd41crow1_col27\" class=\"data row1 col27\" >0.000000</td>\n",
       "                        <td id=\"T_5a7b9a80_c38c_11ea_bc50_a3fa918fd41crow1_col28\" class=\"data row1 col28\" >0.000000</td>\n",
       "                        <td id=\"T_5a7b9a80_c38c_11ea_bc50_a3fa918fd41crow1_col29\" class=\"data row1 col29\" >0.000000</td>\n",
       "                        <td id=\"T_5a7b9a80_c38c_11ea_bc50_a3fa918fd41crow1_col30\" class=\"data row1 col30\" >1.000000</td>\n",
       "                        <td id=\"T_5a7b9a80_c38c_11ea_bc50_a3fa918fd41crow1_col31\" class=\"data row1 col31\" >0.000000</td>\n",
       "                        <td id=\"T_5a7b9a80_c38c_11ea_bc50_a3fa918fd41crow1_col32\" class=\"data row1 col32\" >0.000000</td>\n",
       "                        <td id=\"T_5a7b9a80_c38c_11ea_bc50_a3fa918fd41crow1_col33\" class=\"data row1 col33\" >1.000000</td>\n",
       "                        <td id=\"T_5a7b9a80_c38c_11ea_bc50_a3fa918fd41crow1_col34\" class=\"data row1 col34\" >0.000000</td>\n",
       "                        <td id=\"T_5a7b9a80_c38c_11ea_bc50_a3fa918fd41crow1_col35\" class=\"data row1 col35\" >0.000000</td>\n",
       "                        <td id=\"T_5a7b9a80_c38c_11ea_bc50_a3fa918fd41crow1_col36\" class=\"data row1 col36\" >0.000000</td>\n",
       "                        <td id=\"T_5a7b9a80_c38c_11ea_bc50_a3fa918fd41crow1_col37\" class=\"data row1 col37\" >0.000000</td>\n",
       "                        <td id=\"T_5a7b9a80_c38c_11ea_bc50_a3fa918fd41crow1_col38\" class=\"data row1 col38\" >0.000000</td>\n",
       "                        <td id=\"T_5a7b9a80_c38c_11ea_bc50_a3fa918fd41crow1_col39\" class=\"data row1 col39\" >1.000000</td>\n",
       "                        <td id=\"T_5a7b9a80_c38c_11ea_bc50_a3fa918fd41crow1_col40\" class=\"data row1 col40\" >0.000000</td>\n",
       "                        <td id=\"T_5a7b9a80_c38c_11ea_bc50_a3fa918fd41crow1_col41\" class=\"data row1 col41\" >0.000000</td>\n",
       "                        <td id=\"T_5a7b9a80_c38c_11ea_bc50_a3fa918fd41crow1_col42\" class=\"data row1 col42\" >1.000000</td>\n",
       "                        <td id=\"T_5a7b9a80_c38c_11ea_bc50_a3fa918fd41crow1_col43\" class=\"data row1 col43\" >0.000000</td>\n",
       "                        <td id=\"T_5a7b9a80_c38c_11ea_bc50_a3fa918fd41crow1_col44\" class=\"data row1 col44\" >0.000000</td>\n",
       "                        <td id=\"T_5a7b9a80_c38c_11ea_bc50_a3fa918fd41crow1_col45\" class=\"data row1 col45\" >0.000000</td>\n",
       "                        <td id=\"T_5a7b9a80_c38c_11ea_bc50_a3fa918fd41crow1_col46\" class=\"data row1 col46\" >1.000000</td>\n",
       "                        <td id=\"T_5a7b9a80_c38c_11ea_bc50_a3fa918fd41crow1_col47\" class=\"data row1 col47\" >1.000000</td>\n",
       "                        <td id=\"T_5a7b9a80_c38c_11ea_bc50_a3fa918fd41crow1_col48\" class=\"data row1 col48\" >0.000000</td>\n",
       "                        <td id=\"T_5a7b9a80_c38c_11ea_bc50_a3fa918fd41crow1_col49\" class=\"data row1 col49\" >0.000000</td>\n",
       "                        <td id=\"T_5a7b9a80_c38c_11ea_bc50_a3fa918fd41crow1_col50\" class=\"data row1 col50\" >1.000000</td>\n",
       "                        <td id=\"T_5a7b9a80_c38c_11ea_bc50_a3fa918fd41crow1_col51\" class=\"data row1 col51\" >0.000000</td>\n",
       "                        <td id=\"T_5a7b9a80_c38c_11ea_bc50_a3fa918fd41crow1_col52\" class=\"data row1 col52\" >0.000000</td>\n",
       "                        <td id=\"T_5a7b9a80_c38c_11ea_bc50_a3fa918fd41crow1_col53\" class=\"data row1 col53\" >0.000000</td>\n",
       "                        <td id=\"T_5a7b9a80_c38c_11ea_bc50_a3fa918fd41crow1_col54\" class=\"data row1 col54\" >1.000000</td>\n",
       "                        <td id=\"T_5a7b9a80_c38c_11ea_bc50_a3fa918fd41crow1_col55\" class=\"data row1 col55\" >0.000000</td>\n",
       "                        <td id=\"T_5a7b9a80_c38c_11ea_bc50_a3fa918fd41crow1_col56\" class=\"data row1 col56\" >0.000000</td>\n",
       "                        <td id=\"T_5a7b9a80_c38c_11ea_bc50_a3fa918fd41crow1_col57\" class=\"data row1 col57\" >0.000000</td>\n",
       "                        <td id=\"T_5a7b9a80_c38c_11ea_bc50_a3fa918fd41crow1_col58\" class=\"data row1 col58\" >1.000000</td>\n",
       "                        <td id=\"T_5a7b9a80_c38c_11ea_bc50_a3fa918fd41crow1_col59\" class=\"data row1 col59\" >0.000000</td>\n",
       "                        <td id=\"T_5a7b9a80_c38c_11ea_bc50_a3fa918fd41crow1_col60\" class=\"data row1 col60\" >1.000000</td>\n",
       "                        <td id=\"T_5a7b9a80_c38c_11ea_bc50_a3fa918fd41crow1_col61\" class=\"data row1 col61\" >0.570000</td>\n",
       "                        <td id=\"T_5a7b9a80_c38c_11ea_bc50_a3fa918fd41crow1_col62\" class=\"data row1 col62\" >0.430000</td>\n",
       "            </tr>\n",
       "            <tr>\n",
       "                        <th id=\"T_5a7b9a80_c38c_11ea_bc50_a3fa918fd41clevel0_row2\" class=\"row_heading level0 row2\" >2</th>\n",
       "                        <td id=\"T_5a7b9a80_c38c_11ea_bc50_a3fa918fd41crow2_col0\" class=\"data row2 col0\" >48.000000</td>\n",
       "                        <td id=\"T_5a7b9a80_c38c_11ea_bc50_a3fa918fd41crow2_col1\" class=\"data row2 col1\" >6110.000000</td>\n",
       "                        <td id=\"T_5a7b9a80_c38c_11ea_bc50_a3fa918fd41crow2_col2\" class=\"data row2 col2\" >1.000000</td>\n",
       "                        <td id=\"T_5a7b9a80_c38c_11ea_bc50_a3fa918fd41crow2_col3\" class=\"data row2 col3\" >3.000000</td>\n",
       "                        <td id=\"T_5a7b9a80_c38c_11ea_bc50_a3fa918fd41crow2_col4\" class=\"data row2 col4\" >31.000000</td>\n",
       "                        <td id=\"T_5a7b9a80_c38c_11ea_bc50_a3fa918fd41crow2_col5\" class=\"data row2 col5\" >1.000000</td>\n",
       "                        <td id=\"T_5a7b9a80_c38c_11ea_bc50_a3fa918fd41crow2_col6\" class=\"data row2 col6\" >1.000000</td>\n",
       "                        <td id=\"T_5a7b9a80_c38c_11ea_bc50_a3fa918fd41crow2_col7\" class=\"data row2 col7\" >0.000000</td>\n",
       "                        <td id=\"T_5a7b9a80_c38c_11ea_bc50_a3fa918fd41crow2_col8\" class=\"data row2 col8\" >0.000000</td>\n",
       "                        <td id=\"T_5a7b9a80_c38c_11ea_bc50_a3fa918fd41crow2_col9\" class=\"data row2 col9\" >0.000000</td>\n",
       "                        <td id=\"T_5a7b9a80_c38c_11ea_bc50_a3fa918fd41crow2_col10\" class=\"data row2 col10\" >1.000000</td>\n",
       "                        <td id=\"T_5a7b9a80_c38c_11ea_bc50_a3fa918fd41crow2_col11\" class=\"data row2 col11\" >0.000000</td>\n",
       "                        <td id=\"T_5a7b9a80_c38c_11ea_bc50_a3fa918fd41crow2_col12\" class=\"data row2 col12\" >1.000000</td>\n",
       "                        <td id=\"T_5a7b9a80_c38c_11ea_bc50_a3fa918fd41crow2_col13\" class=\"data row2 col13\" >0.000000</td>\n",
       "                        <td id=\"T_5a7b9a80_c38c_11ea_bc50_a3fa918fd41crow2_col14\" class=\"data row2 col14\" >0.000000</td>\n",
       "                        <td id=\"T_5a7b9a80_c38c_11ea_bc50_a3fa918fd41crow2_col15\" class=\"data row2 col15\" >0.000000</td>\n",
       "                        <td id=\"T_5a7b9a80_c38c_11ea_bc50_a3fa918fd41crow2_col16\" class=\"data row2 col16\" >1.000000</td>\n",
       "                        <td id=\"T_5a7b9a80_c38c_11ea_bc50_a3fa918fd41crow2_col17\" class=\"data row2 col17\" >0.000000</td>\n",
       "                        <td id=\"T_5a7b9a80_c38c_11ea_bc50_a3fa918fd41crow2_col18\" class=\"data row2 col18\" >0.000000</td>\n",
       "                        <td id=\"T_5a7b9a80_c38c_11ea_bc50_a3fa918fd41crow2_col19\" class=\"data row2 col19\" >0.000000</td>\n",
       "                        <td id=\"T_5a7b9a80_c38c_11ea_bc50_a3fa918fd41crow2_col20\" class=\"data row2 col20\" >0.000000</td>\n",
       "                        <td id=\"T_5a7b9a80_c38c_11ea_bc50_a3fa918fd41crow2_col21\" class=\"data row2 col21\" >0.000000</td>\n",
       "                        <td id=\"T_5a7b9a80_c38c_11ea_bc50_a3fa918fd41crow2_col22\" class=\"data row2 col22\" >0.000000</td>\n",
       "                        <td id=\"T_5a7b9a80_c38c_11ea_bc50_a3fa918fd41crow2_col23\" class=\"data row2 col23\" >0.000000</td>\n",
       "                        <td id=\"T_5a7b9a80_c38c_11ea_bc50_a3fa918fd41crow2_col24\" class=\"data row2 col24\" >0.000000</td>\n",
       "                        <td id=\"T_5a7b9a80_c38c_11ea_bc50_a3fa918fd41crow2_col25\" class=\"data row2 col25\" >0.000000</td>\n",
       "                        <td id=\"T_5a7b9a80_c38c_11ea_bc50_a3fa918fd41crow2_col26\" class=\"data row2 col26\" >0.000000</td>\n",
       "                        <td id=\"T_5a7b9a80_c38c_11ea_bc50_a3fa918fd41crow2_col27\" class=\"data row2 col27\" >1.000000</td>\n",
       "                        <td id=\"T_5a7b9a80_c38c_11ea_bc50_a3fa918fd41crow2_col28\" class=\"data row2 col28\" >0.000000</td>\n",
       "                        <td id=\"T_5a7b9a80_c38c_11ea_bc50_a3fa918fd41crow2_col29\" class=\"data row2 col29\" >0.000000</td>\n",
       "                        <td id=\"T_5a7b9a80_c38c_11ea_bc50_a3fa918fd41crow2_col30\" class=\"data row2 col30\" >0.000000</td>\n",
       "                        <td id=\"T_5a7b9a80_c38c_11ea_bc50_a3fa918fd41crow2_col31\" class=\"data row2 col31\" >0.000000</td>\n",
       "                        <td id=\"T_5a7b9a80_c38c_11ea_bc50_a3fa918fd41crow2_col32\" class=\"data row2 col32\" >0.000000</td>\n",
       "                        <td id=\"T_5a7b9a80_c38c_11ea_bc50_a3fa918fd41crow2_col33\" class=\"data row2 col33\" >1.000000</td>\n",
       "                        <td id=\"T_5a7b9a80_c38c_11ea_bc50_a3fa918fd41crow2_col34\" class=\"data row2 col34\" >0.000000</td>\n",
       "                        <td id=\"T_5a7b9a80_c38c_11ea_bc50_a3fa918fd41crow2_col35\" class=\"data row2 col35\" >0.000000</td>\n",
       "                        <td id=\"T_5a7b9a80_c38c_11ea_bc50_a3fa918fd41crow2_col36\" class=\"data row2 col36\" >0.000000</td>\n",
       "                        <td id=\"T_5a7b9a80_c38c_11ea_bc50_a3fa918fd41crow2_col37\" class=\"data row2 col37\" >0.000000</td>\n",
       "                        <td id=\"T_5a7b9a80_c38c_11ea_bc50_a3fa918fd41crow2_col38\" class=\"data row2 col38\" >0.000000</td>\n",
       "                        <td id=\"T_5a7b9a80_c38c_11ea_bc50_a3fa918fd41crow2_col39\" class=\"data row2 col39\" >1.000000</td>\n",
       "                        <td id=\"T_5a7b9a80_c38c_11ea_bc50_a3fa918fd41crow2_col40\" class=\"data row2 col40\" >0.000000</td>\n",
       "                        <td id=\"T_5a7b9a80_c38c_11ea_bc50_a3fa918fd41crow2_col41\" class=\"data row2 col41\" >0.000000</td>\n",
       "                        <td id=\"T_5a7b9a80_c38c_11ea_bc50_a3fa918fd41crow2_col42\" class=\"data row2 col42\" >1.000000</td>\n",
       "                        <td id=\"T_5a7b9a80_c38c_11ea_bc50_a3fa918fd41crow2_col43\" class=\"data row2 col43\" >0.000000</td>\n",
       "                        <td id=\"T_5a7b9a80_c38c_11ea_bc50_a3fa918fd41crow2_col44\" class=\"data row2 col44\" >0.000000</td>\n",
       "                        <td id=\"T_5a7b9a80_c38c_11ea_bc50_a3fa918fd41crow2_col45\" class=\"data row2 col45\" >0.000000</td>\n",
       "                        <td id=\"T_5a7b9a80_c38c_11ea_bc50_a3fa918fd41crow2_col46\" class=\"data row2 col46\" >1.000000</td>\n",
       "                        <td id=\"T_5a7b9a80_c38c_11ea_bc50_a3fa918fd41crow2_col47\" class=\"data row2 col47\" >0.000000</td>\n",
       "                        <td id=\"T_5a7b9a80_c38c_11ea_bc50_a3fa918fd41crow2_col48\" class=\"data row2 col48\" >1.000000</td>\n",
       "                        <td id=\"T_5a7b9a80_c38c_11ea_bc50_a3fa918fd41crow2_col49\" class=\"data row2 col49\" >0.000000</td>\n",
       "                        <td id=\"T_5a7b9a80_c38c_11ea_bc50_a3fa918fd41crow2_col50\" class=\"data row2 col50\" >1.000000</td>\n",
       "                        <td id=\"T_5a7b9a80_c38c_11ea_bc50_a3fa918fd41crow2_col51\" class=\"data row2 col51\" >0.000000</td>\n",
       "                        <td id=\"T_5a7b9a80_c38c_11ea_bc50_a3fa918fd41crow2_col52\" class=\"data row2 col52\" >0.000000</td>\n",
       "                        <td id=\"T_5a7b9a80_c38c_11ea_bc50_a3fa918fd41crow2_col53\" class=\"data row2 col53\" >0.000000</td>\n",
       "                        <td id=\"T_5a7b9a80_c38c_11ea_bc50_a3fa918fd41crow2_col54\" class=\"data row2 col54\" >1.000000</td>\n",
       "                        <td id=\"T_5a7b9a80_c38c_11ea_bc50_a3fa918fd41crow2_col55\" class=\"data row2 col55\" >0.000000</td>\n",
       "                        <td id=\"T_5a7b9a80_c38c_11ea_bc50_a3fa918fd41crow2_col56\" class=\"data row2 col56\" >0.000000</td>\n",
       "                        <td id=\"T_5a7b9a80_c38c_11ea_bc50_a3fa918fd41crow2_col57\" class=\"data row2 col57\" >0.000000</td>\n",
       "                        <td id=\"T_5a7b9a80_c38c_11ea_bc50_a3fa918fd41crow2_col58\" class=\"data row2 col58\" >1.000000</td>\n",
       "                        <td id=\"T_5a7b9a80_c38c_11ea_bc50_a3fa918fd41crow2_col59\" class=\"data row2 col59\" >0.000000</td>\n",
       "                        <td id=\"T_5a7b9a80_c38c_11ea_bc50_a3fa918fd41crow2_col60\" class=\"data row2 col60\" >1.000000</td>\n",
       "                        <td id=\"T_5a7b9a80_c38c_11ea_bc50_a3fa918fd41crow2_col61\" class=\"data row2 col61\" >0.600000</td>\n",
       "                        <td id=\"T_5a7b9a80_c38c_11ea_bc50_a3fa918fd41crow2_col62\" class=\"data row2 col62\" >0.400000</td>\n",
       "            </tr>\n",
       "            <tr>\n",
       "                        <th id=\"T_5a7b9a80_c38c_11ea_bc50_a3fa918fd41clevel0_row3\" class=\"row_heading level0 row3\" >7</th>\n",
       "                        <td id=\"T_5a7b9a80_c38c_11ea_bc50_a3fa918fd41crow3_col0\" class=\"data row3 col0\" >48.000000</td>\n",
       "                        <td id=\"T_5a7b9a80_c38c_11ea_bc50_a3fa918fd41crow3_col1\" class=\"data row3 col1\" >6110.000000</td>\n",
       "                        <td id=\"T_5a7b9a80_c38c_11ea_bc50_a3fa918fd41crow3_col2\" class=\"data row3 col2\" >2.000000</td>\n",
       "                        <td id=\"T_5a7b9a80_c38c_11ea_bc50_a3fa918fd41crow3_col3\" class=\"data row3 col3\" >3.000000</td>\n",
       "                        <td id=\"T_5a7b9a80_c38c_11ea_bc50_a3fa918fd41crow3_col4\" class=\"data row3 col4\" >31.000000</td>\n",
       "                        <td id=\"T_5a7b9a80_c38c_11ea_bc50_a3fa918fd41crow3_col5\" class=\"data row3 col5\" >1.000000</td>\n",
       "                        <td id=\"T_5a7b9a80_c38c_11ea_bc50_a3fa918fd41crow3_col6\" class=\"data row3 col6\" >1.000000</td>\n",
       "                        <td id=\"T_5a7b9a80_c38c_11ea_bc50_a3fa918fd41crow3_col7\" class=\"data row3 col7\" >0.000000</td>\n",
       "                        <td id=\"T_5a7b9a80_c38c_11ea_bc50_a3fa918fd41crow3_col8\" class=\"data row3 col8\" >0.000000</td>\n",
       "                        <td id=\"T_5a7b9a80_c38c_11ea_bc50_a3fa918fd41crow3_col9\" class=\"data row3 col9\" >0.000000</td>\n",
       "                        <td id=\"T_5a7b9a80_c38c_11ea_bc50_a3fa918fd41crow3_col10\" class=\"data row3 col10\" >1.000000</td>\n",
       "                        <td id=\"T_5a7b9a80_c38c_11ea_bc50_a3fa918fd41crow3_col11\" class=\"data row3 col11\" >0.000000</td>\n",
       "                        <td id=\"T_5a7b9a80_c38c_11ea_bc50_a3fa918fd41crow3_col12\" class=\"data row3 col12\" >1.000000</td>\n",
       "                        <td id=\"T_5a7b9a80_c38c_11ea_bc50_a3fa918fd41crow3_col13\" class=\"data row3 col13\" >0.000000</td>\n",
       "                        <td id=\"T_5a7b9a80_c38c_11ea_bc50_a3fa918fd41crow3_col14\" class=\"data row3 col14\" >0.000000</td>\n",
       "                        <td id=\"T_5a7b9a80_c38c_11ea_bc50_a3fa918fd41crow3_col15\" class=\"data row3 col15\" >0.000000</td>\n",
       "                        <td id=\"T_5a7b9a80_c38c_11ea_bc50_a3fa918fd41crow3_col16\" class=\"data row3 col16\" >1.000000</td>\n",
       "                        <td id=\"T_5a7b9a80_c38c_11ea_bc50_a3fa918fd41crow3_col17\" class=\"data row3 col17\" >0.000000</td>\n",
       "                        <td id=\"T_5a7b9a80_c38c_11ea_bc50_a3fa918fd41crow3_col18\" class=\"data row3 col18\" >0.000000</td>\n",
       "                        <td id=\"T_5a7b9a80_c38c_11ea_bc50_a3fa918fd41crow3_col19\" class=\"data row3 col19\" >0.000000</td>\n",
       "                        <td id=\"T_5a7b9a80_c38c_11ea_bc50_a3fa918fd41crow3_col20\" class=\"data row3 col20\" >0.000000</td>\n",
       "                        <td id=\"T_5a7b9a80_c38c_11ea_bc50_a3fa918fd41crow3_col21\" class=\"data row3 col21\" >0.000000</td>\n",
       "                        <td id=\"T_5a7b9a80_c38c_11ea_bc50_a3fa918fd41crow3_col22\" class=\"data row3 col22\" >0.000000</td>\n",
       "                        <td id=\"T_5a7b9a80_c38c_11ea_bc50_a3fa918fd41crow3_col23\" class=\"data row3 col23\" >0.000000</td>\n",
       "                        <td id=\"T_5a7b9a80_c38c_11ea_bc50_a3fa918fd41crow3_col24\" class=\"data row3 col24\" >0.000000</td>\n",
       "                        <td id=\"T_5a7b9a80_c38c_11ea_bc50_a3fa918fd41crow3_col25\" class=\"data row3 col25\" >0.000000</td>\n",
       "                        <td id=\"T_5a7b9a80_c38c_11ea_bc50_a3fa918fd41crow3_col26\" class=\"data row3 col26\" >0.000000</td>\n",
       "                        <td id=\"T_5a7b9a80_c38c_11ea_bc50_a3fa918fd41crow3_col27\" class=\"data row3 col27\" >1.000000</td>\n",
       "                        <td id=\"T_5a7b9a80_c38c_11ea_bc50_a3fa918fd41crow3_col28\" class=\"data row3 col28\" >0.000000</td>\n",
       "                        <td id=\"T_5a7b9a80_c38c_11ea_bc50_a3fa918fd41crow3_col29\" class=\"data row3 col29\" >0.000000</td>\n",
       "                        <td id=\"T_5a7b9a80_c38c_11ea_bc50_a3fa918fd41crow3_col30\" class=\"data row3 col30\" >0.000000</td>\n",
       "                        <td id=\"T_5a7b9a80_c38c_11ea_bc50_a3fa918fd41crow3_col31\" class=\"data row3 col31\" >0.000000</td>\n",
       "                        <td id=\"T_5a7b9a80_c38c_11ea_bc50_a3fa918fd41crow3_col32\" class=\"data row3 col32\" >0.000000</td>\n",
       "                        <td id=\"T_5a7b9a80_c38c_11ea_bc50_a3fa918fd41crow3_col33\" class=\"data row3 col33\" >1.000000</td>\n",
       "                        <td id=\"T_5a7b9a80_c38c_11ea_bc50_a3fa918fd41crow3_col34\" class=\"data row3 col34\" >0.000000</td>\n",
       "                        <td id=\"T_5a7b9a80_c38c_11ea_bc50_a3fa918fd41crow3_col35\" class=\"data row3 col35\" >0.000000</td>\n",
       "                        <td id=\"T_5a7b9a80_c38c_11ea_bc50_a3fa918fd41crow3_col36\" class=\"data row3 col36\" >0.000000</td>\n",
       "                        <td id=\"T_5a7b9a80_c38c_11ea_bc50_a3fa918fd41crow3_col37\" class=\"data row3 col37\" >0.000000</td>\n",
       "                        <td id=\"T_5a7b9a80_c38c_11ea_bc50_a3fa918fd41crow3_col38\" class=\"data row3 col38\" >0.000000</td>\n",
       "                        <td id=\"T_5a7b9a80_c38c_11ea_bc50_a3fa918fd41crow3_col39\" class=\"data row3 col39\" >1.000000</td>\n",
       "                        <td id=\"T_5a7b9a80_c38c_11ea_bc50_a3fa918fd41crow3_col40\" class=\"data row3 col40\" >0.000000</td>\n",
       "                        <td id=\"T_5a7b9a80_c38c_11ea_bc50_a3fa918fd41crow3_col41\" class=\"data row3 col41\" >0.000000</td>\n",
       "                        <td id=\"T_5a7b9a80_c38c_11ea_bc50_a3fa918fd41crow3_col42\" class=\"data row3 col42\" >1.000000</td>\n",
       "                        <td id=\"T_5a7b9a80_c38c_11ea_bc50_a3fa918fd41crow3_col43\" class=\"data row3 col43\" >0.000000</td>\n",
       "                        <td id=\"T_5a7b9a80_c38c_11ea_bc50_a3fa918fd41crow3_col44\" class=\"data row3 col44\" >0.000000</td>\n",
       "                        <td id=\"T_5a7b9a80_c38c_11ea_bc50_a3fa918fd41crow3_col45\" class=\"data row3 col45\" >0.000000</td>\n",
       "                        <td id=\"T_5a7b9a80_c38c_11ea_bc50_a3fa918fd41crow3_col46\" class=\"data row3 col46\" >1.000000</td>\n",
       "                        <td id=\"T_5a7b9a80_c38c_11ea_bc50_a3fa918fd41crow3_col47\" class=\"data row3 col47\" >0.000000</td>\n",
       "                        <td id=\"T_5a7b9a80_c38c_11ea_bc50_a3fa918fd41crow3_col48\" class=\"data row3 col48\" >1.000000</td>\n",
       "                        <td id=\"T_5a7b9a80_c38c_11ea_bc50_a3fa918fd41crow3_col49\" class=\"data row3 col49\" >0.000000</td>\n",
       "                        <td id=\"T_5a7b9a80_c38c_11ea_bc50_a3fa918fd41crow3_col50\" class=\"data row3 col50\" >1.000000</td>\n",
       "                        <td id=\"T_5a7b9a80_c38c_11ea_bc50_a3fa918fd41crow3_col51\" class=\"data row3 col51\" >0.000000</td>\n",
       "                        <td id=\"T_5a7b9a80_c38c_11ea_bc50_a3fa918fd41crow3_col52\" class=\"data row3 col52\" >0.000000</td>\n",
       "                        <td id=\"T_5a7b9a80_c38c_11ea_bc50_a3fa918fd41crow3_col53\" class=\"data row3 col53\" >0.000000</td>\n",
       "                        <td id=\"T_5a7b9a80_c38c_11ea_bc50_a3fa918fd41crow3_col54\" class=\"data row3 col54\" >1.000000</td>\n",
       "                        <td id=\"T_5a7b9a80_c38c_11ea_bc50_a3fa918fd41crow3_col55\" class=\"data row3 col55\" >0.000000</td>\n",
       "                        <td id=\"T_5a7b9a80_c38c_11ea_bc50_a3fa918fd41crow3_col56\" class=\"data row3 col56\" >0.000000</td>\n",
       "                        <td id=\"T_5a7b9a80_c38c_11ea_bc50_a3fa918fd41crow3_col57\" class=\"data row3 col57\" >0.000000</td>\n",
       "                        <td id=\"T_5a7b9a80_c38c_11ea_bc50_a3fa918fd41crow3_col58\" class=\"data row3 col58\" >1.000000</td>\n",
       "                        <td id=\"T_5a7b9a80_c38c_11ea_bc50_a3fa918fd41crow3_col59\" class=\"data row3 col59\" >0.000000</td>\n",
       "                        <td id=\"T_5a7b9a80_c38c_11ea_bc50_a3fa918fd41crow3_col60\" class=\"data row3 col60\" >1.000000</td>\n",
       "                        <td id=\"T_5a7b9a80_c38c_11ea_bc50_a3fa918fd41crow3_col61\" class=\"data row3 col61\" >0.580000</td>\n",
       "                        <td id=\"T_5a7b9a80_c38c_11ea_bc50_a3fa918fd41crow3_col62\" class=\"data row3 col62\" >0.420000</td>\n",
       "            </tr>\n",
       "    </tbody></table>"
      ],
      "text/plain": [
       "<pandas.io.formats.style.Styler at 0x7fd19694c4d0>"
      ]
     },
     "execution_count": 15,
     "metadata": {},
     "output_type": "execute_result"
    }
   ],
   "source": [
    "ga.results"
   ]
  },
  {
   "cell_type": "code",
   "execution_count": 16,
   "metadata": {},
   "outputs": [
    {
     "data": {
      "image/png": "[encoded data removed]",
      "text/plain": [
       "<Figure size 360x360 with 1 Axes>"
      ]
     },
     "metadata": {},
     "output_type": "display_data"
    }
   ],
   "source": [
    "plot_graph(x_changes, 0)"
   ]
  },
  {
   "cell_type": "code",
   "execution_count": 23,
   "metadata": {},
   "outputs": [
    {
     "name": "stderr",
     "output_type": "stream",
     "text": [
      "100%|██████████| 2/2 [00:26<00:00, 13.13s/it]\n",
      "  0%|          | 0/2 [00:00<?, ?it/s]"
     ]
    },
    {
     "name": "stdout",
     "output_type": "stream",
     "text": [
      "0 2\n"
     ]
    },
    {
     "name": "stderr",
     "output_type": "stream",
     "text": [
      "100%|██████████| 2/2 [00:19<00:00,  9.72s/it]\n",
      "  0%|          | 0/2 [00:00<?, ?it/s]"
     ]
    },
    {
     "name": "stdout",
     "output_type": "stream",
     "text": [
      "1 2\n"
     ]
    },
    {
     "name": "stderr",
     "output_type": "stream",
     "text": [
      "100%|██████████| 2/2 [00:11<00:00,  5.79s/it]\n",
      "  0%|          | 0/2 [00:00<?, ?it/s]"
     ]
    },
    {
     "name": "stdout",
     "output_type": "stream",
     "text": [
      "2 2\n"
     ]
    },
    {
     "name": "stderr",
     "output_type": "stream",
     "text": [
      "100%|██████████| 2/2 [00:09<00:00,  4.51s/it]\n",
      "  0%|          | 0/2 [00:00<?, ?it/s]"
     ]
    },
    {
     "name": "stdout",
     "output_type": "stream",
     "text": [
      "3 2\n"
     ]
    },
    {
     "name": "stderr",
     "output_type": "stream",
     "text": [
      "100%|██████████| 2/2 [00:36<00:00, 18.39s/it]\n",
      "  0%|          | 0/2 [00:00<?, ?it/s]"
     ]
    },
    {
     "name": "stdout",
     "output_type": "stream",
     "text": [
      "4 2\n"
     ]
    },
    {
     "name": "stderr",
     "output_type": "stream",
     "text": [
      "100%|██████████| 2/2 [00:31<00:00, 15.64s/it]\n",
      "  0%|          | 0/2 [00:00<?, ?it/s]"
     ]
    },
    {
     "name": "stdout",
     "output_type": "stream",
     "text": [
      "5 2\n"
     ]
    },
    {
     "name": "stderr",
     "output_type": "stream",
     "text": [
      "100%|██████████| 2/2 [00:21<00:00, 10.77s/it]\n",
      "  0%|          | 0/2 [00:00<?, ?it/s]"
     ]
    },
    {
     "name": "stdout",
     "output_type": "stream",
     "text": [
      "6 2\n"
     ]
    },
    {
     "name": "stderr",
     "output_type": "stream",
     "text": [
      "100%|██████████| 2/2 [00:31<00:00, 15.73s/it]\n",
      "  0%|          | 0/2 [00:00<?, ?it/s]"
     ]
    },
    {
     "name": "stdout",
     "output_type": "stream",
     "text": [
      "7 2\n"
     ]
    },
    {
     "name": "stderr",
     "output_type": "stream",
     "text": [
      "100%|██████████| 2/2 [00:35<00:00, 17.95s/it]\n",
      "  0%|          | 0/2 [00:00<?, ?it/s]"
     ]
    },
    {
     "name": "stdout",
     "output_type": "stream",
     "text": [
      "8 2\n"
     ]
    },
    {
     "name": "stderr",
     "output_type": "stream",
     "text": [
      "100%|██████████| 2/2 [00:12<00:00,  6.21s/it]\n",
      "  0%|          | 0/2 [00:00<?, ?it/s]"
     ]
    },
    {
     "name": "stdout",
     "output_type": "stream",
     "text": [
      "9 2\n"
     ]
    },
    {
     "name": "stderr",
     "output_type": "stream",
     "text": [
      "100%|██████████| 2/2 [00:00<00:00,  4.11it/s]\n",
      "  0%|          | 0/2 [00:00<?, ?it/s]"
     ]
    },
    {
     "name": "stdout",
     "output_type": "stream",
     "text": [
      "10 2\n"
     ]
    },
    {
     "name": "stderr",
     "output_type": "stream",
     "text": [
      "100%|██████████| 2/2 [00:11<00:00,  5.56s/it]\n",
      "  0%|          | 0/2 [00:00<?, ?it/s]"
     ]
    },
    {
     "name": "stdout",
     "output_type": "stream",
     "text": [
      "11 2\n"
     ]
    },
    {
     "name": "stderr",
     "output_type": "stream",
     "text": [
      "100%|██████████| 2/2 [00:26<00:00, 13.13s/it]\n",
      "  0%|          | 0/2 [00:00<?, ?it/s]"
     ]
    },
    {
     "name": "stdout",
     "output_type": "stream",
     "text": [
      "12 2\n"
     ]
    },
    {
     "name": "stderr",
     "output_type": "stream",
     "text": [
      "100%|██████████| 2/2 [00:00<00:00,  4.66it/s]\n",
      "  0%|          | 0/2 [00:00<?, ?it/s]"
     ]
    },
    {
     "name": "stdout",
     "output_type": "stream",
     "text": [
      "13 2\n"
     ]
    },
    {
     "name": "stderr",
     "output_type": "stream",
     "text": [
      "100%|██████████| 2/2 [00:39<00:00, 19.90s/it]\n",
      "  0%|          | 0/2 [00:00<?, ?it/s]"
     ]
    },
    {
     "name": "stdout",
     "output_type": "stream",
     "text": [
      "14 2\n"
     ]
    },
    {
     "name": "stderr",
     "output_type": "stream",
     "text": [
      "100%|██████████| 2/2 [00:00<00:00,  4.36it/s]\n",
      "  0%|          | 0/2 [00:00<?, ?it/s]"
     ]
    },
    {
     "name": "stdout",
     "output_type": "stream",
     "text": [
      "15 2\n"
     ]
    },
    {
     "name": "stderr",
     "output_type": "stream",
     "text": [
      "100%|██████████| 2/2 [00:34<00:00, 17.23s/it]\n",
      "  0%|          | 0/2 [00:00<?, ?it/s]"
     ]
    },
    {
     "name": "stdout",
     "output_type": "stream",
     "text": [
      "16 2\n"
     ]
    },
    {
     "name": "stderr",
     "output_type": "stream",
     "text": [
      "100%|██████████| 2/2 [00:19<00:00,  9.79s/it]\n",
      "  0%|          | 0/2 [00:00<?, ?it/s]"
     ]
    },
    {
     "name": "stdout",
     "output_type": "stream",
     "text": [
      "17 2\n"
     ]
    },
    {
     "name": "stderr",
     "output_type": "stream",
     "text": [
      "100%|██████████| 2/2 [00:26<00:00, 13.26s/it]\n",
      "  0%|          | 0/2 [00:00<?, ?it/s]"
     ]
    },
    {
     "name": "stdout",
     "output_type": "stream",
     "text": [
      "18 2\n"
     ]
    },
    {
     "name": "stderr",
     "output_type": "stream",
     "text": [
      "100%|██████████| 2/2 [00:41<00:00, 20.95s/it]\n",
      "  0%|          | 0/2 [00:00<?, ?it/s]"
     ]
    },
    {
     "name": "stdout",
     "output_type": "stream",
     "text": [
      "19 2\n"
     ]
    },
    {
     "name": "stderr",
     "output_type": "stream",
     "text": [
      "100%|██████████| 2/2 [00:28<00:00, 14.44s/it]\n",
      "  0%|          | 0/2 [00:00<?, ?it/s]"
     ]
    },
    {
     "name": "stdout",
     "output_type": "stream",
     "text": [
      "20 2\n"
     ]
    },
    {
     "name": "stderr",
     "output_type": "stream",
     "text": [
      "100%|██████████| 2/2 [00:15<00:00,  7.69s/it]\n",
      "  0%|          | 0/2 [00:00<?, ?it/s]"
     ]
    },
    {
     "name": "stdout",
     "output_type": "stream",
     "text": [
      "21 2\n"
     ]
    },
    {
     "name": "stderr",
     "output_type": "stream",
     "text": [
      "100%|██████████| 2/2 [00:34<00:00, 17.38s/it]\n",
      "  0%|          | 0/2 [00:00<?, ?it/s]"
     ]
    },
    {
     "name": "stdout",
     "output_type": "stream",
     "text": [
      "22 2\n"
     ]
    },
    {
     "name": "stderr",
     "output_type": "stream",
     "text": [
      "100%|██████████| 2/2 [00:18<00:00,  9.39s/it]\n",
      "  0%|          | 0/2 [00:00<?, ?it/s]"
     ]
    },
    {
     "name": "stdout",
     "output_type": "stream",
     "text": [
      "23 2\n"
     ]
    },
    {
     "name": "stderr",
     "output_type": "stream",
     "text": [
      "100%|██████████| 2/2 [00:20<00:00, 10.15s/it]\n",
      "  0%|          | 0/2 [00:00<?, ?it/s]"
     ]
    },
    {
     "name": "stdout",
     "output_type": "stream",
     "text": [
      "24 2\n"
     ]
    },
    {
     "name": "stderr",
     "output_type": "stream",
     "text": [
      "100%|██████████| 2/2 [00:09<00:00,  4.56s/it]\n",
      "  0%|          | 0/2 [00:00<?, ?it/s]"
     ]
    },
    {
     "name": "stdout",
     "output_type": "stream",
     "text": [
      "25 2\n"
     ]
    },
    {
     "name": "stderr",
     "output_type": "stream",
     "text": [
      "100%|██████████| 2/2 [00:27<00:00, 13.77s/it]\n",
      "  0%|          | 0/2 [00:00<?, ?it/s]"
     ]
    },
    {
     "name": "stdout",
     "output_type": "stream",
     "text": [
      "26 2\n"
     ]
    },
    {
     "name": "stderr",
     "output_type": "stream",
     "text": [
      "100%|██████████| 2/2 [00:31<00:00, 15.95s/it]\n",
      "  0%|          | 0/2 [00:00<?, ?it/s]"
     ]
    },
    {
     "name": "stdout",
     "output_type": "stream",
     "text": [
      "27 2\n"
     ]
    },
    {
     "name": "stderr",
     "output_type": "stream",
     "text": [
      "100%|██████████| 2/2 [00:00<00:00,  4.34it/s]\n",
      "  0%|          | 0/2 [00:00<?, ?it/s]"
     ]
    },
    {
     "name": "stdout",
     "output_type": "stream",
     "text": [
      "28 2\n"
     ]
    },
    {
     "name": "stderr",
     "output_type": "stream",
     "text": [
      "100%|██████████| 2/2 [00:16<00:00,  8.03s/it]\n",
      "  0%|          | 0/2 [00:00<?, ?it/s]"
     ]
    },
    {
     "name": "stdout",
     "output_type": "stream",
     "text": [
      "29 2\n"
     ]
    },
    {
     "name": "stderr",
     "output_type": "stream",
     "text": [
      "100%|██████████| 2/2 [00:21<00:00, 10.61s/it]\n",
      "  0%|          | 0/2 [00:00<?, ?it/s]"
     ]
    },
    {
     "name": "stdout",
     "output_type": "stream",
     "text": [
      "30 2\n"
     ]
    },
    {
     "name": "stderr",
     "output_type": "stream",
     "text": [
      "100%|██████████| 2/2 [00:26<00:00, 13.30s/it]\n",
      "  0%|          | 0/2 [00:00<?, ?it/s]"
     ]
    },
    {
     "name": "stdout",
     "output_type": "stream",
     "text": [
      "31 2\n"
     ]
    },
    {
     "name": "stderr",
     "output_type": "stream",
     "text": [
      "100%|██████████| 2/2 [00:15<00:00,  7.80s/it]\n",
      "  0%|          | 0/2 [00:00<?, ?it/s]"
     ]
    },
    {
     "name": "stdout",
     "output_type": "stream",
     "text": [
      "32 2\n"
     ]
    },
    {
     "name": "stderr",
     "output_type": "stream",
     "text": [
      "100%|██████████| 2/2 [00:20<00:00, 10.44s/it]\n",
      "  0%|          | 0/2 [00:00<?, ?it/s]"
     ]
    },
    {
     "name": "stdout",
     "output_type": "stream",
     "text": [
      "33 2\n"
     ]
    },
    {
     "name": "stderr",
     "output_type": "stream",
     "text": [
      "100%|██████████| 2/2 [00:20<00:00, 10.43s/it]\n",
      "  0%|          | 0/2 [00:00<?, ?it/s]"
     ]
    },
    {
     "name": "stdout",
     "output_type": "stream",
     "text": [
      "34 2\n"
     ]
    },
    {
     "name": "stderr",
     "output_type": "stream",
     "text": [
      "100%|██████████| 2/2 [00:16<00:00,  8.27s/it]\n",
      "  0%|          | 0/2 [00:00<?, ?it/s]"
     ]
    },
    {
     "name": "stdout",
     "output_type": "stream",
     "text": [
      "35 2\n"
     ]
    },
    {
     "name": "stderr",
     "output_type": "stream",
     "text": [
      "100%|██████████| 2/2 [00:25<00:00, 12.92s/it]\n",
      "  0%|          | 0/2 [00:00<?, ?it/s]"
     ]
    },
    {
     "name": "stdout",
     "output_type": "stream",
     "text": [
      "36 2\n"
     ]
    },
    {
     "name": "stderr",
     "output_type": "stream",
     "text": [
      "100%|██████████| 2/2 [00:30<00:00, 15.39s/it]\n",
      "  0%|          | 0/2 [00:00<?, ?it/s]"
     ]
    },
    {
     "name": "stdout",
     "output_type": "stream",
     "text": [
      "37 2\n"
     ]
    },
    {
     "name": "stderr",
     "output_type": "stream",
     "text": [
      "100%|██████████| 2/2 [00:18<00:00,  9.37s/it]\n",
      "  0%|          | 0/2 [00:00<?, ?it/s]"
     ]
    },
    {
     "name": "stdout",
     "output_type": "stream",
     "text": [
      "38 2\n"
     ]
    },
    {
     "name": "stderr",
     "output_type": "stream",
     "text": [
      "100%|██████████| 2/2 [00:22<00:00, 11.39s/it]\n",
      "  0%|          | 0/2 [00:00<?, ?it/s]"
     ]
    },
    {
     "name": "stdout",
     "output_type": "stream",
     "text": [
      "39 2\n"
     ]
    },
    {
     "name": "stderr",
     "output_type": "stream",
     "text": [
      "100%|██████████| 2/2 [00:09<00:00,  4.53s/it]\n",
      "  0%|          | 0/2 [00:00<?, ?it/s]"
     ]
    },
    {
     "name": "stdout",
     "output_type": "stream",
     "text": [
      "40 2\n"
     ]
    },
    {
     "name": "stderr",
     "output_type": "stream",
     "text": [
      "100%|██████████| 2/2 [00:20<00:00, 10.45s/it]\n",
      "  0%|          | 0/2 [00:00<?, ?it/s]"
     ]
    },
    {
     "name": "stdout",
     "output_type": "stream",
     "text": [
      "41 2\n"
     ]
    },
    {
     "name": "stderr",
     "output_type": "stream",
     "text": [
      "100%|██████████| 2/2 [00:33<00:00, 16.78s/it]\n",
      "  0%|          | 0/2 [00:00<?, ?it/s]"
     ]
    },
    {
     "name": "stdout",
     "output_type": "stream",
     "text": [
      "42 2\n"
     ]
    },
    {
     "name": "stderr",
     "output_type": "stream",
     "text": [
      "100%|██████████| 2/2 [00:13<00:00,  6.92s/it]\n",
      "  0%|          | 0/2 [00:00<?, ?it/s]"
     ]
    },
    {
     "name": "stdout",
     "output_type": "stream",
     "text": [
      "43 2\n"
     ]
    },
    {
     "name": "stderr",
     "output_type": "stream",
     "text": [
      "100%|██████████| 2/2 [00:27<00:00, 13.97s/it]\n",
      "  0%|          | 0/2 [00:00<?, ?it/s]"
     ]
    },
    {
     "name": "stdout",
     "output_type": "stream",
     "text": [
      "44 2\n"
     ]
    },
    {
     "name": "stderr",
     "output_type": "stream",
     "text": [
      "100%|██████████| 2/2 [00:00<00:00,  4.07it/s]\n",
      "  0%|          | 0/2 [00:00<?, ?it/s]"
     ]
    },
    {
     "name": "stdout",
     "output_type": "stream",
     "text": [
      "45 2\n"
     ]
    },
    {
     "name": "stderr",
     "output_type": "stream",
     "text": [
      "100%|██████████| 2/2 [00:19<00:00,  9.86s/it]\n",
      "  0%|          | 0/2 [00:00<?, ?it/s]"
     ]
    },
    {
     "name": "stdout",
     "output_type": "stream",
     "text": [
      "46 2\n"
     ]
    },
    {
     "name": "stderr",
     "output_type": "stream",
     "text": [
      "100%|██████████| 2/2 [00:27<00:00, 13.75s/it]\n",
      "  0%|          | 0/2 [00:00<?, ?it/s]"
     ]
    },
    {
     "name": "stdout",
     "output_type": "stream",
     "text": [
      "47 2\n"
     ]
    },
    {
     "name": "stderr",
     "output_type": "stream",
     "text": [
      "100%|██████████| 2/2 [00:13<00:00,  6.97s/it]\n",
      "  0%|          | 0/2 [00:00<?, ?it/s]"
     ]
    },
    {
     "name": "stdout",
     "output_type": "stream",
     "text": [
      "48 2\n"
     ]
    },
    {
     "name": "stderr",
     "output_type": "stream",
     "text": [
      "100%|██████████| 2/2 [00:13<00:00,  6.86s/it]\n",
      "  0%|          | 0/2 [00:00<?, ?it/s]"
     ]
    },
    {
     "name": "stdout",
     "output_type": "stream",
     "text": [
      "49 2\n"
     ]
    },
    {
     "name": "stderr",
     "output_type": "stream",
     "text": [
      "100%|██████████| 2/2 [00:44<00:00, 22.04s/it]\n",
      "  0%|          | 0/2 [00:00<?, ?it/s]"
     ]
    },
    {
     "name": "stdout",
     "output_type": "stream",
     "text": [
      "50 2\n"
     ]
    },
    {
     "name": "stderr",
     "output_type": "stream",
     "text": [
      "100%|██████████| 2/2 [00:11<00:00,  5.64s/it]\n",
      "  0%|          | 0/2 [00:00<?, ?it/s]"
     ]
    },
    {
     "name": "stdout",
     "output_type": "stream",
     "text": [
      "51 2\n"
     ]
    },
    {
     "name": "stderr",
     "output_type": "stream",
     "text": [
      "100%|██████████| 2/2 [00:07<00:00,  3.64s/it]\n",
      "  0%|          | 0/2 [00:00<?, ?it/s]"
     ]
    },
    {
     "name": "stdout",
     "output_type": "stream",
     "text": [
      "52 2\n"
     ]
    },
    {
     "name": "stderr",
     "output_type": "stream",
     "text": [
      "100%|██████████| 2/2 [00:05<00:00,  2.65s/it]\n",
      "  0%|          | 0/2 [00:00<?, ?it/s]"
     ]
    },
    {
     "name": "stdout",
     "output_type": "stream",
     "text": [
      "53 2\n"
     ]
    },
    {
     "name": "stderr",
     "output_type": "stream",
     "text": [
      "100%|██████████| 2/2 [00:03<00:00,  1.97s/it]\n",
      "  0%|          | 0/2 [00:00<?, ?it/s]"
     ]
    },
    {
     "name": "stdout",
     "output_type": "stream",
     "text": [
      "54 2\n"
     ]
    },
    {
     "name": "stderr",
     "output_type": "stream",
     "text": [
      "100%|██████████| 2/2 [00:00<00:00,  4.02it/s]\n",
      "  0%|          | 0/2 [00:00<?, ?it/s]"
     ]
    },
    {
     "name": "stdout",
     "output_type": "stream",
     "text": [
      "55 2\n"
     ]
    },
    {
     "name": "stderr",
     "output_type": "stream",
     "text": [
      "100%|██████████| 2/2 [00:13<00:00,  6.98s/it]\n",
      "  0%|          | 0/2 [00:00<?, ?it/s]"
     ]
    },
    {
     "name": "stdout",
     "output_type": "stream",
     "text": [
      "56 2\n"
     ]
    },
    {
     "name": "stderr",
     "output_type": "stream",
     "text": [
      "100%|██████████| 2/2 [00:09<00:00,  4.50s/it]\n",
      "  0%|          | 0/2 [00:00<?, ?it/s]"
     ]
    },
    {
     "name": "stdout",
     "output_type": "stream",
     "text": [
      "57 2\n"
     ]
    },
    {
     "name": "stderr",
     "output_type": "stream",
     "text": [
      "100%|██████████| 2/2 [00:13<00:00,  6.81s/it]\n",
      "  0%|          | 0/2 [00:00<?, ?it/s]"
     ]
    },
    {
     "name": "stdout",
     "output_type": "stream",
     "text": [
      "58 2\n"
     ]
    },
    {
     "name": "stderr",
     "output_type": "stream",
     "text": [
      "100%|██████████| 2/2 [00:00<00:00,  4.40it/s]\n",
      "  0%|          | 0/2 [00:00<?, ?it/s]"
     ]
    },
    {
     "name": "stdout",
     "output_type": "stream",
     "text": [
      "59 2\n"
     ]
    },
    {
     "name": "stderr",
     "output_type": "stream",
     "text": [
      "100%|██████████| 2/2 [00:12<00:00,  6.18s/it]\n",
      "  0%|          | 0/2 [00:00<?, ?it/s]"
     ]
    },
    {
     "name": "stdout",
     "output_type": "stream",
     "text": [
      "60 2\n"
     ]
    },
    {
     "name": "stderr",
     "output_type": "stream",
     "text": [
      "100%|██████████| 2/2 [00:23<00:00, 11.94s/it]\n",
      "  0%|          | 0/2 [00:00<?, ?it/s]"
     ]
    },
    {
     "name": "stdout",
     "output_type": "stream",
     "text": [
      "61 2\n"
     ]
    },
    {
     "name": "stderr",
     "output_type": "stream",
     "text": [
      "100%|██████████| 2/2 [00:22<00:00, 11.39s/it]\n",
      "  0%|          | 0/2 [00:00<?, ?it/s]"
     ]
    },
    {
     "name": "stdout",
     "output_type": "stream",
     "text": [
      "62 2\n"
     ]
    },
    {
     "name": "stderr",
     "output_type": "stream",
     "text": [
      "100%|██████████| 2/2 [00:16<00:00,  8.26s/it]\n",
      "  0%|          | 0/2 [00:00<?, ?it/s]"
     ]
    },
    {
     "name": "stdout",
     "output_type": "stream",
     "text": [
      "63 2\n"
     ]
    },
    {
     "name": "stderr",
     "output_type": "stream",
     "text": [
      "100%|██████████| 2/2 [00:17<00:00,  8.69s/it]\n",
      "  0%|          | 0/2 [00:00<?, ?it/s]"
     ]
    },
    {
     "name": "stdout",
     "output_type": "stream",
     "text": [
      "64 2\n"
     ]
    },
    {
     "name": "stderr",
     "output_type": "stream",
     "text": [
      "100%|██████████| 2/2 [00:11<00:00,  5.67s/it]\n",
      "  0%|          | 0/2 [00:00<?, ?it/s]"
     ]
    },
    {
     "name": "stdout",
     "output_type": "stream",
     "text": [
      "65 2\n"
     ]
    },
    {
     "name": "stderr",
     "output_type": "stream",
     "text": [
      "100%|██████████| 2/2 [00:12<00:00,  6.14s/it]\n",
      "  0%|          | 0/2 [00:00<?, ?it/s]"
     ]
    },
    {
     "name": "stdout",
     "output_type": "stream",
     "text": [
      "66 2\n"
     ]
    },
    {
     "name": "stderr",
     "output_type": "stream",
     "text": [
      "100%|██████████| 2/2 [00:08<00:00,  4.13s/it]\n",
      "  0%|          | 0/2 [00:00<?, ?it/s]"
     ]
    },
    {
     "name": "stdout",
     "output_type": "stream",
     "text": [
      "67 2\n"
     ]
    },
    {
     "name": "stderr",
     "output_type": "stream",
     "text": [
      "100%|██████████| 2/2 [00:22<00:00, 11.32s/it]\n",
      "  0%|          | 0/2 [00:00<?, ?it/s]"
     ]
    },
    {
     "name": "stdout",
     "output_type": "stream",
     "text": [
      "68 2\n"
     ]
    },
    {
     "name": "stderr",
     "output_type": "stream",
     "text": [
      "100%|██████████| 2/2 [00:18<00:00,  9.16s/it]\n",
      "  0%|          | 0/2 [00:00<?, ?it/s]"
     ]
    },
    {
     "name": "stdout",
     "output_type": "stream",
     "text": [
      "69 2\n"
     ]
    },
    {
     "name": "stderr",
     "output_type": "stream",
     "text": [
      "100%|██████████| 2/2 [00:17<00:00,  8.54s/it]\n",
      "  0%|          | 0/2 [00:00<?, ?it/s]"
     ]
    },
    {
     "name": "stdout",
     "output_type": "stream",
     "text": [
      "70 2\n"
     ]
    },
    {
     "name": "stderr",
     "output_type": "stream",
     "text": [
      "100%|██████████| 2/2 [00:08<00:00,  4.04s/it]\n",
      "  0%|          | 0/2 [00:00<?, ?it/s]"
     ]
    },
    {
     "name": "stdout",
     "output_type": "stream",
     "text": [
      "71 2\n"
     ]
    },
    {
     "name": "stderr",
     "output_type": "stream",
     "text": [
      "100%|██████████| 2/2 [00:22<00:00, 11.03s/it]\n",
      "  0%|          | 0/2 [00:00<?, ?it/s]"
     ]
    },
    {
     "name": "stdout",
     "output_type": "stream",
     "text": [
      "72 2\n"
     ]
    },
    {
     "name": "stderr",
     "output_type": "stream",
     "text": [
      "100%|██████████| 2/2 [00:09<00:00,  4.70s/it]\n",
      "  0%|          | 0/2 [00:00<?, ?it/s]"
     ]
    },
    {
     "name": "stdout",
     "output_type": "stream",
     "text": [
      "73 2\n"
     ]
    },
    {
     "name": "stderr",
     "output_type": "stream",
     "text": [
      "100%|██████████| 2/2 [00:32<00:00, 16.26s/it]\n",
      "  0%|          | 0/2 [00:00<?, ?it/s]"
     ]
    },
    {
     "name": "stdout",
     "output_type": "stream",
     "text": [
      "74 2\n"
     ]
    },
    {
     "name": "stderr",
     "output_type": "stream",
     "text": [
      "100%|██████████| 2/2 [00:24<00:00, 12.01s/it]\n",
      "  0%|          | 0/2 [00:00<?, ?it/s]"
     ]
    },
    {
     "name": "stdout",
     "output_type": "stream",
     "text": [
      "75 2\n"
     ]
    },
    {
     "name": "stderr",
     "output_type": "stream",
     "text": [
      "100%|██████████| 2/2 [00:17<00:00,  8.60s/it]\n",
      "  0%|          | 0/2 [00:00<?, ?it/s]"
     ]
    },
    {
     "name": "stdout",
     "output_type": "stream",
     "text": [
      "76 2\n"
     ]
    },
    {
     "name": "stderr",
     "output_type": "stream",
     "text": [
      "100%|██████████| 2/2 [00:18<00:00,  9.27s/it]\n",
      "  0%|          | 0/2 [00:00<?, ?it/s]"
     ]
    },
    {
     "name": "stdout",
     "output_type": "stream",
     "text": [
      "77 2\n"
     ]
    },
    {
     "name": "stderr",
     "output_type": "stream",
     "text": [
      "100%|██████████| 2/2 [00:24<00:00, 12.20s/it]\n",
      "  0%|          | 0/2 [00:00<?, ?it/s]"
     ]
    },
    {
     "name": "stdout",
     "output_type": "stream",
     "text": [
      "78 2\n"
     ]
    },
    {
     "name": "stderr",
     "output_type": "stream",
     "text": [
      "100%|██████████| 2/2 [00:11<00:00,  5.88s/it]\n",
      "  0%|          | 0/2 [00:00<?, ?it/s]"
     ]
    },
    {
     "name": "stdout",
     "output_type": "stream",
     "text": [
      "79 2\n"
     ]
    },
    {
     "name": "stderr",
     "output_type": "stream",
     "text": [
      "100%|██████████| 2/2 [00:22<00:00, 11.02s/it]\n",
      "  0%|          | 0/2 [00:00<?, ?it/s]"
     ]
    },
    {
     "name": "stdout",
     "output_type": "stream",
     "text": [
      "80 2\n"
     ]
    },
    {
     "name": "stderr",
     "output_type": "stream",
     "text": [
      "100%|██████████| 2/2 [00:29<00:00, 14.61s/it]\n",
      "  0%|          | 0/2 [00:00<?, ?it/s]"
     ]
    },
    {
     "name": "stdout",
     "output_type": "stream",
     "text": [
      "81 2\n"
     ]
    },
    {
     "name": "stderr",
     "output_type": "stream",
     "text": [
      "100%|██████████| 2/2 [00:25<00:00, 12.82s/it]\n",
      "  0%|          | 0/2 [00:00<?, ?it/s]"
     ]
    },
    {
     "name": "stdout",
     "output_type": "stream",
     "text": [
      "82 2\n"
     ]
    },
    {
     "name": "stderr",
     "output_type": "stream",
     "text": [
      "100%|██████████| 2/2 [00:22<00:00, 11.34s/it]\n",
      "  0%|          | 0/2 [00:00<?, ?it/s]"
     ]
    },
    {
     "name": "stdout",
     "output_type": "stream",
     "text": [
      "83 2\n"
     ]
    },
    {
     "name": "stderr",
     "output_type": "stream",
     "text": [
      "100%|██████████| 2/2 [00:00<00:00,  4.25it/s]\n",
      "  0%|          | 0/2 [00:00<?, ?it/s]"
     ]
    },
    {
     "name": "stdout",
     "output_type": "stream",
     "text": [
      "84 2\n"
     ]
    },
    {
     "name": "stderr",
     "output_type": "stream",
     "text": [
      "100%|██████████| 2/2 [00:00<00:00,  4.18it/s]\n",
      "  0%|          | 0/2 [00:00<?, ?it/s]"
     ]
    },
    {
     "name": "stdout",
     "output_type": "stream",
     "text": [
      "85 2\n"
     ]
    },
    {
     "name": "stderr",
     "output_type": "stream",
     "text": [
      "100%|██████████| 2/2 [00:19<00:00,  9.98s/it]\n",
      "  0%|          | 0/2 [00:00<?, ?it/s]"
     ]
    },
    {
     "name": "stdout",
     "output_type": "stream",
     "text": [
      "86 2\n"
     ]
    },
    {
     "name": "stderr",
     "output_type": "stream",
     "text": [
      "100%|██████████| 2/2 [00:22<00:00, 11.27s/it]\n",
      "  0%|          | 0/2 [00:00<?, ?it/s]"
     ]
    },
    {
     "name": "stdout",
     "output_type": "stream",
     "text": [
      "87 2\n"
     ]
    },
    {
     "name": "stderr",
     "output_type": "stream",
     "text": [
      "100%|██████████| 2/2 [00:23<00:00, 11.69s/it]\n",
      "  0%|          | 0/2 [00:00<?, ?it/s]"
     ]
    },
    {
     "name": "stdout",
     "output_type": "stream",
     "text": [
      "88 2\n"
     ]
    },
    {
     "name": "stderr",
     "output_type": "stream",
     "text": [
      "100%|██████████| 2/2 [00:02<00:00,  1.24s/it]\n",
      "  0%|          | 0/2 [00:00<?, ?it/s]"
     ]
    },
    {
     "name": "stdout",
     "output_type": "stream",
     "text": [
      "89 2\n"
     ]
    },
    {
     "name": "stderr",
     "output_type": "stream",
     "text": [
      "100%|██████████| 2/2 [00:00<00:00,  4.29it/s]\n",
      "  0%|          | 0/2 [00:00<?, ?it/s]"
     ]
    },
    {
     "name": "stdout",
     "output_type": "stream",
     "text": [
      "90 2\n"
     ]
    },
    {
     "name": "stderr",
     "output_type": "stream",
     "text": [
      "100%|██████████| 2/2 [00:06<00:00,  3.44s/it]\n",
      "  0%|          | 0/2 [00:00<?, ?it/s]"
     ]
    },
    {
     "name": "stdout",
     "output_type": "stream",
     "text": [
      "91 2\n"
     ]
    },
    {
     "name": "stderr",
     "output_type": "stream",
     "text": [
      "100%|██████████| 2/2 [00:25<00:00, 12.97s/it]\n",
      "  0%|          | 0/2 [00:00<?, ?it/s]"
     ]
    },
    {
     "name": "stdout",
     "output_type": "stream",
     "text": [
      "92 2\n"
     ]
    },
    {
     "name": "stderr",
     "output_type": "stream",
     "text": [
      "100%|██████████| 2/2 [00:11<00:00,  5.62s/it]\n",
      "  0%|          | 0/2 [00:00<?, ?it/s]"
     ]
    },
    {
     "name": "stdout",
     "output_type": "stream",
     "text": [
      "93 2\n"
     ]
    },
    {
     "name": "stderr",
     "output_type": "stream",
     "text": [
      "100%|██████████| 2/2 [00:26<00:00, 13.24s/it]\n",
      "  0%|          | 0/2 [00:00<?, ?it/s]"
     ]
    },
    {
     "name": "stdout",
     "output_type": "stream",
     "text": [
      "94 2\n"
     ]
    },
    {
     "name": "stderr",
     "output_type": "stream",
     "text": [
      "100%|██████████| 2/2 [00:15<00:00,  7.54s/it]\n",
      "  0%|          | 0/2 [00:00<?, ?it/s]"
     ]
    },
    {
     "name": "stdout",
     "output_type": "stream",
     "text": [
      "95 2\n"
     ]
    },
    {
     "name": "stderr",
     "output_type": "stream",
     "text": [
      "100%|██████████| 2/2 [00:15<00:00,  7.52s/it]\n",
      "  0%|          | 0/2 [00:00<?, ?it/s]"
     ]
    },
    {
     "name": "stdout",
     "output_type": "stream",
     "text": [
      "96 2\n"
     ]
    },
    {
     "name": "stderr",
     "output_type": "stream",
     "text": [
      "100%|██████████| 2/2 [00:04<00:00,  2.43s/it]\n",
      "  0%|          | 0/2 [00:00<?, ?it/s]"
     ]
    },
    {
     "name": "stdout",
     "output_type": "stream",
     "text": [
      "97 2\n"
     ]
    },
    {
     "name": "stderr",
     "output_type": "stream",
     "text": [
      "100%|██████████| 2/2 [00:17<00:00,  8.53s/it]\n",
      "  0%|          | 0/2 [00:00<?, ?it/s]"
     ]
    },
    {
     "name": "stdout",
     "output_type": "stream",
     "text": [
      "98 2\n"
     ]
    },
    {
     "name": "stderr",
     "output_type": "stream",
     "text": [
      "100%|██████████| 2/2 [00:27<00:00, 13.60s/it]\n",
      "  0%|          | 0/2 [00:00<?, ?it/s]"
     ]
    },
    {
     "name": "stdout",
     "output_type": "stream",
     "text": [
      "99 2\n"
     ]
    },
    {
     "name": "stderr",
     "output_type": "stream",
     "text": [
      "100%|██████████| 2/2 [00:09<00:00,  4.77s/it]\n",
      "  0%|          | 0/2 [00:00<?, ?it/s]"
     ]
    },
    {
     "name": "stdout",
     "output_type": "stream",
     "text": [
      "100 2\n"
     ]
    },
    {
     "name": "stderr",
     "output_type": "stream",
     "text": [
      "100%|██████████| 2/2 [00:08<00:00,  4.01s/it]\n",
      "  0%|          | 0/2 [00:00<?, ?it/s]"
     ]
    },
    {
     "name": "stdout",
     "output_type": "stream",
     "text": [
      "101 2\n"
     ]
    },
    {
     "name": "stderr",
     "output_type": "stream",
     "text": [
      "100%|██████████| 2/2 [00:12<00:00,  6.16s/it]\n",
      "  0%|          | 0/2 [00:00<?, ?it/s]"
     ]
    },
    {
     "name": "stdout",
     "output_type": "stream",
     "text": [
      "102 2\n"
     ]
    },
    {
     "name": "stderr",
     "output_type": "stream",
     "text": [
      "100%|██████████| 2/2 [00:18<00:00,  9.23s/it]\n",
      "  0%|          | 0/2 [00:00<?, ?it/s]"
     ]
    },
    {
     "name": "stdout",
     "output_type": "stream",
     "text": [
      "103 2\n"
     ]
    },
    {
     "name": "stderr",
     "output_type": "stream",
     "text": [
      "100%|██████████| 2/2 [00:14<00:00,  7.43s/it]\n",
      "  0%|          | 0/2 [00:00<?, ?it/s]\n",
      "  0%|          | 0/2 [00:00<?, ?it/s]"
     ]
    },
    {
     "name": "stdout",
     "output_type": "stream",
     "text": [
      "104 2\n"
     ]
    },
    {
     "name": "stderr",
     "output_type": "stream",
     "text": [
      "100%|██████████| 2/2 [00:06<00:00,  3.21s/it]\n",
      "  0%|          | 0/2 [00:00<?, ?it/s]"
     ]
    },
    {
     "name": "stdout",
     "output_type": "stream",
     "text": [
      "106 2\n"
     ]
    },
    {
     "name": "stderr",
     "output_type": "stream",
     "text": [
      "100%|██████████| 2/2 [00:10<00:00,  5.01s/it]\n",
      "  0%|          | 0/2 [00:00<?, ?it/s]"
     ]
    },
    {
     "name": "stdout",
     "output_type": "stream",
     "text": [
      "107 2\n"
     ]
    },
    {
     "name": "stderr",
     "output_type": "stream",
     "text": [
      "100%|██████████| 2/2 [00:11<00:00,  5.76s/it]\n",
      "  0%|          | 0/2 [00:00<?, ?it/s]"
     ]
    },
    {
     "name": "stdout",
     "output_type": "stream",
     "text": [
      "108 2\n"
     ]
    },
    {
     "name": "stderr",
     "output_type": "stream",
     "text": [
      "100%|██████████| 2/2 [00:19<00:00,  9.95s/it]\n",
      "  0%|          | 0/2 [00:00<?, ?it/s]"
     ]
    },
    {
     "name": "stdout",
     "output_type": "stream",
     "text": [
      "109 2\n"
     ]
    },
    {
     "name": "stderr",
     "output_type": "stream",
     "text": [
      "100%|██████████| 2/2 [00:24<00:00, 12.47s/it]\n",
      "  0%|          | 0/2 [00:00<?, ?it/s]"
     ]
    },
    {
     "name": "stdout",
     "output_type": "stream",
     "text": [
      "110 2\n"
     ]
    },
    {
     "name": "stderr",
     "output_type": "stream",
     "text": [
      "100%|██████████| 2/2 [00:14<00:00,  7.41s/it]\n",
      "  0%|          | 0/2 [00:00<?, ?it/s]"
     ]
    },
    {
     "name": "stdout",
     "output_type": "stream",
     "text": [
      "111 2\n"
     ]
    },
    {
     "name": "stderr",
     "output_type": "stream",
     "text": [
      "100%|██████████| 2/2 [00:00<00:00,  4.12it/s]\n",
      "  0%|          | 0/2 [00:00<?, ?it/s]"
     ]
    },
    {
     "name": "stdout",
     "output_type": "stream",
     "text": [
      "112 2\n"
     ]
    },
    {
     "name": "stderr",
     "output_type": "stream",
     "text": [
      "100%|██████████| 2/2 [00:16<00:00,  8.45s/it]\n",
      "  0%|          | 0/2 [00:00<?, ?it/s]"
     ]
    },
    {
     "name": "stdout",
     "output_type": "stream",
     "text": [
      "113 2\n"
     ]
    },
    {
     "name": "stderr",
     "output_type": "stream",
     "text": [
      "100%|██████████| 2/2 [00:19<00:00,  9.57s/it]\n",
      "  0%|          | 0/2 [00:00<?, ?it/s]"
     ]
    },
    {
     "name": "stdout",
     "output_type": "stream",
     "text": [
      "114 2\n"
     ]
    },
    {
     "name": "stderr",
     "output_type": "stream",
     "text": [
      "100%|██████████| 2/2 [00:10<00:00,  5.09s/it]"
     ]
    },
    {
     "name": "stdout",
     "output_type": "stream",
     "text": [
      "115 2\n"
     ]
    },
    {
     "name": "stderr",
     "output_type": "stream",
     "text": [
      "\n"
     ]
    }
   ],
   "source": [
    "testing = []\n",
    "ga = GAdvExample(feature_names=feature_names,\n",
    "                sol_per_pop=35, num_parents_mating=15, cat_vars_ohe=one_hot,\n",
    "                 num_generations=200, n_runs=2, black_list=None,\n",
    "                 verbose=False, beta=.96)\n",
    "for it, sample in enumerate(X_test[np.c_[indp, indn][0]]):\n",
    "    try:\n",
    "        x_all, x_changes, x_sucess = ga.attack(clf, x=sample,x_train=X_train)\n",
    "        for xi in x_sucess:\n",
    "            testing.append((sample, xi))\n",
    "        print(it, len(x_sucess))\n",
    "    except:\n",
    "        pass"
   ]
  },
  {
   "cell_type": "code",
   "execution_count": 24,
   "metadata": {},
   "outputs": [],
   "source": [
    "pickle.dump(testing, open(\"testing_gb_4p.pkl\", \"wb\"))"
   ]
  },
  {
   "cell_type": "code",
   "execution_count": 25,
   "metadata": {},
   "outputs": [
    {
     "data": {
      "text/plain": [
       "230"
      ]
     },
     "execution_count": 25,
     "metadata": {},
     "output_type": "execute_result"
    }
   ],
   "source": [
    "len(testing)"
   ]
  },
  {
   "cell_type": "code",
   "execution_count": null,
   "metadata": {},
   "outputs": [],
   "source": []
  },
  {
   "cell_type": "code",
   "execution_count": null,
   "metadata": {},
   "outputs": [],
   "source": []
  },
  {
   "cell_type": "markdown",
   "metadata": {},
   "source": [
    "# Titanic"
   ]
  },
  {
   "cell_type": "code",
   "execution_count": null,
   "metadata": {},
   "outputs": [],
   "source": [
    "data = pd.read_csv('titanic.csv')\n",
    "data.head()"
   ]
  },
  {
   "cell_type": "code",
   "execution_count": null,
   "metadata": {},
   "outputs": [],
   "source": [
    "# from sklearn.datasets import load_breast_cancer\n",
    "# X,y = load_breast_cancer(True)\n",
    "# data = data.drop(['Name','Ticket','Cabin','Embarked','PassengerId'],axis=1)\n",
    "\n",
    "data = data.drop(['Name'], axis=1)\n",
    "data = data.dropna()\n",
    "X_df = data.drop(['Survived'],axis=1)\n",
    "y = data['Survived']\n",
    "\n",
    "for d in X_df.columns[X_df.dtypes=='O']:\n",
    "    le = LabelEncoder()    \n",
    "    X_df[d] = le.fit_transform(X_df[d])\n",
    "    print(d,\" .....   \",le.classes_)\n",
    "\n",
    "X = X_df.values\n",
    "y = y.values"
   ]
  },
  {
   "cell_type": "code",
   "execution_count": null,
   "metadata": {},
   "outputs": [],
   "source": [
    "X_train, X_test, y_train, y_test = train_test_split(X,y)"
   ]
  },
  {
   "cell_type": "code",
   "execution_count": null,
   "metadata": {},
   "outputs": [],
   "source": [
    "clf_titanic = RandomForestClassifier(n_estimators=10).fit(X_train, y_train)"
   ]
  },
  {
   "cell_type": "code",
   "execution_count": null,
   "metadata": {},
   "outputs": [],
   "source": [
    "idx_test = 5\n",
    "\n",
    "ga_titanic = GAdvExample(feature_names=list(X_df.columns),\n",
    "                sol_per_pop=30, num_parents_mating=10, cat_vars_ohe=None,\n",
    "                 num_generations=100, n_runs=10, black_list=[],\n",
    "                 verbose=False, beta=.9)\n",
    "\n",
    "x_all, x_changes, x_sucess = ga_titanic.attack(clf_titanic, x=X_test[idx_test,:],x_train=X_train)"
   ]
  },
  {
   "cell_type": "code",
   "execution_count": null,
   "metadata": {},
   "outputs": [],
   "source": [
    "ga_titanic.results"
   ]
  },
  {
   "cell_type": "code",
   "execution_count": null,
   "metadata": {},
   "outputs": [],
   "source": []
  }
 ],
 "metadata": {
  "kernelspec": {
   "display_name": "Python 3",
   "language": "python",
   "name": "python3"
  },
  "language_info": {
   "codemirror_mode": {
    "name": "ipython",
    "version": 3
   },
   "file_extension": ".py",
   "mimetype": "text/x-python",
   "name": "python",
   "nbconvert_exporter": "python",
   "pygments_lexer": "ipython3",
   "version": "3.7.6"
  }
 },
 "nbformat": 4,
 "nbformat_minor": 4
}
