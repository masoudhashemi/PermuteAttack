{
 "cells": [
  {
   "cell_type": "markdown",
   "metadata": {},
   "source": [
    "## Available:\n",
    "1. black list: wont change the black listed columns\n",
    "2. early stopping\n",
    "3. one hot encoded inputs\n",
    "4. Correct Black list, now it is applied on the one_hot list not the input columns. \n",
    "\n",
    "## TODO:\n",
    "1. The node labels are out of the figure"
   ]
  },
  {
   "cell_type": "code",
   "execution_count": 1,
   "metadata": {},
   "outputs": [],
   "source": [
    "%load_ext autoreload\n",
    "%autoreload 2\n",
    "\n",
    "import pandas as pd\n",
    "pd.set_option('display.max_rows', 500)\n",
    "pd.set_option('display.max_columns', 500)\n",
    "pd.set_option('display.width', 1000)"
   ]
  },
  {
   "cell_type": "code",
   "execution_count": 2,
   "metadata": {},
   "outputs": [],
   "source": [
    "import random\n",
    "from sklearn.ensemble import RandomForestClassifier\n",
    "from sklearn.tree import DecisionTreeClassifier \n",
    "from sklearn.linear_model import LogisticRegression, SGDClassifier\n",
    "from sklearn.preprocessing import MinMaxScaler\n",
    "from sklearn.pipeline import Pipeline\n",
    "\n",
    "import numpy as np\n",
    "import pandas as pd\n",
    "from sklearn.preprocessing import LabelEncoder\n",
    "\n",
    "from sklearn.datasets import load_iris, load_breast_cancer\n",
    "from sklearn.model_selection import train_test_split\n",
    "from sklearn.metrics import accuracy_score\n",
    "from sklearn.ensemble import ExtraTreesClassifier\n",
    "\n",
    "import matplotlib.pyplot as plt\n",
    "%matplotlib inline\n",
    "\n",
    "np.random.seed(555)\n",
    "\n",
    "import matplotlib.pyplot\n",
    "plt.style.use('ggplot')"
   ]
  },
  {
   "cell_type": "code",
   "execution_count": 3,
   "metadata": {},
   "outputs": [],
   "source": [
    "from alibi.utils.mapping import (\n",
    "    ohe_to_ord as alibi_ohe_to_ord,\n",
    "    ord_to_ohe as alibi_ord_to_ohe,\n",
    ")"
   ]
  },
  {
   "cell_type": "code",
   "execution_count": 4,
   "metadata": {},
   "outputs": [
    {
     "data": {
      "text/html": [
       "<div>\n",
       "<style scoped>\n",
       "    .dataframe tbody tr th:only-of-type {\n",
       "        vertical-align: middle;\n",
       "    }\n",
       "\n",
       "    .dataframe tbody tr th {\n",
       "        vertical-align: top;\n",
       "    }\n",
       "\n",
       "    .dataframe thead th {\n",
       "        text-align: right;\n",
       "    }\n",
       "</style>\n",
       "<table border=\"1\" class=\"dataframe\">\n",
       "  <thead>\n",
       "    <tr style=\"text-align: right;\">\n",
       "      <th></th>\n",
       "      <th>duration_in_month</th>\n",
       "      <th>credit_amount</th>\n",
       "      <th>installment_as_income_perc</th>\n",
       "      <th>present_res_since</th>\n",
       "      <th>age</th>\n",
       "      <th>credits_this_bank</th>\n",
       "      <th>people_under_maintenance</th>\n",
       "      <th>account_check_status_0 &lt;= ... &lt; 200 DM</th>\n",
       "      <th>account_check_status_&lt; 0 DM</th>\n",
       "      <th>account_check_status_&gt;= 200 DM / salary assignments for at least 1 year</th>\n",
       "      <th>account_check_status_no checking account</th>\n",
       "      <th>credit_history_all credits at this bank paid back duly</th>\n",
       "      <th>credit_history_critical account/ other credits existing (not at this bank)</th>\n",
       "      <th>credit_history_delay in paying off in the past</th>\n",
       "      <th>credit_history_existing credits paid back duly till now</th>\n",
       "      <th>credit_history_no credits taken/ all credits paid back duly</th>\n",
       "      <th>purpose_(vacation - does not exist?)</th>\n",
       "      <th>purpose_business</th>\n",
       "      <th>purpose_car (new)</th>\n",
       "      <th>purpose_car (used)</th>\n",
       "      <th>purpose_domestic appliances</th>\n",
       "      <th>purpose_education</th>\n",
       "      <th>purpose_furniture/equipment</th>\n",
       "      <th>purpose_radio/television</th>\n",
       "      <th>purpose_repairs</th>\n",
       "      <th>purpose_retraining</th>\n",
       "      <th>savings_.. &gt;= 1000 DM</th>\n",
       "      <th>savings_... &lt; 100 DM</th>\n",
       "      <th>savings_100 &lt;= ... &lt; 500 DM</th>\n",
       "      <th>savings_500 &lt;= ... &lt; 1000 DM</th>\n",
       "      <th>savings_unknown/ no savings account</th>\n",
       "      <th>present_emp_since_.. &gt;= 7 years</th>\n",
       "      <th>present_emp_since_... &lt; 1 year</th>\n",
       "      <th>present_emp_since_1 &lt;= ... &lt; 4 years</th>\n",
       "      <th>present_emp_since_4 &lt;= ... &lt; 7 years</th>\n",
       "      <th>present_emp_since_unemployed</th>\n",
       "      <th>personal_status_sex_female : divorced/separated/married</th>\n",
       "      <th>personal_status_sex_male : divorced/separated</th>\n",
       "      <th>personal_status_sex_male : married/widowed</th>\n",
       "      <th>personal_status_sex_male : single</th>\n",
       "      <th>other_debtors_co-applicant</th>\n",
       "      <th>other_debtors_guarantor</th>\n",
       "      <th>other_debtors_none</th>\n",
       "      <th>property_if not A121 : building society savings agreement/ life insurance</th>\n",
       "      <th>property_if not A121/A122 : car or other, not in attribute 6</th>\n",
       "      <th>property_real estate</th>\n",
       "      <th>property_unknown / no property</th>\n",
       "      <th>other_installment_plans_bank</th>\n",
       "      <th>other_installment_plans_none</th>\n",
       "      <th>other_installment_plans_stores</th>\n",
       "      <th>housing_for free</th>\n",
       "      <th>housing_own</th>\n",
       "      <th>housing_rent</th>\n",
       "      <th>job_management/ self-employed/ highly qualified employee/ officer</th>\n",
       "      <th>job_skilled employee / official</th>\n",
       "      <th>job_unemployed/ unskilled - non-resident</th>\n",
       "      <th>job_unskilled - resident</th>\n",
       "      <th>telephone_none</th>\n",
       "      <th>telephone_yes, registered under the customers name</th>\n",
       "      <th>foreign_worker_no</th>\n",
       "      <th>foreign_worker_yes</th>\n",
       "    </tr>\n",
       "  </thead>\n",
       "  <tbody>\n",
       "    <tr>\n",
       "      <th>0</th>\n",
       "      <td>6</td>\n",
       "      <td>1169</td>\n",
       "      <td>4</td>\n",
       "      <td>4</td>\n",
       "      <td>67</td>\n",
       "      <td>2</td>\n",
       "      <td>1</td>\n",
       "      <td>0</td>\n",
       "      <td>1</td>\n",
       "      <td>0</td>\n",
       "      <td>0</td>\n",
       "      <td>0</td>\n",
       "      <td>1</td>\n",
       "      <td>0</td>\n",
       "      <td>0</td>\n",
       "      <td>0</td>\n",
       "      <td>0</td>\n",
       "      <td>0</td>\n",
       "      <td>0</td>\n",
       "      <td>0</td>\n",
       "      <td>1</td>\n",
       "      <td>0</td>\n",
       "      <td>0</td>\n",
       "      <td>0</td>\n",
       "      <td>0</td>\n",
       "      <td>0</td>\n",
       "      <td>0</td>\n",
       "      <td>0</td>\n",
       "      <td>0</td>\n",
       "      <td>0</td>\n",
       "      <td>1</td>\n",
       "      <td>1</td>\n",
       "      <td>0</td>\n",
       "      <td>0</td>\n",
       "      <td>0</td>\n",
       "      <td>0</td>\n",
       "      <td>0</td>\n",
       "      <td>0</td>\n",
       "      <td>0</td>\n",
       "      <td>1</td>\n",
       "      <td>0</td>\n",
       "      <td>0</td>\n",
       "      <td>1</td>\n",
       "      <td>0</td>\n",
       "      <td>0</td>\n",
       "      <td>1</td>\n",
       "      <td>0</td>\n",
       "      <td>0</td>\n",
       "      <td>1</td>\n",
       "      <td>0</td>\n",
       "      <td>0</td>\n",
       "      <td>1</td>\n",
       "      <td>0</td>\n",
       "      <td>0</td>\n",
       "      <td>1</td>\n",
       "      <td>0</td>\n",
       "      <td>0</td>\n",
       "      <td>0</td>\n",
       "      <td>1</td>\n",
       "      <td>0</td>\n",
       "      <td>1</td>\n",
       "    </tr>\n",
       "    <tr>\n",
       "      <th>1</th>\n",
       "      <td>48</td>\n",
       "      <td>5951</td>\n",
       "      <td>2</td>\n",
       "      <td>2</td>\n",
       "      <td>22</td>\n",
       "      <td>1</td>\n",
       "      <td>1</td>\n",
       "      <td>1</td>\n",
       "      <td>0</td>\n",
       "      <td>0</td>\n",
       "      <td>0</td>\n",
       "      <td>0</td>\n",
       "      <td>0</td>\n",
       "      <td>0</td>\n",
       "      <td>1</td>\n",
       "      <td>0</td>\n",
       "      <td>0</td>\n",
       "      <td>0</td>\n",
       "      <td>0</td>\n",
       "      <td>0</td>\n",
       "      <td>1</td>\n",
       "      <td>0</td>\n",
       "      <td>0</td>\n",
       "      <td>0</td>\n",
       "      <td>0</td>\n",
       "      <td>0</td>\n",
       "      <td>0</td>\n",
       "      <td>1</td>\n",
       "      <td>0</td>\n",
       "      <td>0</td>\n",
       "      <td>0</td>\n",
       "      <td>0</td>\n",
       "      <td>0</td>\n",
       "      <td>1</td>\n",
       "      <td>0</td>\n",
       "      <td>0</td>\n",
       "      <td>1</td>\n",
       "      <td>0</td>\n",
       "      <td>0</td>\n",
       "      <td>0</td>\n",
       "      <td>0</td>\n",
       "      <td>0</td>\n",
       "      <td>1</td>\n",
       "      <td>0</td>\n",
       "      <td>0</td>\n",
       "      <td>1</td>\n",
       "      <td>0</td>\n",
       "      <td>0</td>\n",
       "      <td>1</td>\n",
       "      <td>0</td>\n",
       "      <td>0</td>\n",
       "      <td>1</td>\n",
       "      <td>0</td>\n",
       "      <td>0</td>\n",
       "      <td>1</td>\n",
       "      <td>0</td>\n",
       "      <td>0</td>\n",
       "      <td>1</td>\n",
       "      <td>0</td>\n",
       "      <td>0</td>\n",
       "      <td>1</td>\n",
       "    </tr>\n",
       "    <tr>\n",
       "      <th>2</th>\n",
       "      <td>12</td>\n",
       "      <td>2096</td>\n",
       "      <td>2</td>\n",
       "      <td>3</td>\n",
       "      <td>49</td>\n",
       "      <td>1</td>\n",
       "      <td>2</td>\n",
       "      <td>0</td>\n",
       "      <td>0</td>\n",
       "      <td>0</td>\n",
       "      <td>1</td>\n",
       "      <td>0</td>\n",
       "      <td>1</td>\n",
       "      <td>0</td>\n",
       "      <td>0</td>\n",
       "      <td>0</td>\n",
       "      <td>1</td>\n",
       "      <td>0</td>\n",
       "      <td>0</td>\n",
       "      <td>0</td>\n",
       "      <td>0</td>\n",
       "      <td>0</td>\n",
       "      <td>0</td>\n",
       "      <td>0</td>\n",
       "      <td>0</td>\n",
       "      <td>0</td>\n",
       "      <td>0</td>\n",
       "      <td>1</td>\n",
       "      <td>0</td>\n",
       "      <td>0</td>\n",
       "      <td>0</td>\n",
       "      <td>0</td>\n",
       "      <td>0</td>\n",
       "      <td>0</td>\n",
       "      <td>1</td>\n",
       "      <td>0</td>\n",
       "      <td>0</td>\n",
       "      <td>0</td>\n",
       "      <td>0</td>\n",
       "      <td>1</td>\n",
       "      <td>0</td>\n",
       "      <td>0</td>\n",
       "      <td>1</td>\n",
       "      <td>0</td>\n",
       "      <td>0</td>\n",
       "      <td>1</td>\n",
       "      <td>0</td>\n",
       "      <td>0</td>\n",
       "      <td>1</td>\n",
       "      <td>0</td>\n",
       "      <td>0</td>\n",
       "      <td>1</td>\n",
       "      <td>0</td>\n",
       "      <td>0</td>\n",
       "      <td>0</td>\n",
       "      <td>0</td>\n",
       "      <td>1</td>\n",
       "      <td>1</td>\n",
       "      <td>0</td>\n",
       "      <td>0</td>\n",
       "      <td>1</td>\n",
       "    </tr>\n",
       "    <tr>\n",
       "      <th>3</th>\n",
       "      <td>42</td>\n",
       "      <td>7882</td>\n",
       "      <td>2</td>\n",
       "      <td>4</td>\n",
       "      <td>45</td>\n",
       "      <td>1</td>\n",
       "      <td>2</td>\n",
       "      <td>0</td>\n",
       "      <td>1</td>\n",
       "      <td>0</td>\n",
       "      <td>0</td>\n",
       "      <td>0</td>\n",
       "      <td>0</td>\n",
       "      <td>0</td>\n",
       "      <td>1</td>\n",
       "      <td>0</td>\n",
       "      <td>0</td>\n",
       "      <td>0</td>\n",
       "      <td>0</td>\n",
       "      <td>0</td>\n",
       "      <td>0</td>\n",
       "      <td>0</td>\n",
       "      <td>0</td>\n",
       "      <td>1</td>\n",
       "      <td>0</td>\n",
       "      <td>0</td>\n",
       "      <td>0</td>\n",
       "      <td>1</td>\n",
       "      <td>0</td>\n",
       "      <td>0</td>\n",
       "      <td>0</td>\n",
       "      <td>0</td>\n",
       "      <td>0</td>\n",
       "      <td>0</td>\n",
       "      <td>1</td>\n",
       "      <td>0</td>\n",
       "      <td>0</td>\n",
       "      <td>0</td>\n",
       "      <td>0</td>\n",
       "      <td>1</td>\n",
       "      <td>0</td>\n",
       "      <td>1</td>\n",
       "      <td>0</td>\n",
       "      <td>1</td>\n",
       "      <td>0</td>\n",
       "      <td>0</td>\n",
       "      <td>0</td>\n",
       "      <td>0</td>\n",
       "      <td>1</td>\n",
       "      <td>0</td>\n",
       "      <td>1</td>\n",
       "      <td>0</td>\n",
       "      <td>0</td>\n",
       "      <td>0</td>\n",
       "      <td>1</td>\n",
       "      <td>0</td>\n",
       "      <td>0</td>\n",
       "      <td>1</td>\n",
       "      <td>0</td>\n",
       "      <td>0</td>\n",
       "      <td>1</td>\n",
       "    </tr>\n",
       "    <tr>\n",
       "      <th>4</th>\n",
       "      <td>24</td>\n",
       "      <td>4870</td>\n",
       "      <td>3</td>\n",
       "      <td>4</td>\n",
       "      <td>53</td>\n",
       "      <td>2</td>\n",
       "      <td>2</td>\n",
       "      <td>0</td>\n",
       "      <td>1</td>\n",
       "      <td>0</td>\n",
       "      <td>0</td>\n",
       "      <td>0</td>\n",
       "      <td>0</td>\n",
       "      <td>1</td>\n",
       "      <td>0</td>\n",
       "      <td>0</td>\n",
       "      <td>0</td>\n",
       "      <td>0</td>\n",
       "      <td>1</td>\n",
       "      <td>0</td>\n",
       "      <td>0</td>\n",
       "      <td>0</td>\n",
       "      <td>0</td>\n",
       "      <td>0</td>\n",
       "      <td>0</td>\n",
       "      <td>0</td>\n",
       "      <td>0</td>\n",
       "      <td>1</td>\n",
       "      <td>0</td>\n",
       "      <td>0</td>\n",
       "      <td>0</td>\n",
       "      <td>0</td>\n",
       "      <td>0</td>\n",
       "      <td>1</td>\n",
       "      <td>0</td>\n",
       "      <td>0</td>\n",
       "      <td>0</td>\n",
       "      <td>0</td>\n",
       "      <td>0</td>\n",
       "      <td>1</td>\n",
       "      <td>0</td>\n",
       "      <td>0</td>\n",
       "      <td>1</td>\n",
       "      <td>0</td>\n",
       "      <td>0</td>\n",
       "      <td>0</td>\n",
       "      <td>1</td>\n",
       "      <td>0</td>\n",
       "      <td>1</td>\n",
       "      <td>0</td>\n",
       "      <td>1</td>\n",
       "      <td>0</td>\n",
       "      <td>0</td>\n",
       "      <td>0</td>\n",
       "      <td>1</td>\n",
       "      <td>0</td>\n",
       "      <td>0</td>\n",
       "      <td>1</td>\n",
       "      <td>0</td>\n",
       "      <td>0</td>\n",
       "      <td>1</td>\n",
       "    </tr>\n",
       "  </tbody>\n",
       "</table>\n",
       "</div>"
      ],
      "text/plain": [
       "   duration_in_month  credit_amount  installment_as_income_perc  present_res_since  age  credits_this_bank  people_under_maintenance  account_check_status_0 <= ... < 200 DM  account_check_status_< 0 DM  account_check_status_>= 200 DM / salary assignments for at least 1 year  account_check_status_no checking account  credit_history_all credits at this bank paid back duly  credit_history_critical account/ other credits existing (not at this bank)  credit_history_delay in paying off in the past  credit_history_existing credits paid back duly till now  credit_history_no credits taken/ all credits paid back duly  purpose_(vacation - does not exist?)  purpose_business  purpose_car (new)  purpose_car (used)  purpose_domestic appliances  purpose_education  purpose_furniture/equipment  purpose_radio/television  purpose_repairs  purpose_retraining  savings_.. >= 1000 DM   savings_... < 100 DM  savings_100 <= ... < 500 DM  savings_500 <= ... < 1000 DM   savings_unknown/ no savings account  \\\n",
       "0                  6           1169                           4                  4   67                  2                         1                                       0                            1                                                  0                                                               0                                                  0                                                       1                                                                        0                                                  0                                                        0                                               0                 0                  0                   0                            1                  0                            0                         0                0                   0                       0                     0                            0                              0                                    1   \n",
       "1                 48           5951                           2                  2   22                  1                         1                                       1                            0                                                  0                                                               0                                                  0                                                       0                                                                        0                                                  1                                                        0                                               0                 0                  0                   0                            1                  0                            0                         0                0                   0                       0                     1                            0                              0                                    0   \n",
       "2                 12           2096                           2                  3   49                  1                         2                                       0                            0                                                  0                                                               1                                                  0                                                       1                                                                        0                                                  0                                                        0                                               1                 0                  0                   0                            0                  0                            0                         0                0                   0                       0                     1                            0                              0                                    0   \n",
       "3                 42           7882                           2                  4   45                  1                         2                                       0                            1                                                  0                                                               0                                                  0                                                       0                                                                        0                                                  1                                                        0                                               0                 0                  0                   0                            0                  0                            0                         1                0                   0                       0                     1                            0                              0                                    0   \n",
       "4                 24           4870                           3                  4   53                  2                         2                                       0                            1                                                  0                                                               0                                                  0                                                       0                                                                        1                                                  0                                                        0                                               0                 0                  1                   0                            0                  0                            0                         0                0                   0                       0                     1                            0                              0                                    0   \n",
       "\n",
       "   present_emp_since_.. >= 7 years  present_emp_since_... < 1 year   present_emp_since_1 <= ... < 4 years  present_emp_since_4 <= ... < 7 years  present_emp_since_unemployed  personal_status_sex_female : divorced/separated/married  personal_status_sex_male : divorced/separated  personal_status_sex_male : married/widowed  personal_status_sex_male : single  other_debtors_co-applicant  other_debtors_guarantor  other_debtors_none  property_if not A121 : building society savings agreement/ life insurance  property_if not A121/A122 : car or other, not in attribute 6  property_real estate  property_unknown / no property  other_installment_plans_bank  other_installment_plans_none  other_installment_plans_stores  housing_for free  housing_own  housing_rent  job_management/ self-employed/ highly qualified employee/ officer  job_skilled employee / official  job_unemployed/ unskilled - non-resident  job_unskilled - resident  telephone_none  telephone_yes, registered under the customers name   \\\n",
       "0                                1                                0                                     0                                     0                             0                                                  0                                                    0                                           0                                  1                           0                        0                   1                                                  0                                                                          0                                1                               0                             0                             1                               0                 0            1             0                                                  0                                                1                                         0                         0               0                                                  1     \n",
       "1                                0                                0                                     1                                     0                             0                                                  1                                                    0                                           0                                  0                           0                        0                   1                                                  0                                                                          0                                1                               0                             0                             1                               0                 0            1             0                                                  0                                                1                                         0                         0               1                                                  0     \n",
       "2                                0                                0                                     0                                     1                             0                                                  0                                                    0                                           0                                  1                           0                        0                   1                                                  0                                                                          0                                1                               0                             0                             1                               0                 0            1             0                                                  0                                                0                                         0                         1               1                                                  0     \n",
       "3                                0                                0                                     0                                     1                             0                                                  0                                                    0                                           0                                  1                           0                        1                   0                                                  1                                                                          0                                0                               0                             0                             1                               0                 1            0             0                                                  0                                                1                                         0                         0               1                                                  0     \n",
       "4                                0                                0                                     1                                     0                             0                                                  0                                                    0                                           0                                  1                           0                        0                   1                                                  0                                                                          0                                0                               1                             0                             1                               0                 1            0             0                                                  0                                                1                                         0                         0               1                                                  0     \n",
       "\n",
       "   foreign_worker_no  foreign_worker_yes  \n",
       "0                  0                   1  \n",
       "1                  0                   1  \n",
       "2                  0                   1  \n",
       "3                  0                   1  \n",
       "4                  0                   1  "
      ]
     },
     "execution_count": 4,
     "metadata": {},
     "output_type": "execute_result"
    }
   ],
   "source": [
    "data = pd.read_csv('german_credit.csv')\n",
    "y = data['default']\n",
    "X_df = data.drop('default', axis=1)\n",
    "\n",
    "cats = [X_df.dtypes.index[i] for i in range(X_df.shape[1]) if X_df.dtypes[i]=='object']\n",
    "X_df = pd.get_dummies(X_df, columns=cats)\n",
    "\n",
    "X = X_df.values\n",
    "y = y.values\n",
    "\n",
    "X_df.head()"
   ]
  },
  {
   "cell_type": "code",
   "execution_count": 5,
   "metadata": {},
   "outputs": [
    {
     "data": {
      "text/plain": [
       "0.775"
      ]
     },
     "execution_count": 5,
     "metadata": {},
     "output_type": "execute_result"
    }
   ],
   "source": [
    "clf = RandomForestClassifier()\n",
    "X_train, X_test, y_train, y_test = train_test_split(X,y,test_size=0.4)\n",
    "clf.fit(X_train,y_train)\n",
    "clf.score(X_test,y_test)\n",
    "\n",
    "# logistic = SGDClassifier(loss='log', penalty='l1', early_stopping=True,\n",
    "#                          max_iter=10000, tol=1e-5, random_state=0)\n",
    "# sca = MinMaxScaler()\n",
    "# clf = Pipeline(steps=[('sca', sca), ('logistic', logistic)])\n",
    "# clf.fit(X,y)\n",
    "# clf.score(X,y)"
   ]
  },
  {
   "cell_type": "code",
   "execution_count": 6,
   "metadata": {},
   "outputs": [],
   "source": [
    "from ga_attack import plot_graph, create_onehot_map, GA_Counterfactual, alibi_ord_to_ohe, GAdvExample, alibi_ord_to_ohe"
   ]
  },
  {
   "cell_type": "code",
   "execution_count": 121,
   "metadata": {},
   "outputs": [],
   "source": [
    "feature_names = list(X_df.columns)"
   ]
  },
  {
   "cell_type": "code",
   "execution_count": 122,
   "metadata": {},
   "outputs": [
    {
     "data": {
      "text/html": [
       "['account_check_status', 'credit_history', 'purpose', 'savings', 'present_emp_since', 'personal_status_sex', 'other_debtors', 'property', 'other_installment_plans', 'housing', 'job', 'telephone', 'foreign_worker']"
      ],
      "text/plain": [
       "['account_check_status',\n",
       " 'credit_history',\n",
       " 'purpose',\n",
       " 'savings',\n",
       " 'present_emp_since',\n",
       " 'personal_status_sex',\n",
       " 'other_debtors',\n",
       " 'property',\n",
       " 'other_installment_plans',\n",
       " 'housing',\n",
       " 'job',\n",
       " 'telephone',\n",
       " 'foreign_worker']"
      ]
     },
     "execution_count": 122,
     "metadata": {},
     "output_type": "execute_result"
    }
   ],
   "source": [
    "ord_names, one_hot = create_onehot_map(feature_names, sep=\"_\", min_dist=1, data=None)\n",
    "ord_names"
   ]
  },
  {
   "cell_type": "code",
   "execution_count": 123,
   "metadata": {},
   "outputs": [
    {
     "data": {
      "text/plain": [
       "((600, 20), (600, 61))"
      ]
     },
     "execution_count": 123,
     "metadata": {},
     "output_type": "execute_result"
    }
   ],
   "source": [
    "data_, ord_enc = alibi_ohe_to_ord(X_train, one_hot)\n",
    "data_.shape, X_train.shape"
   ]
  },
  {
   "cell_type": "code",
   "execution_count": 10,
   "metadata": {},
   "outputs": [
    {
     "data": {
      "text/plain": [
       "array([ 4., 12., 18., 24., 72.])"
      ]
     },
     "execution_count": 10,
     "metadata": {},
     "output_type": "execute_result"
    }
   ],
   "source": [
    "np.quantile(data_[:,0], np.linspace(0,1,5))"
   ]
  },
  {
   "cell_type": "code",
   "execution_count": 11,
   "metadata": {},
   "outputs": [
    {
     "data": {
      "text/plain": [
       "(array([], dtype=int64),)"
      ]
     },
     "execution_count": 11,
     "metadata": {},
     "output_type": "execute_result"
    }
   ],
   "source": [
    "np.where(clf.predict(X_train)!=y_train)"
   ]
  },
  {
   "cell_type": "code",
   "execution_count": 138,
   "metadata": {},
   "outputs": [
    {
     "data": {
      "text/plain": [
       "(array([  9,  16,  42,  51,  64,  71,  72,  74,  76, 108, 173, 209, 210,\n",
       "        232, 236, 243, 245, 271, 292, 306, 315, 319, 323, 327, 329, 343,\n",
       "        350, 357, 358, 361, 378, 380]),)"
      ]
     },
     "execution_count": 138,
     "metadata": {},
     "output_type": "execute_result"
    }
   ],
   "source": [
    "np.where(clf.predict_proba(X_test)[:,1]>0.6)"
   ]
  },
  {
   "cell_type": "code",
   "execution_count": 167,
   "metadata": {},
   "outputs": [
    {
     "name": "stderr",
     "output_type": "stream",
     "text": [
      "100%|██████████| 10/10 [00:24<00:00,  2.47s/it]\n"
     ]
    }
   ],
   "source": [
    "idx_test = 76\n",
    "ga = GAdvExample(feature_names=feature_names,\n",
    "                sol_per_pop=35, num_parents_mating=15, cat_vars_ohe=one_hot,\n",
    "                 num_generations=200, n_runs=10, black_list=None,\n",
    "                 verbose=False, beta=.97)\n",
    "\n",
    "x_all, x_changes, x_sucess = ga.attack(clf, x=X_test[idx_test,:],x_train=X_train)"
   ]
  },
  {
   "cell_type": "code",
   "execution_count": 168,
   "metadata": {},
   "outputs": [
    {
     "data": {
      "text/html": [
       "<style  type=\"text/css\" >\n",
       "    #T_5a8313ce_cae3_11ea_8fbc_952b5923b7c7row1_col26 {\n",
       "            background-color:  darkorange;\n",
       "        }    #T_5a8313ce_cae3_11ea_8fbc_952b5923b7c7row1_col27 {\n",
       "            background-color:  darkorange;\n",
       "        }    #T_5a8313ce_cae3_11ea_8fbc_952b5923b7c7row1_col61 {\n",
       "            background-color:  darkorange;\n",
       "        }    #T_5a8313ce_cae3_11ea_8fbc_952b5923b7c7row1_col62 {\n",
       "            background-color:  darkorange;\n",
       "        }    #T_5a8313ce_cae3_11ea_8fbc_952b5923b7c7row2_col8 {\n",
       "            background-color:  darkorange;\n",
       "        }    #T_5a8313ce_cae3_11ea_8fbc_952b5923b7c7row2_col9 {\n",
       "            background-color:  darkorange;\n",
       "        }    #T_5a8313ce_cae3_11ea_8fbc_952b5923b7c7row2_col61 {\n",
       "            background-color:  darkorange;\n",
       "        }    #T_5a8313ce_cae3_11ea_8fbc_952b5923b7c7row2_col62 {\n",
       "            background-color:  darkorange;\n",
       "        }    #T_5a8313ce_cae3_11ea_8fbc_952b5923b7c7row3_col41 {\n",
       "            background-color:  darkorange;\n",
       "        }    #T_5a8313ce_cae3_11ea_8fbc_952b5923b7c7row3_col42 {\n",
       "            background-color:  darkorange;\n",
       "        }    #T_5a8313ce_cae3_11ea_8fbc_952b5923b7c7row3_col61 {\n",
       "            background-color:  darkorange;\n",
       "        }    #T_5a8313ce_cae3_11ea_8fbc_952b5923b7c7row3_col62 {\n",
       "            background-color:  darkorange;\n",
       "        }</style><table id=\"T_5a8313ce_cae3_11ea_8fbc_952b5923b7c7\" ><thead>    <tr>        <th class=\"blank level0\" ></th>        <th class=\"col_heading level0 col0\" >duration_in_month</th>        <th class=\"col_heading level0 col1\" >credit_amount</th>        <th class=\"col_heading level0 col2\" >installment_as_income_perc</th>        <th class=\"col_heading level0 col3\" >present_res_since</th>        <th class=\"col_heading level0 col4\" >age</th>        <th class=\"col_heading level0 col5\" >credits_this_bank</th>        <th class=\"col_heading level0 col6\" >people_under_maintenance</th>        <th class=\"col_heading level0 col7\" >account_check_status_0 <= ... < 200 DM</th>        <th class=\"col_heading level0 col8\" >account_check_status_< 0 DM</th>        <th class=\"col_heading level0 col9\" >account_check_status_>= 200 DM / salary assignments for at least 1 year</th>        <th class=\"col_heading level0 col10\" >account_check_status_no checking account</th>        <th class=\"col_heading level0 col11\" >credit_history_all credits at this bank paid back duly</th>        <th class=\"col_heading level0 col12\" >credit_history_critical account/ other credits existing (not at this bank)</th>        <th class=\"col_heading level0 col13\" >credit_history_delay in paying off in the past</th>        <th class=\"col_heading level0 col14\" >credit_history_existing credits paid back duly till now</th>        <th class=\"col_heading level0 col15\" >credit_history_no credits taken/ all credits paid back duly</th>        <th class=\"col_heading level0 col16\" >purpose_(vacation - does not exist?)</th>        <th class=\"col_heading level0 col17\" >purpose_business</th>        <th class=\"col_heading level0 col18\" >purpose_car (new)</th>        <th class=\"col_heading level0 col19\" >purpose_car (used)</th>        <th class=\"col_heading level0 col20\" >purpose_domestic appliances</th>        <th class=\"col_heading level0 col21\" >purpose_education</th>        <th class=\"col_heading level0 col22\" >purpose_furniture/equipment</th>        <th class=\"col_heading level0 col23\" >purpose_radio/television</th>        <th class=\"col_heading level0 col24\" >purpose_repairs</th>        <th class=\"col_heading level0 col25\" >purpose_retraining</th>        <th class=\"col_heading level0 col26\" >savings_.. >= 1000 DM </th>        <th class=\"col_heading level0 col27\" >savings_... < 100 DM</th>        <th class=\"col_heading level0 col28\" >savings_100 <= ... < 500 DM</th>        <th class=\"col_heading level0 col29\" >savings_500 <= ... < 1000 DM </th>        <th class=\"col_heading level0 col30\" >savings_unknown/ no savings account</th>        <th class=\"col_heading level0 col31\" >present_emp_since_.. >= 7 years</th>        <th class=\"col_heading level0 col32\" >present_emp_since_... < 1 year </th>        <th class=\"col_heading level0 col33\" >present_emp_since_1 <= ... < 4 years</th>        <th class=\"col_heading level0 col34\" >present_emp_since_4 <= ... < 7 years</th>        <th class=\"col_heading level0 col35\" >present_emp_since_unemployed</th>        <th class=\"col_heading level0 col36\" >personal_status_sex_female : divorced/separated/married</th>        <th class=\"col_heading level0 col37\" >personal_status_sex_male : divorced/separated</th>        <th class=\"col_heading level0 col38\" >personal_status_sex_male : married/widowed</th>        <th class=\"col_heading level0 col39\" >personal_status_sex_male : single</th>        <th class=\"col_heading level0 col40\" >other_debtors_co-applicant</th>        <th class=\"col_heading level0 col41\" >other_debtors_guarantor</th>        <th class=\"col_heading level0 col42\" >other_debtors_none</th>        <th class=\"col_heading level0 col43\" >property_if not A121 : building society savings agreement/ life insurance</th>        <th class=\"col_heading level0 col44\" >property_if not A121/A122 : car or other, not in attribute 6</th>        <th class=\"col_heading level0 col45\" >property_real estate</th>        <th class=\"col_heading level0 col46\" >property_unknown / no property</th>        <th class=\"col_heading level0 col47\" >other_installment_plans_bank</th>        <th class=\"col_heading level0 col48\" >other_installment_plans_none</th>        <th class=\"col_heading level0 col49\" >other_installment_plans_stores</th>        <th class=\"col_heading level0 col50\" >housing_for free</th>        <th class=\"col_heading level0 col51\" >housing_own</th>        <th class=\"col_heading level0 col52\" >housing_rent</th>        <th class=\"col_heading level0 col53\" >job_management/ self-employed/ highly qualified employee/ officer</th>        <th class=\"col_heading level0 col54\" >job_skilled employee / official</th>        <th class=\"col_heading level0 col55\" >job_unemployed/ unskilled - non-resident</th>        <th class=\"col_heading level0 col56\" >job_unskilled - resident</th>        <th class=\"col_heading level0 col57\" >telephone_none</th>        <th class=\"col_heading level0 col58\" >telephone_yes, registered under the customers name </th>        <th class=\"col_heading level0 col59\" >foreign_worker_no</th>        <th class=\"col_heading level0 col60\" >foreign_worker_yes</th>        <th class=\"col_heading level0 col61\" >P0</th>        <th class=\"col_heading level0 col62\" >P1</th>    </tr></thead><tbody>\n",
       "                <tr>\n",
       "                        <th id=\"T_5a8313ce_cae3_11ea_8fbc_952b5923b7c7level0_row0\" class=\"row_heading level0 row0\" >0</th>\n",
       "                        <td id=\"T_5a8313ce_cae3_11ea_8fbc_952b5923b7c7row0_col0\" class=\"data row0 col0\" >12.000000</td>\n",
       "                        <td id=\"T_5a8313ce_cae3_11ea_8fbc_952b5923b7c7row0_col1\" class=\"data row0 col1\" >1858.000000</td>\n",
       "                        <td id=\"T_5a8313ce_cae3_11ea_8fbc_952b5923b7c7row0_col2\" class=\"data row0 col2\" >4.000000</td>\n",
       "                        <td id=\"T_5a8313ce_cae3_11ea_8fbc_952b5923b7c7row0_col3\" class=\"data row0 col3\" >1.000000</td>\n",
       "                        <td id=\"T_5a8313ce_cae3_11ea_8fbc_952b5923b7c7row0_col4\" class=\"data row0 col4\" >22.000000</td>\n",
       "                        <td id=\"T_5a8313ce_cae3_11ea_8fbc_952b5923b7c7row0_col5\" class=\"data row0 col5\" >1.000000</td>\n",
       "                        <td id=\"T_5a8313ce_cae3_11ea_8fbc_952b5923b7c7row0_col6\" class=\"data row0 col6\" >1.000000</td>\n",
       "                        <td id=\"T_5a8313ce_cae3_11ea_8fbc_952b5923b7c7row0_col7\" class=\"data row0 col7\" >0.000000</td>\n",
       "                        <td id=\"T_5a8313ce_cae3_11ea_8fbc_952b5923b7c7row0_col8\" class=\"data row0 col8\" >1.000000</td>\n",
       "                        <td id=\"T_5a8313ce_cae3_11ea_8fbc_952b5923b7c7row0_col9\" class=\"data row0 col9\" >0.000000</td>\n",
       "                        <td id=\"T_5a8313ce_cae3_11ea_8fbc_952b5923b7c7row0_col10\" class=\"data row0 col10\" >0.000000</td>\n",
       "                        <td id=\"T_5a8313ce_cae3_11ea_8fbc_952b5923b7c7row0_col11\" class=\"data row0 col11\" >0.000000</td>\n",
       "                        <td id=\"T_5a8313ce_cae3_11ea_8fbc_952b5923b7c7row0_col12\" class=\"data row0 col12\" >0.000000</td>\n",
       "                        <td id=\"T_5a8313ce_cae3_11ea_8fbc_952b5923b7c7row0_col13\" class=\"data row0 col13\" >0.000000</td>\n",
       "                        <td id=\"T_5a8313ce_cae3_11ea_8fbc_952b5923b7c7row0_col14\" class=\"data row0 col14\" >1.000000</td>\n",
       "                        <td id=\"T_5a8313ce_cae3_11ea_8fbc_952b5923b7c7row0_col15\" class=\"data row0 col15\" >0.000000</td>\n",
       "                        <td id=\"T_5a8313ce_cae3_11ea_8fbc_952b5923b7c7row0_col16\" class=\"data row0 col16\" >0.000000</td>\n",
       "                        <td id=\"T_5a8313ce_cae3_11ea_8fbc_952b5923b7c7row0_col17\" class=\"data row0 col17\" >0.000000</td>\n",
       "                        <td id=\"T_5a8313ce_cae3_11ea_8fbc_952b5923b7c7row0_col18\" class=\"data row0 col18\" >0.000000</td>\n",
       "                        <td id=\"T_5a8313ce_cae3_11ea_8fbc_952b5923b7c7row0_col19\" class=\"data row0 col19\" >0.000000</td>\n",
       "                        <td id=\"T_5a8313ce_cae3_11ea_8fbc_952b5923b7c7row0_col20\" class=\"data row0 col20\" >0.000000</td>\n",
       "                        <td id=\"T_5a8313ce_cae3_11ea_8fbc_952b5923b7c7row0_col21\" class=\"data row0 col21\" >0.000000</td>\n",
       "                        <td id=\"T_5a8313ce_cae3_11ea_8fbc_952b5923b7c7row0_col22\" class=\"data row0 col22\" >0.000000</td>\n",
       "                        <td id=\"T_5a8313ce_cae3_11ea_8fbc_952b5923b7c7row0_col23\" class=\"data row0 col23\" >1.000000</td>\n",
       "                        <td id=\"T_5a8313ce_cae3_11ea_8fbc_952b5923b7c7row0_col24\" class=\"data row0 col24\" >0.000000</td>\n",
       "                        <td id=\"T_5a8313ce_cae3_11ea_8fbc_952b5923b7c7row0_col25\" class=\"data row0 col25\" >0.000000</td>\n",
       "                        <td id=\"T_5a8313ce_cae3_11ea_8fbc_952b5923b7c7row0_col26\" class=\"data row0 col26\" >0.000000</td>\n",
       "                        <td id=\"T_5a8313ce_cae3_11ea_8fbc_952b5923b7c7row0_col27\" class=\"data row0 col27\" >1.000000</td>\n",
       "                        <td id=\"T_5a8313ce_cae3_11ea_8fbc_952b5923b7c7row0_col28\" class=\"data row0 col28\" >0.000000</td>\n",
       "                        <td id=\"T_5a8313ce_cae3_11ea_8fbc_952b5923b7c7row0_col29\" class=\"data row0 col29\" >0.000000</td>\n",
       "                        <td id=\"T_5a8313ce_cae3_11ea_8fbc_952b5923b7c7row0_col30\" class=\"data row0 col30\" >0.000000</td>\n",
       "                        <td id=\"T_5a8313ce_cae3_11ea_8fbc_952b5923b7c7row0_col31\" class=\"data row0 col31\" >0.000000</td>\n",
       "                        <td id=\"T_5a8313ce_cae3_11ea_8fbc_952b5923b7c7row0_col32\" class=\"data row0 col32\" >1.000000</td>\n",
       "                        <td id=\"T_5a8313ce_cae3_11ea_8fbc_952b5923b7c7row0_col33\" class=\"data row0 col33\" >0.000000</td>\n",
       "                        <td id=\"T_5a8313ce_cae3_11ea_8fbc_952b5923b7c7row0_col34\" class=\"data row0 col34\" >0.000000</td>\n",
       "                        <td id=\"T_5a8313ce_cae3_11ea_8fbc_952b5923b7c7row0_col35\" class=\"data row0 col35\" >0.000000</td>\n",
       "                        <td id=\"T_5a8313ce_cae3_11ea_8fbc_952b5923b7c7row0_col36\" class=\"data row0 col36\" >1.000000</td>\n",
       "                        <td id=\"T_5a8313ce_cae3_11ea_8fbc_952b5923b7c7row0_col37\" class=\"data row0 col37\" >0.000000</td>\n",
       "                        <td id=\"T_5a8313ce_cae3_11ea_8fbc_952b5923b7c7row0_col38\" class=\"data row0 col38\" >0.000000</td>\n",
       "                        <td id=\"T_5a8313ce_cae3_11ea_8fbc_952b5923b7c7row0_col39\" class=\"data row0 col39\" >0.000000</td>\n",
       "                        <td id=\"T_5a8313ce_cae3_11ea_8fbc_952b5923b7c7row0_col40\" class=\"data row0 col40\" >0.000000</td>\n",
       "                        <td id=\"T_5a8313ce_cae3_11ea_8fbc_952b5923b7c7row0_col41\" class=\"data row0 col41\" >0.000000</td>\n",
       "                        <td id=\"T_5a8313ce_cae3_11ea_8fbc_952b5923b7c7row0_col42\" class=\"data row0 col42\" >1.000000</td>\n",
       "                        <td id=\"T_5a8313ce_cae3_11ea_8fbc_952b5923b7c7row0_col43\" class=\"data row0 col43\" >0.000000</td>\n",
       "                        <td id=\"T_5a8313ce_cae3_11ea_8fbc_952b5923b7c7row0_col44\" class=\"data row0 col44\" >1.000000</td>\n",
       "                        <td id=\"T_5a8313ce_cae3_11ea_8fbc_952b5923b7c7row0_col45\" class=\"data row0 col45\" >0.000000</td>\n",
       "                        <td id=\"T_5a8313ce_cae3_11ea_8fbc_952b5923b7c7row0_col46\" class=\"data row0 col46\" >0.000000</td>\n",
       "                        <td id=\"T_5a8313ce_cae3_11ea_8fbc_952b5923b7c7row0_col47\" class=\"data row0 col47\" >0.000000</td>\n",
       "                        <td id=\"T_5a8313ce_cae3_11ea_8fbc_952b5923b7c7row0_col48\" class=\"data row0 col48\" >1.000000</td>\n",
       "                        <td id=\"T_5a8313ce_cae3_11ea_8fbc_952b5923b7c7row0_col49\" class=\"data row0 col49\" >0.000000</td>\n",
       "                        <td id=\"T_5a8313ce_cae3_11ea_8fbc_952b5923b7c7row0_col50\" class=\"data row0 col50\" >0.000000</td>\n",
       "                        <td id=\"T_5a8313ce_cae3_11ea_8fbc_952b5923b7c7row0_col51\" class=\"data row0 col51\" >0.000000</td>\n",
       "                        <td id=\"T_5a8313ce_cae3_11ea_8fbc_952b5923b7c7row0_col52\" class=\"data row0 col52\" >1.000000</td>\n",
       "                        <td id=\"T_5a8313ce_cae3_11ea_8fbc_952b5923b7c7row0_col53\" class=\"data row0 col53\" >0.000000</td>\n",
       "                        <td id=\"T_5a8313ce_cae3_11ea_8fbc_952b5923b7c7row0_col54\" class=\"data row0 col54\" >1.000000</td>\n",
       "                        <td id=\"T_5a8313ce_cae3_11ea_8fbc_952b5923b7c7row0_col55\" class=\"data row0 col55\" >0.000000</td>\n",
       "                        <td id=\"T_5a8313ce_cae3_11ea_8fbc_952b5923b7c7row0_col56\" class=\"data row0 col56\" >0.000000</td>\n",
       "                        <td id=\"T_5a8313ce_cae3_11ea_8fbc_952b5923b7c7row0_col57\" class=\"data row0 col57\" >1.000000</td>\n",
       "                        <td id=\"T_5a8313ce_cae3_11ea_8fbc_952b5923b7c7row0_col58\" class=\"data row0 col58\" >0.000000</td>\n",
       "                        <td id=\"T_5a8313ce_cae3_11ea_8fbc_952b5923b7c7row0_col59\" class=\"data row0 col59\" >0.000000</td>\n",
       "                        <td id=\"T_5a8313ce_cae3_11ea_8fbc_952b5923b7c7row0_col60\" class=\"data row0 col60\" >1.000000</td>\n",
       "                        <td id=\"T_5a8313ce_cae3_11ea_8fbc_952b5923b7c7row0_col61\" class=\"data row0 col61\" >0.370000</td>\n",
       "                        <td id=\"T_5a8313ce_cae3_11ea_8fbc_952b5923b7c7row0_col62\" class=\"data row0 col62\" >0.630000</td>\n",
       "            </tr>\n",
       "            <tr>\n",
       "                        <th id=\"T_5a8313ce_cae3_11ea_8fbc_952b5923b7c7level0_row1\" class=\"row_heading level0 row1\" >1</th>\n",
       "                        <td id=\"T_5a8313ce_cae3_11ea_8fbc_952b5923b7c7row1_col0\" class=\"data row1 col0\" >12.000000</td>\n",
       "                        <td id=\"T_5a8313ce_cae3_11ea_8fbc_952b5923b7c7row1_col1\" class=\"data row1 col1\" >1858.000000</td>\n",
       "                        <td id=\"T_5a8313ce_cae3_11ea_8fbc_952b5923b7c7row1_col2\" class=\"data row1 col2\" >4.000000</td>\n",
       "                        <td id=\"T_5a8313ce_cae3_11ea_8fbc_952b5923b7c7row1_col3\" class=\"data row1 col3\" >1.000000</td>\n",
       "                        <td id=\"T_5a8313ce_cae3_11ea_8fbc_952b5923b7c7row1_col4\" class=\"data row1 col4\" >22.000000</td>\n",
       "                        <td id=\"T_5a8313ce_cae3_11ea_8fbc_952b5923b7c7row1_col5\" class=\"data row1 col5\" >1.000000</td>\n",
       "                        <td id=\"T_5a8313ce_cae3_11ea_8fbc_952b5923b7c7row1_col6\" class=\"data row1 col6\" >1.000000</td>\n",
       "                        <td id=\"T_5a8313ce_cae3_11ea_8fbc_952b5923b7c7row1_col7\" class=\"data row1 col7\" >0.000000</td>\n",
       "                        <td id=\"T_5a8313ce_cae3_11ea_8fbc_952b5923b7c7row1_col8\" class=\"data row1 col8\" >1.000000</td>\n",
       "                        <td id=\"T_5a8313ce_cae3_11ea_8fbc_952b5923b7c7row1_col9\" class=\"data row1 col9\" >0.000000</td>\n",
       "                        <td id=\"T_5a8313ce_cae3_11ea_8fbc_952b5923b7c7row1_col10\" class=\"data row1 col10\" >0.000000</td>\n",
       "                        <td id=\"T_5a8313ce_cae3_11ea_8fbc_952b5923b7c7row1_col11\" class=\"data row1 col11\" >0.000000</td>\n",
       "                        <td id=\"T_5a8313ce_cae3_11ea_8fbc_952b5923b7c7row1_col12\" class=\"data row1 col12\" >0.000000</td>\n",
       "                        <td id=\"T_5a8313ce_cae3_11ea_8fbc_952b5923b7c7row1_col13\" class=\"data row1 col13\" >0.000000</td>\n",
       "                        <td id=\"T_5a8313ce_cae3_11ea_8fbc_952b5923b7c7row1_col14\" class=\"data row1 col14\" >1.000000</td>\n",
       "                        <td id=\"T_5a8313ce_cae3_11ea_8fbc_952b5923b7c7row1_col15\" class=\"data row1 col15\" >0.000000</td>\n",
       "                        <td id=\"T_5a8313ce_cae3_11ea_8fbc_952b5923b7c7row1_col16\" class=\"data row1 col16\" >0.000000</td>\n",
       "                        <td id=\"T_5a8313ce_cae3_11ea_8fbc_952b5923b7c7row1_col17\" class=\"data row1 col17\" >0.000000</td>\n",
       "                        <td id=\"T_5a8313ce_cae3_11ea_8fbc_952b5923b7c7row1_col18\" class=\"data row1 col18\" >0.000000</td>\n",
       "                        <td id=\"T_5a8313ce_cae3_11ea_8fbc_952b5923b7c7row1_col19\" class=\"data row1 col19\" >0.000000</td>\n",
       "                        <td id=\"T_5a8313ce_cae3_11ea_8fbc_952b5923b7c7row1_col20\" class=\"data row1 col20\" >0.000000</td>\n",
       "                        <td id=\"T_5a8313ce_cae3_11ea_8fbc_952b5923b7c7row1_col21\" class=\"data row1 col21\" >0.000000</td>\n",
       "                        <td id=\"T_5a8313ce_cae3_11ea_8fbc_952b5923b7c7row1_col22\" class=\"data row1 col22\" >0.000000</td>\n",
       "                        <td id=\"T_5a8313ce_cae3_11ea_8fbc_952b5923b7c7row1_col23\" class=\"data row1 col23\" >1.000000</td>\n",
       "                        <td id=\"T_5a8313ce_cae3_11ea_8fbc_952b5923b7c7row1_col24\" class=\"data row1 col24\" >0.000000</td>\n",
       "                        <td id=\"T_5a8313ce_cae3_11ea_8fbc_952b5923b7c7row1_col25\" class=\"data row1 col25\" >0.000000</td>\n",
       "                        <td id=\"T_5a8313ce_cae3_11ea_8fbc_952b5923b7c7row1_col26\" class=\"data row1 col26\" >1.000000</td>\n",
       "                        <td id=\"T_5a8313ce_cae3_11ea_8fbc_952b5923b7c7row1_col27\" class=\"data row1 col27\" >0.000000</td>\n",
       "                        <td id=\"T_5a8313ce_cae3_11ea_8fbc_952b5923b7c7row1_col28\" class=\"data row1 col28\" >0.000000</td>\n",
       "                        <td id=\"T_5a8313ce_cae3_11ea_8fbc_952b5923b7c7row1_col29\" class=\"data row1 col29\" >0.000000</td>\n",
       "                        <td id=\"T_5a8313ce_cae3_11ea_8fbc_952b5923b7c7row1_col30\" class=\"data row1 col30\" >0.000000</td>\n",
       "                        <td id=\"T_5a8313ce_cae3_11ea_8fbc_952b5923b7c7row1_col31\" class=\"data row1 col31\" >0.000000</td>\n",
       "                        <td id=\"T_5a8313ce_cae3_11ea_8fbc_952b5923b7c7row1_col32\" class=\"data row1 col32\" >1.000000</td>\n",
       "                        <td id=\"T_5a8313ce_cae3_11ea_8fbc_952b5923b7c7row1_col33\" class=\"data row1 col33\" >0.000000</td>\n",
       "                        <td id=\"T_5a8313ce_cae3_11ea_8fbc_952b5923b7c7row1_col34\" class=\"data row1 col34\" >0.000000</td>\n",
       "                        <td id=\"T_5a8313ce_cae3_11ea_8fbc_952b5923b7c7row1_col35\" class=\"data row1 col35\" >0.000000</td>\n",
       "                        <td id=\"T_5a8313ce_cae3_11ea_8fbc_952b5923b7c7row1_col36\" class=\"data row1 col36\" >1.000000</td>\n",
       "                        <td id=\"T_5a8313ce_cae3_11ea_8fbc_952b5923b7c7row1_col37\" class=\"data row1 col37\" >0.000000</td>\n",
       "                        <td id=\"T_5a8313ce_cae3_11ea_8fbc_952b5923b7c7row1_col38\" class=\"data row1 col38\" >0.000000</td>\n",
       "                        <td id=\"T_5a8313ce_cae3_11ea_8fbc_952b5923b7c7row1_col39\" class=\"data row1 col39\" >0.000000</td>\n",
       "                        <td id=\"T_5a8313ce_cae3_11ea_8fbc_952b5923b7c7row1_col40\" class=\"data row1 col40\" >0.000000</td>\n",
       "                        <td id=\"T_5a8313ce_cae3_11ea_8fbc_952b5923b7c7row1_col41\" class=\"data row1 col41\" >0.000000</td>\n",
       "                        <td id=\"T_5a8313ce_cae3_11ea_8fbc_952b5923b7c7row1_col42\" class=\"data row1 col42\" >1.000000</td>\n",
       "                        <td id=\"T_5a8313ce_cae3_11ea_8fbc_952b5923b7c7row1_col43\" class=\"data row1 col43\" >0.000000</td>\n",
       "                        <td id=\"T_5a8313ce_cae3_11ea_8fbc_952b5923b7c7row1_col44\" class=\"data row1 col44\" >1.000000</td>\n",
       "                        <td id=\"T_5a8313ce_cae3_11ea_8fbc_952b5923b7c7row1_col45\" class=\"data row1 col45\" >0.000000</td>\n",
       "                        <td id=\"T_5a8313ce_cae3_11ea_8fbc_952b5923b7c7row1_col46\" class=\"data row1 col46\" >0.000000</td>\n",
       "                        <td id=\"T_5a8313ce_cae3_11ea_8fbc_952b5923b7c7row1_col47\" class=\"data row1 col47\" >0.000000</td>\n",
       "                        <td id=\"T_5a8313ce_cae3_11ea_8fbc_952b5923b7c7row1_col48\" class=\"data row1 col48\" >1.000000</td>\n",
       "                        <td id=\"T_5a8313ce_cae3_11ea_8fbc_952b5923b7c7row1_col49\" class=\"data row1 col49\" >0.000000</td>\n",
       "                        <td id=\"T_5a8313ce_cae3_11ea_8fbc_952b5923b7c7row1_col50\" class=\"data row1 col50\" >0.000000</td>\n",
       "                        <td id=\"T_5a8313ce_cae3_11ea_8fbc_952b5923b7c7row1_col51\" class=\"data row1 col51\" >0.000000</td>\n",
       "                        <td id=\"T_5a8313ce_cae3_11ea_8fbc_952b5923b7c7row1_col52\" class=\"data row1 col52\" >1.000000</td>\n",
       "                        <td id=\"T_5a8313ce_cae3_11ea_8fbc_952b5923b7c7row1_col53\" class=\"data row1 col53\" >0.000000</td>\n",
       "                        <td id=\"T_5a8313ce_cae3_11ea_8fbc_952b5923b7c7row1_col54\" class=\"data row1 col54\" >1.000000</td>\n",
       "                        <td id=\"T_5a8313ce_cae3_11ea_8fbc_952b5923b7c7row1_col55\" class=\"data row1 col55\" >0.000000</td>\n",
       "                        <td id=\"T_5a8313ce_cae3_11ea_8fbc_952b5923b7c7row1_col56\" class=\"data row1 col56\" >0.000000</td>\n",
       "                        <td id=\"T_5a8313ce_cae3_11ea_8fbc_952b5923b7c7row1_col57\" class=\"data row1 col57\" >1.000000</td>\n",
       "                        <td id=\"T_5a8313ce_cae3_11ea_8fbc_952b5923b7c7row1_col58\" class=\"data row1 col58\" >0.000000</td>\n",
       "                        <td id=\"T_5a8313ce_cae3_11ea_8fbc_952b5923b7c7row1_col59\" class=\"data row1 col59\" >0.000000</td>\n",
       "                        <td id=\"T_5a8313ce_cae3_11ea_8fbc_952b5923b7c7row1_col60\" class=\"data row1 col60\" >1.000000</td>\n",
       "                        <td id=\"T_5a8313ce_cae3_11ea_8fbc_952b5923b7c7row1_col61\" class=\"data row1 col61\" >0.540000</td>\n",
       "                        <td id=\"T_5a8313ce_cae3_11ea_8fbc_952b5923b7c7row1_col62\" class=\"data row1 col62\" >0.460000</td>\n",
       "            </tr>\n",
       "            <tr>\n",
       "                        <th id=\"T_5a8313ce_cae3_11ea_8fbc_952b5923b7c7level0_row2\" class=\"row_heading level0 row2\" >2</th>\n",
       "                        <td id=\"T_5a8313ce_cae3_11ea_8fbc_952b5923b7c7row2_col0\" class=\"data row2 col0\" >12.000000</td>\n",
       "                        <td id=\"T_5a8313ce_cae3_11ea_8fbc_952b5923b7c7row2_col1\" class=\"data row2 col1\" >1858.000000</td>\n",
       "                        <td id=\"T_5a8313ce_cae3_11ea_8fbc_952b5923b7c7row2_col2\" class=\"data row2 col2\" >4.000000</td>\n",
       "                        <td id=\"T_5a8313ce_cae3_11ea_8fbc_952b5923b7c7row2_col3\" class=\"data row2 col3\" >1.000000</td>\n",
       "                        <td id=\"T_5a8313ce_cae3_11ea_8fbc_952b5923b7c7row2_col4\" class=\"data row2 col4\" >22.000000</td>\n",
       "                        <td id=\"T_5a8313ce_cae3_11ea_8fbc_952b5923b7c7row2_col5\" class=\"data row2 col5\" >1.000000</td>\n",
       "                        <td id=\"T_5a8313ce_cae3_11ea_8fbc_952b5923b7c7row2_col6\" class=\"data row2 col6\" >1.000000</td>\n",
       "                        <td id=\"T_5a8313ce_cae3_11ea_8fbc_952b5923b7c7row2_col7\" class=\"data row2 col7\" >0.000000</td>\n",
       "                        <td id=\"T_5a8313ce_cae3_11ea_8fbc_952b5923b7c7row2_col8\" class=\"data row2 col8\" >0.000000</td>\n",
       "                        <td id=\"T_5a8313ce_cae3_11ea_8fbc_952b5923b7c7row2_col9\" class=\"data row2 col9\" >1.000000</td>\n",
       "                        <td id=\"T_5a8313ce_cae3_11ea_8fbc_952b5923b7c7row2_col10\" class=\"data row2 col10\" >0.000000</td>\n",
       "                        <td id=\"T_5a8313ce_cae3_11ea_8fbc_952b5923b7c7row2_col11\" class=\"data row2 col11\" >0.000000</td>\n",
       "                        <td id=\"T_5a8313ce_cae3_11ea_8fbc_952b5923b7c7row2_col12\" class=\"data row2 col12\" >0.000000</td>\n",
       "                        <td id=\"T_5a8313ce_cae3_11ea_8fbc_952b5923b7c7row2_col13\" class=\"data row2 col13\" >0.000000</td>\n",
       "                        <td id=\"T_5a8313ce_cae3_11ea_8fbc_952b5923b7c7row2_col14\" class=\"data row2 col14\" >1.000000</td>\n",
       "                        <td id=\"T_5a8313ce_cae3_11ea_8fbc_952b5923b7c7row2_col15\" class=\"data row2 col15\" >0.000000</td>\n",
       "                        <td id=\"T_5a8313ce_cae3_11ea_8fbc_952b5923b7c7row2_col16\" class=\"data row2 col16\" >0.000000</td>\n",
       "                        <td id=\"T_5a8313ce_cae3_11ea_8fbc_952b5923b7c7row2_col17\" class=\"data row2 col17\" >0.000000</td>\n",
       "                        <td id=\"T_5a8313ce_cae3_11ea_8fbc_952b5923b7c7row2_col18\" class=\"data row2 col18\" >0.000000</td>\n",
       "                        <td id=\"T_5a8313ce_cae3_11ea_8fbc_952b5923b7c7row2_col19\" class=\"data row2 col19\" >0.000000</td>\n",
       "                        <td id=\"T_5a8313ce_cae3_11ea_8fbc_952b5923b7c7row2_col20\" class=\"data row2 col20\" >0.000000</td>\n",
       "                        <td id=\"T_5a8313ce_cae3_11ea_8fbc_952b5923b7c7row2_col21\" class=\"data row2 col21\" >0.000000</td>\n",
       "                        <td id=\"T_5a8313ce_cae3_11ea_8fbc_952b5923b7c7row2_col22\" class=\"data row2 col22\" >0.000000</td>\n",
       "                        <td id=\"T_5a8313ce_cae3_11ea_8fbc_952b5923b7c7row2_col23\" class=\"data row2 col23\" >1.000000</td>\n",
       "                        <td id=\"T_5a8313ce_cae3_11ea_8fbc_952b5923b7c7row2_col24\" class=\"data row2 col24\" >0.000000</td>\n",
       "                        <td id=\"T_5a8313ce_cae3_11ea_8fbc_952b5923b7c7row2_col25\" class=\"data row2 col25\" >0.000000</td>\n",
       "                        <td id=\"T_5a8313ce_cae3_11ea_8fbc_952b5923b7c7row2_col26\" class=\"data row2 col26\" >0.000000</td>\n",
       "                        <td id=\"T_5a8313ce_cae3_11ea_8fbc_952b5923b7c7row2_col27\" class=\"data row2 col27\" >1.000000</td>\n",
       "                        <td id=\"T_5a8313ce_cae3_11ea_8fbc_952b5923b7c7row2_col28\" class=\"data row2 col28\" >0.000000</td>\n",
       "                        <td id=\"T_5a8313ce_cae3_11ea_8fbc_952b5923b7c7row2_col29\" class=\"data row2 col29\" >0.000000</td>\n",
       "                        <td id=\"T_5a8313ce_cae3_11ea_8fbc_952b5923b7c7row2_col30\" class=\"data row2 col30\" >0.000000</td>\n",
       "                        <td id=\"T_5a8313ce_cae3_11ea_8fbc_952b5923b7c7row2_col31\" class=\"data row2 col31\" >0.000000</td>\n",
       "                        <td id=\"T_5a8313ce_cae3_11ea_8fbc_952b5923b7c7row2_col32\" class=\"data row2 col32\" >1.000000</td>\n",
       "                        <td id=\"T_5a8313ce_cae3_11ea_8fbc_952b5923b7c7row2_col33\" class=\"data row2 col33\" >0.000000</td>\n",
       "                        <td id=\"T_5a8313ce_cae3_11ea_8fbc_952b5923b7c7row2_col34\" class=\"data row2 col34\" >0.000000</td>\n",
       "                        <td id=\"T_5a8313ce_cae3_11ea_8fbc_952b5923b7c7row2_col35\" class=\"data row2 col35\" >0.000000</td>\n",
       "                        <td id=\"T_5a8313ce_cae3_11ea_8fbc_952b5923b7c7row2_col36\" class=\"data row2 col36\" >1.000000</td>\n",
       "                        <td id=\"T_5a8313ce_cae3_11ea_8fbc_952b5923b7c7row2_col37\" class=\"data row2 col37\" >0.000000</td>\n",
       "                        <td id=\"T_5a8313ce_cae3_11ea_8fbc_952b5923b7c7row2_col38\" class=\"data row2 col38\" >0.000000</td>\n",
       "                        <td id=\"T_5a8313ce_cae3_11ea_8fbc_952b5923b7c7row2_col39\" class=\"data row2 col39\" >0.000000</td>\n",
       "                        <td id=\"T_5a8313ce_cae3_11ea_8fbc_952b5923b7c7row2_col40\" class=\"data row2 col40\" >0.000000</td>\n",
       "                        <td id=\"T_5a8313ce_cae3_11ea_8fbc_952b5923b7c7row2_col41\" class=\"data row2 col41\" >0.000000</td>\n",
       "                        <td id=\"T_5a8313ce_cae3_11ea_8fbc_952b5923b7c7row2_col42\" class=\"data row2 col42\" >1.000000</td>\n",
       "                        <td id=\"T_5a8313ce_cae3_11ea_8fbc_952b5923b7c7row2_col43\" class=\"data row2 col43\" >0.000000</td>\n",
       "                        <td id=\"T_5a8313ce_cae3_11ea_8fbc_952b5923b7c7row2_col44\" class=\"data row2 col44\" >1.000000</td>\n",
       "                        <td id=\"T_5a8313ce_cae3_11ea_8fbc_952b5923b7c7row2_col45\" class=\"data row2 col45\" >0.000000</td>\n",
       "                        <td id=\"T_5a8313ce_cae3_11ea_8fbc_952b5923b7c7row2_col46\" class=\"data row2 col46\" >0.000000</td>\n",
       "                        <td id=\"T_5a8313ce_cae3_11ea_8fbc_952b5923b7c7row2_col47\" class=\"data row2 col47\" >0.000000</td>\n",
       "                        <td id=\"T_5a8313ce_cae3_11ea_8fbc_952b5923b7c7row2_col48\" class=\"data row2 col48\" >1.000000</td>\n",
       "                        <td id=\"T_5a8313ce_cae3_11ea_8fbc_952b5923b7c7row2_col49\" class=\"data row2 col49\" >0.000000</td>\n",
       "                        <td id=\"T_5a8313ce_cae3_11ea_8fbc_952b5923b7c7row2_col50\" class=\"data row2 col50\" >0.000000</td>\n",
       "                        <td id=\"T_5a8313ce_cae3_11ea_8fbc_952b5923b7c7row2_col51\" class=\"data row2 col51\" >0.000000</td>\n",
       "                        <td id=\"T_5a8313ce_cae3_11ea_8fbc_952b5923b7c7row2_col52\" class=\"data row2 col52\" >1.000000</td>\n",
       "                        <td id=\"T_5a8313ce_cae3_11ea_8fbc_952b5923b7c7row2_col53\" class=\"data row2 col53\" >0.000000</td>\n",
       "                        <td id=\"T_5a8313ce_cae3_11ea_8fbc_952b5923b7c7row2_col54\" class=\"data row2 col54\" >1.000000</td>\n",
       "                        <td id=\"T_5a8313ce_cae3_11ea_8fbc_952b5923b7c7row2_col55\" class=\"data row2 col55\" >0.000000</td>\n",
       "                        <td id=\"T_5a8313ce_cae3_11ea_8fbc_952b5923b7c7row2_col56\" class=\"data row2 col56\" >0.000000</td>\n",
       "                        <td id=\"T_5a8313ce_cae3_11ea_8fbc_952b5923b7c7row2_col57\" class=\"data row2 col57\" >1.000000</td>\n",
       "                        <td id=\"T_5a8313ce_cae3_11ea_8fbc_952b5923b7c7row2_col58\" class=\"data row2 col58\" >0.000000</td>\n",
       "                        <td id=\"T_5a8313ce_cae3_11ea_8fbc_952b5923b7c7row2_col59\" class=\"data row2 col59\" >0.000000</td>\n",
       "                        <td id=\"T_5a8313ce_cae3_11ea_8fbc_952b5923b7c7row2_col60\" class=\"data row2 col60\" >1.000000</td>\n",
       "                        <td id=\"T_5a8313ce_cae3_11ea_8fbc_952b5923b7c7row2_col61\" class=\"data row2 col61\" >0.580000</td>\n",
       "                        <td id=\"T_5a8313ce_cae3_11ea_8fbc_952b5923b7c7row2_col62\" class=\"data row2 col62\" >0.420000</td>\n",
       "            </tr>\n",
       "            <tr>\n",
       "                        <th id=\"T_5a8313ce_cae3_11ea_8fbc_952b5923b7c7level0_row3\" class=\"row_heading level0 row3\" >4</th>\n",
       "                        <td id=\"T_5a8313ce_cae3_11ea_8fbc_952b5923b7c7row3_col0\" class=\"data row3 col0\" >12.000000</td>\n",
       "                        <td id=\"T_5a8313ce_cae3_11ea_8fbc_952b5923b7c7row3_col1\" class=\"data row3 col1\" >1858.000000</td>\n",
       "                        <td id=\"T_5a8313ce_cae3_11ea_8fbc_952b5923b7c7row3_col2\" class=\"data row3 col2\" >4.000000</td>\n",
       "                        <td id=\"T_5a8313ce_cae3_11ea_8fbc_952b5923b7c7row3_col3\" class=\"data row3 col3\" >1.000000</td>\n",
       "                        <td id=\"T_5a8313ce_cae3_11ea_8fbc_952b5923b7c7row3_col4\" class=\"data row3 col4\" >22.000000</td>\n",
       "                        <td id=\"T_5a8313ce_cae3_11ea_8fbc_952b5923b7c7row3_col5\" class=\"data row3 col5\" >1.000000</td>\n",
       "                        <td id=\"T_5a8313ce_cae3_11ea_8fbc_952b5923b7c7row3_col6\" class=\"data row3 col6\" >1.000000</td>\n",
       "                        <td id=\"T_5a8313ce_cae3_11ea_8fbc_952b5923b7c7row3_col7\" class=\"data row3 col7\" >0.000000</td>\n",
       "                        <td id=\"T_5a8313ce_cae3_11ea_8fbc_952b5923b7c7row3_col8\" class=\"data row3 col8\" >1.000000</td>\n",
       "                        <td id=\"T_5a8313ce_cae3_11ea_8fbc_952b5923b7c7row3_col9\" class=\"data row3 col9\" >0.000000</td>\n",
       "                        <td id=\"T_5a8313ce_cae3_11ea_8fbc_952b5923b7c7row3_col10\" class=\"data row3 col10\" >0.000000</td>\n",
       "                        <td id=\"T_5a8313ce_cae3_11ea_8fbc_952b5923b7c7row3_col11\" class=\"data row3 col11\" >0.000000</td>\n",
       "                        <td id=\"T_5a8313ce_cae3_11ea_8fbc_952b5923b7c7row3_col12\" class=\"data row3 col12\" >0.000000</td>\n",
       "                        <td id=\"T_5a8313ce_cae3_11ea_8fbc_952b5923b7c7row3_col13\" class=\"data row3 col13\" >0.000000</td>\n",
       "                        <td id=\"T_5a8313ce_cae3_11ea_8fbc_952b5923b7c7row3_col14\" class=\"data row3 col14\" >1.000000</td>\n",
       "                        <td id=\"T_5a8313ce_cae3_11ea_8fbc_952b5923b7c7row3_col15\" class=\"data row3 col15\" >0.000000</td>\n",
       "                        <td id=\"T_5a8313ce_cae3_11ea_8fbc_952b5923b7c7row3_col16\" class=\"data row3 col16\" >0.000000</td>\n",
       "                        <td id=\"T_5a8313ce_cae3_11ea_8fbc_952b5923b7c7row3_col17\" class=\"data row3 col17\" >0.000000</td>\n",
       "                        <td id=\"T_5a8313ce_cae3_11ea_8fbc_952b5923b7c7row3_col18\" class=\"data row3 col18\" >0.000000</td>\n",
       "                        <td id=\"T_5a8313ce_cae3_11ea_8fbc_952b5923b7c7row3_col19\" class=\"data row3 col19\" >0.000000</td>\n",
       "                        <td id=\"T_5a8313ce_cae3_11ea_8fbc_952b5923b7c7row3_col20\" class=\"data row3 col20\" >0.000000</td>\n",
       "                        <td id=\"T_5a8313ce_cae3_11ea_8fbc_952b5923b7c7row3_col21\" class=\"data row3 col21\" >0.000000</td>\n",
       "                        <td id=\"T_5a8313ce_cae3_11ea_8fbc_952b5923b7c7row3_col22\" class=\"data row3 col22\" >0.000000</td>\n",
       "                        <td id=\"T_5a8313ce_cae3_11ea_8fbc_952b5923b7c7row3_col23\" class=\"data row3 col23\" >1.000000</td>\n",
       "                        <td id=\"T_5a8313ce_cae3_11ea_8fbc_952b5923b7c7row3_col24\" class=\"data row3 col24\" >0.000000</td>\n",
       "                        <td id=\"T_5a8313ce_cae3_11ea_8fbc_952b5923b7c7row3_col25\" class=\"data row3 col25\" >0.000000</td>\n",
       "                        <td id=\"T_5a8313ce_cae3_11ea_8fbc_952b5923b7c7row3_col26\" class=\"data row3 col26\" >0.000000</td>\n",
       "                        <td id=\"T_5a8313ce_cae3_11ea_8fbc_952b5923b7c7row3_col27\" class=\"data row3 col27\" >1.000000</td>\n",
       "                        <td id=\"T_5a8313ce_cae3_11ea_8fbc_952b5923b7c7row3_col28\" class=\"data row3 col28\" >0.000000</td>\n",
       "                        <td id=\"T_5a8313ce_cae3_11ea_8fbc_952b5923b7c7row3_col29\" class=\"data row3 col29\" >0.000000</td>\n",
       "                        <td id=\"T_5a8313ce_cae3_11ea_8fbc_952b5923b7c7row3_col30\" class=\"data row3 col30\" >0.000000</td>\n",
       "                        <td id=\"T_5a8313ce_cae3_11ea_8fbc_952b5923b7c7row3_col31\" class=\"data row3 col31\" >0.000000</td>\n",
       "                        <td id=\"T_5a8313ce_cae3_11ea_8fbc_952b5923b7c7row3_col32\" class=\"data row3 col32\" >1.000000</td>\n",
       "                        <td id=\"T_5a8313ce_cae3_11ea_8fbc_952b5923b7c7row3_col33\" class=\"data row3 col33\" >0.000000</td>\n",
       "                        <td id=\"T_5a8313ce_cae3_11ea_8fbc_952b5923b7c7row3_col34\" class=\"data row3 col34\" >0.000000</td>\n",
       "                        <td id=\"T_5a8313ce_cae3_11ea_8fbc_952b5923b7c7row3_col35\" class=\"data row3 col35\" >0.000000</td>\n",
       "                        <td id=\"T_5a8313ce_cae3_11ea_8fbc_952b5923b7c7row3_col36\" class=\"data row3 col36\" >1.000000</td>\n",
       "                        <td id=\"T_5a8313ce_cae3_11ea_8fbc_952b5923b7c7row3_col37\" class=\"data row3 col37\" >0.000000</td>\n",
       "                        <td id=\"T_5a8313ce_cae3_11ea_8fbc_952b5923b7c7row3_col38\" class=\"data row3 col38\" >0.000000</td>\n",
       "                        <td id=\"T_5a8313ce_cae3_11ea_8fbc_952b5923b7c7row3_col39\" class=\"data row3 col39\" >0.000000</td>\n",
       "                        <td id=\"T_5a8313ce_cae3_11ea_8fbc_952b5923b7c7row3_col40\" class=\"data row3 col40\" >0.000000</td>\n",
       "                        <td id=\"T_5a8313ce_cae3_11ea_8fbc_952b5923b7c7row3_col41\" class=\"data row3 col41\" >1.000000</td>\n",
       "                        <td id=\"T_5a8313ce_cae3_11ea_8fbc_952b5923b7c7row3_col42\" class=\"data row3 col42\" >0.000000</td>\n",
       "                        <td id=\"T_5a8313ce_cae3_11ea_8fbc_952b5923b7c7row3_col43\" class=\"data row3 col43\" >0.000000</td>\n",
       "                        <td id=\"T_5a8313ce_cae3_11ea_8fbc_952b5923b7c7row3_col44\" class=\"data row3 col44\" >1.000000</td>\n",
       "                        <td id=\"T_5a8313ce_cae3_11ea_8fbc_952b5923b7c7row3_col45\" class=\"data row3 col45\" >0.000000</td>\n",
       "                        <td id=\"T_5a8313ce_cae3_11ea_8fbc_952b5923b7c7row3_col46\" class=\"data row3 col46\" >0.000000</td>\n",
       "                        <td id=\"T_5a8313ce_cae3_11ea_8fbc_952b5923b7c7row3_col47\" class=\"data row3 col47\" >0.000000</td>\n",
       "                        <td id=\"T_5a8313ce_cae3_11ea_8fbc_952b5923b7c7row3_col48\" class=\"data row3 col48\" >1.000000</td>\n",
       "                        <td id=\"T_5a8313ce_cae3_11ea_8fbc_952b5923b7c7row3_col49\" class=\"data row3 col49\" >0.000000</td>\n",
       "                        <td id=\"T_5a8313ce_cae3_11ea_8fbc_952b5923b7c7row3_col50\" class=\"data row3 col50\" >0.000000</td>\n",
       "                        <td id=\"T_5a8313ce_cae3_11ea_8fbc_952b5923b7c7row3_col51\" class=\"data row3 col51\" >0.000000</td>\n",
       "                        <td id=\"T_5a8313ce_cae3_11ea_8fbc_952b5923b7c7row3_col52\" class=\"data row3 col52\" >1.000000</td>\n",
       "                        <td id=\"T_5a8313ce_cae3_11ea_8fbc_952b5923b7c7row3_col53\" class=\"data row3 col53\" >0.000000</td>\n",
       "                        <td id=\"T_5a8313ce_cae3_11ea_8fbc_952b5923b7c7row3_col54\" class=\"data row3 col54\" >1.000000</td>\n",
       "                        <td id=\"T_5a8313ce_cae3_11ea_8fbc_952b5923b7c7row3_col55\" class=\"data row3 col55\" >0.000000</td>\n",
       "                        <td id=\"T_5a8313ce_cae3_11ea_8fbc_952b5923b7c7row3_col56\" class=\"data row3 col56\" >0.000000</td>\n",
       "                        <td id=\"T_5a8313ce_cae3_11ea_8fbc_952b5923b7c7row3_col57\" class=\"data row3 col57\" >1.000000</td>\n",
       "                        <td id=\"T_5a8313ce_cae3_11ea_8fbc_952b5923b7c7row3_col58\" class=\"data row3 col58\" >0.000000</td>\n",
       "                        <td id=\"T_5a8313ce_cae3_11ea_8fbc_952b5923b7c7row3_col59\" class=\"data row3 col59\" >0.000000</td>\n",
       "                        <td id=\"T_5a8313ce_cae3_11ea_8fbc_952b5923b7c7row3_col60\" class=\"data row3 col60\" >1.000000</td>\n",
       "                        <td id=\"T_5a8313ce_cae3_11ea_8fbc_952b5923b7c7row3_col61\" class=\"data row3 col61\" >0.530000</td>\n",
       "                        <td id=\"T_5a8313ce_cae3_11ea_8fbc_952b5923b7c7row3_col62\" class=\"data row3 col62\" >0.470000</td>\n",
       "            </tr>\n",
       "    </tbody></table>"
      ],
      "text/plain": [
       "<pandas.io.formats.style.Styler at 0x7f34d8bd25d0>"
      ]
     },
     "execution_count": 168,
     "metadata": {},
     "output_type": "execute_result"
    }
   ],
   "source": [
    "ga.results"
   ]
  },
  {
   "cell_type": "code",
   "execution_count": 171,
   "metadata": {},
   "outputs": [
    {
     "name": "stdout",
     "output_type": "stream",
     "text": [
      "\\begin{tabular}{lrrrr}\n",
      "\\toprule\n",
      "{} &     0 &     1 &     2 &     3 \\\\\n",
      "\\midrule\n",
      "duration\\_in\\_month          &    12 &    12 &    12 &    12 \\\\\n",
      "credit\\_amount              &  1858 &  1858 &  1858 &  1858 \\\\\n",
      "installment\\_as\\_income\\_perc &     4 &     4 &     4 &     4 \\\\\n",
      "present\\_res\\_since          &     1 &     1 &     1 &     1 \\\\\n",
      "age                        &    22 &    22 &    22 &    22 \\\\\n",
      "credits\\_this\\_bank          &     1 &     1 &     1 &     1 \\\\\n",
      "people\\_under\\_maintenance   &     1 &     1 &     1 &     1 \\\\\n",
      "account\\_check\\_status       &     1 &     1 &     2 &     1 \\\\\n",
      "credit\\_history             &     3 &     3 &     3 &     3 \\\\\n",
      "purpose                    &     7 &     7 &     7 &     7 \\\\\n",
      "savings                    &     1 &     0 &     1 &     1 \\\\\n",
      "present\\_emp\\_since          &     1 &     1 &     1 &     1 \\\\\n",
      "personal\\_status\\_sex        &     0 &     0 &     0 &     0 \\\\\n",
      "other\\_debtors              &     2 &     2 &     2 &     1 \\\\\n",
      "property                   &     1 &     1 &     1 &     1 \\\\\n",
      "other\\_installment\\_plans    &     1 &     1 &     1 &     1 \\\\\n",
      "housing                    &     2 &     2 &     2 &     2 \\\\\n",
      "job                        &     1 &     1 &     1 &     1 \\\\\n",
      "telephone                  &     0 &     0 &     0 &     0 \\\\\n",
      "foreign\\_worker             &     1 &     1 &     1 &     1 \\\\\n",
      "Pred. Proba                &     0 &     0 &     0 &     0 \\\\\n",
      "\\bottomrule\n",
      "\\end{tabular}\n",
      "\n"
     ]
    }
   ],
   "source": [
    "df = pd.DataFrame(alibi_ohe_to_ord(ga.results.data.values, ga.cat_vars_ohe)[0].astype(int), columns=list(x_changes.columns) + [\"P0\", \"Pred. Proba\"]).drop(columns=[\"P0\"])\n",
    "print(df.T.to_latex())"
   ]
  },
  {
   "cell_type": "code",
   "execution_count": 170,
   "metadata": {},
   "outputs": [
    {
     "name": "stdout",
     "output_type": "stream",
     "text": [
      "No edges exist!\n"
     ]
    }
   ],
   "source": [
    "plot_graph(x_changes, 0, figsize=(7,7), save=True)"
   ]
  },
  {
   "cell_type": "code",
   "execution_count": 15,
   "metadata": {},
   "outputs": [
    {
     "data": {
      "text/html": [
       "['duration_in_month', 'credit_amount', 'installment_as_income_perc', 'present_res_since', 'age', 'credits_this_bank', 'people_under_maintenance', 'account_check_status', 'credit_history', 'purpose', 'savings', 'present_emp_since', 'personal_status_sex', 'other_debtors', 'property', 'other_installment_plans', 'housing', 'job', 'telephone', 'foreign_worker']"
      ],
      "text/plain": [
       "['duration_in_month',\n",
       " 'credit_amount',\n",
       " 'installment_as_income_perc',\n",
       " 'present_res_since',\n",
       " 'age',\n",
       " 'credits_this_bank',\n",
       " 'people_under_maintenance',\n",
       " 'account_check_status',\n",
       " 'credit_history',\n",
       " 'purpose',\n",
       " 'savings',\n",
       " 'present_emp_since',\n",
       " 'personal_status_sex',\n",
       " 'other_debtors',\n",
       " 'property',\n",
       " 'other_installment_plans',\n",
       " 'housing',\n",
       " 'job',\n",
       " 'telephone',\n",
       " 'foreign_worker']"
      ]
     },
     "execution_count": 15,
     "metadata": {},
     "output_type": "execute_result"
    }
   ],
   "source": [
    "feat_ord = list(x_changes.columns)\n",
    "feat_ord"
   ]
  },
  {
   "cell_type": "code",
   "execution_count": 16,
   "metadata": {},
   "outputs": [],
   "source": [
    "# blist = [i for i in range(len(feat_ord)) if (\"age\" not in feat_ord[i]) and (\"foreign_worker\" not in feat_ord[i]) and (\"personal_status_sex\" not in feat_ord[i]) ]\n",
    "# blist = [i for i in range(len(feat_ord)) if (\"account_check_status\" in feat_ord[i]) or (\"purpose\" in feat_ord[i]) or (\"credit_history\" in feat_ord[i]) ]\n",
    "blist = []"
   ]
  },
  {
   "cell_type": "code",
   "execution_count": 17,
   "metadata": {},
   "outputs": [
    {
     "data": {
      "text/html": [
       "[]"
      ],
      "text/plain": [
       "[]"
      ]
     },
     "execution_count": 17,
     "metadata": {},
     "output_type": "execute_result"
    }
   ],
   "source": [
    "blist"
   ]
  },
  {
   "cell_type": "code",
   "execution_count": 18,
   "metadata": {
    "collapsed": true,
    "jupyter": {
     "outputs_hidden": true
    }
   },
   "outputs": [
    {
     "name": "stderr",
     "output_type": "stream",
     "text": [
      "100%|██████████| 1/1 [00:01<00:00,  1.80s/it]\n",
      "  0%|          | 0/1 [00:00<?, ?it/s]"
     ]
    },
    {
     "name": "stdout",
     "output_type": "stream",
     "text": [
      "1\n"
     ]
    },
    {
     "name": "stderr",
     "output_type": "stream",
     "text": [
      "100%|██████████| 1/1 [00:02<00:00,  2.48s/it]\n",
      "  0%|          | 0/1 [00:00<?, ?it/s]"
     ]
    },
    {
     "name": "stdout",
     "output_type": "stream",
     "text": [
      "1\n"
     ]
    },
    {
     "name": "stderr",
     "output_type": "stream",
     "text": [
      "100%|██████████| 1/1 [00:03<00:00,  3.62s/it]\n",
      "  0%|          | 0/1 [00:00<?, ?it/s]"
     ]
    },
    {
     "name": "stdout",
     "output_type": "stream",
     "text": [
      "1\n"
     ]
    },
    {
     "name": "stderr",
     "output_type": "stream",
     "text": [
      "100%|██████████| 1/1 [00:01<00:00,  1.09s/it]\n",
      "  0%|          | 0/1 [00:00<?, ?it/s]"
     ]
    },
    {
     "name": "stdout",
     "output_type": "stream",
     "text": [
      "1\n"
     ]
    },
    {
     "name": "stderr",
     "output_type": "stream",
     "text": [
      "100%|██████████| 1/1 [00:02<00:00,  2.45s/it]\n",
      "  0%|          | 0/1 [00:00<?, ?it/s]"
     ]
    },
    {
     "name": "stdout",
     "output_type": "stream",
     "text": [
      "1\n"
     ]
    },
    {
     "name": "stderr",
     "output_type": "stream",
     "text": [
      "100%|██████████| 1/1 [00:03<00:00,  3.25s/it]\n",
      "  0%|          | 0/1 [00:00<?, ?it/s]"
     ]
    },
    {
     "name": "stdout",
     "output_type": "stream",
     "text": [
      "1\n"
     ]
    },
    {
     "name": "stderr",
     "output_type": "stream",
     "text": [
      "100%|██████████| 1/1 [00:06<00:00,  6.48s/it]\n",
      "  0%|          | 0/1 [00:00<?, ?it/s]"
     ]
    },
    {
     "name": "stdout",
     "output_type": "stream",
     "text": [
      "1\n"
     ]
    },
    {
     "name": "stderr",
     "output_type": "stream",
     "text": [
      "100%|██████████| 1/1 [00:01<00:00,  1.02s/it]\n",
      "  0%|          | 0/1 [00:00<?, ?it/s]"
     ]
    },
    {
     "name": "stdout",
     "output_type": "stream",
     "text": [
      "1\n"
     ]
    },
    {
     "name": "stderr",
     "output_type": "stream",
     "text": [
      "100%|██████████| 1/1 [00:02<00:00,  2.32s/it]\n",
      "  0%|          | 0/1 [00:00<?, ?it/s]"
     ]
    },
    {
     "name": "stdout",
     "output_type": "stream",
     "text": [
      "1\n"
     ]
    },
    {
     "name": "stderr",
     "output_type": "stream",
     "text": [
      "100%|██████████| 1/1 [00:01<00:00,  1.77s/it]\n",
      "  0%|          | 0/1 [00:00<?, ?it/s]"
     ]
    },
    {
     "name": "stdout",
     "output_type": "stream",
     "text": [
      "1\n"
     ]
    },
    {
     "name": "stderr",
     "output_type": "stream",
     "text": [
      "100%|██████████| 1/1 [00:02<00:00,  2.50s/it]\n",
      "  0%|          | 0/1 [00:00<?, ?it/s]"
     ]
    },
    {
     "name": "stdout",
     "output_type": "stream",
     "text": [
      "1\n"
     ]
    },
    {
     "name": "stderr",
     "output_type": "stream",
     "text": [
      "100%|██████████| 1/1 [00:01<00:00,  1.06s/it]\n",
      "  0%|          | 0/1 [00:00<?, ?it/s]"
     ]
    },
    {
     "name": "stdout",
     "output_type": "stream",
     "text": [
      "1\n"
     ]
    },
    {
     "name": "stderr",
     "output_type": "stream",
     "text": [
      "100%|██████████| 1/1 [00:02<00:00,  2.94s/it]\n",
      "  0%|          | 0/1 [00:00<?, ?it/s]"
     ]
    },
    {
     "name": "stdout",
     "output_type": "stream",
     "text": [
      "1\n"
     ]
    },
    {
     "name": "stderr",
     "output_type": "stream",
     "text": [
      "100%|██████████| 1/1 [00:02<00:00,  2.14s/it]\n",
      "  0%|          | 0/1 [00:00<?, ?it/s]"
     ]
    },
    {
     "name": "stdout",
     "output_type": "stream",
     "text": [
      "1\n"
     ]
    },
    {
     "name": "stderr",
     "output_type": "stream",
     "text": [
      "100%|██████████| 1/1 [00:03<00:00,  3.61s/it]\n",
      "  0%|          | 0/1 [00:00<?, ?it/s]"
     ]
    },
    {
     "name": "stdout",
     "output_type": "stream",
     "text": [
      "1\n"
     ]
    },
    {
     "name": "stderr",
     "output_type": "stream",
     "text": [
      "100%|██████████| 1/1 [00:03<00:00,  3.11s/it]\n",
      "  0%|          | 0/1 [00:00<?, ?it/s]"
     ]
    },
    {
     "name": "stdout",
     "output_type": "stream",
     "text": [
      "1\n"
     ]
    },
    {
     "name": "stderr",
     "output_type": "stream",
     "text": [
      "100%|██████████| 1/1 [00:00<00:00,  1.33it/s]\n",
      "  0%|          | 0/1 [00:00<?, ?it/s]"
     ]
    },
    {
     "name": "stdout",
     "output_type": "stream",
     "text": [
      "1\n"
     ]
    },
    {
     "name": "stderr",
     "output_type": "stream",
     "text": [
      "100%|██████████| 1/1 [00:02<00:00,  2.08s/it]\n",
      "  0%|          | 0/1 [00:00<?, ?it/s]"
     ]
    },
    {
     "name": "stdout",
     "output_type": "stream",
     "text": [
      "1\n"
     ]
    },
    {
     "name": "stderr",
     "output_type": "stream",
     "text": [
      "100%|██████████| 1/1 [00:00<00:00,  1.06it/s]\n",
      "  0%|          | 0/1 [00:00<?, ?it/s]"
     ]
    },
    {
     "name": "stdout",
     "output_type": "stream",
     "text": [
      "1\n"
     ]
    },
    {
     "name": "stderr",
     "output_type": "stream",
     "text": [
      "100%|██████████| 1/1 [00:02<00:00,  2.14s/it]\n",
      "  0%|          | 0/1 [00:00<?, ?it/s]"
     ]
    },
    {
     "name": "stdout",
     "output_type": "stream",
     "text": [
      "1\n"
     ]
    },
    {
     "name": "stderr",
     "output_type": "stream",
     "text": [
      "100%|██████████| 1/1 [00:02<00:00,  2.29s/it]\n",
      "  0%|          | 0/1 [00:00<?, ?it/s]"
     ]
    },
    {
     "name": "stdout",
     "output_type": "stream",
     "text": [
      "1\n"
     ]
    },
    {
     "name": "stderr",
     "output_type": "stream",
     "text": [
      "100%|██████████| 1/1 [00:01<00:00,  1.20s/it]\n",
      "  0%|          | 0/1 [00:00<?, ?it/s]"
     ]
    },
    {
     "name": "stdout",
     "output_type": "stream",
     "text": [
      "1\n"
     ]
    },
    {
     "name": "stderr",
     "output_type": "stream",
     "text": [
      "100%|██████████| 1/1 [00:00<00:00,  1.32it/s]\n",
      "  0%|          | 0/1 [00:00<?, ?it/s]"
     ]
    },
    {
     "name": "stdout",
     "output_type": "stream",
     "text": [
      "1\n"
     ]
    },
    {
     "name": "stderr",
     "output_type": "stream",
     "text": [
      "100%|██████████| 1/1 [00:03<00:00,  3.59s/it]\n",
      "  0%|          | 0/1 [00:00<?, ?it/s]"
     ]
    },
    {
     "name": "stdout",
     "output_type": "stream",
     "text": [
      "1\n"
     ]
    },
    {
     "name": "stderr",
     "output_type": "stream",
     "text": [
      "100%|██████████| 1/1 [00:01<00:00,  1.83s/it]\n",
      "  0%|          | 0/1 [00:00<?, ?it/s]"
     ]
    },
    {
     "name": "stdout",
     "output_type": "stream",
     "text": [
      "1\n"
     ]
    },
    {
     "name": "stderr",
     "output_type": "stream",
     "text": [
      "100%|██████████| 1/1 [00:02<00:00,  2.65s/it]\n",
      "  0%|          | 0/1 [00:00<?, ?it/s]"
     ]
    },
    {
     "name": "stdout",
     "output_type": "stream",
     "text": [
      "1\n"
     ]
    },
    {
     "name": "stderr",
     "output_type": "stream",
     "text": [
      "100%|██████████| 1/1 [00:02<00:00,  2.10s/it]\n",
      "  0%|          | 0/1 [00:00<?, ?it/s]"
     ]
    },
    {
     "name": "stdout",
     "output_type": "stream",
     "text": [
      "1\n"
     ]
    },
    {
     "name": "stderr",
     "output_type": "stream",
     "text": [
      "100%|██████████| 1/1 [00:02<00:00,  2.84s/it]\n",
      "  0%|          | 0/1 [00:00<?, ?it/s]"
     ]
    },
    {
     "name": "stdout",
     "output_type": "stream",
     "text": [
      "1\n"
     ]
    },
    {
     "name": "stderr",
     "output_type": "stream",
     "text": [
      "100%|██████████| 1/1 [00:02<00:00,  2.82s/it]\n",
      "  0%|          | 0/1 [00:00<?, ?it/s]"
     ]
    },
    {
     "name": "stdout",
     "output_type": "stream",
     "text": [
      "1\n"
     ]
    },
    {
     "name": "stderr",
     "output_type": "stream",
     "text": [
      "100%|██████████| 1/1 [00:01<00:00,  1.63s/it]\n",
      "  0%|          | 0/1 [00:00<?, ?it/s]"
     ]
    },
    {
     "name": "stdout",
     "output_type": "stream",
     "text": [
      "1\n"
     ]
    },
    {
     "name": "stderr",
     "output_type": "stream",
     "text": [
      "100%|██████████| 1/1 [00:02<00:00,  2.39s/it]\n",
      "  0%|          | 0/1 [00:00<?, ?it/s]"
     ]
    },
    {
     "name": "stdout",
     "output_type": "stream",
     "text": [
      "1\n"
     ]
    },
    {
     "name": "stderr",
     "output_type": "stream",
     "text": [
      "100%|██████████| 1/1 [00:03<00:00,  3.26s/it]\n",
      "  0%|          | 0/1 [00:00<?, ?it/s]"
     ]
    },
    {
     "name": "stdout",
     "output_type": "stream",
     "text": [
      "1\n"
     ]
    },
    {
     "name": "stderr",
     "output_type": "stream",
     "text": [
      "100%|██████████| 1/1 [00:00<00:00,  5.52it/s]\n",
      "  0%|          | 0/1 [00:00<?, ?it/s]"
     ]
    },
    {
     "name": "stdout",
     "output_type": "stream",
     "text": [
      "1\n"
     ]
    },
    {
     "name": "stderr",
     "output_type": "stream",
     "text": [
      "100%|██████████| 1/1 [00:03<00:00,  3.28s/it]\n",
      "  0%|          | 0/1 [00:00<?, ?it/s]"
     ]
    },
    {
     "name": "stdout",
     "output_type": "stream",
     "text": [
      "1\n"
     ]
    },
    {
     "name": "stderr",
     "output_type": "stream",
     "text": [
      "100%|██████████| 1/1 [00:02<00:00,  2.52s/it]\n",
      "  0%|          | 0/1 [00:00<?, ?it/s]"
     ]
    },
    {
     "name": "stdout",
     "output_type": "stream",
     "text": [
      "1\n"
     ]
    },
    {
     "name": "stderr",
     "output_type": "stream",
     "text": [
      "100%|██████████| 1/1 [00:01<00:00,  1.16s/it]\n",
      "  0%|          | 0/1 [00:00<?, ?it/s]"
     ]
    },
    {
     "name": "stdout",
     "output_type": "stream",
     "text": [
      "1\n"
     ]
    },
    {
     "name": "stderr",
     "output_type": "stream",
     "text": [
      "100%|██████████| 1/1 [00:02<00:00,  2.96s/it]\n",
      "  0%|          | 0/1 [00:00<?, ?it/s]"
     ]
    },
    {
     "name": "stdout",
     "output_type": "stream",
     "text": [
      "1\n"
     ]
    },
    {
     "name": "stderr",
     "output_type": "stream",
     "text": [
      "100%|██████████| 1/1 [00:02<00:00,  2.52s/it]\n",
      "  0%|          | 0/1 [00:00<?, ?it/s]"
     ]
    },
    {
     "name": "stdout",
     "output_type": "stream",
     "text": [
      "1\n"
     ]
    },
    {
     "name": "stderr",
     "output_type": "stream",
     "text": [
      "100%|██████████| 1/1 [00:01<00:00,  1.80s/it]\n",
      "  0%|          | 0/1 [00:00<?, ?it/s]"
     ]
    },
    {
     "name": "stdout",
     "output_type": "stream",
     "text": [
      "1\n"
     ]
    },
    {
     "name": "stderr",
     "output_type": "stream",
     "text": [
      "100%|██████████| 1/1 [00:01<00:00,  1.28s/it]\n",
      "  0%|          | 0/1 [00:00<?, ?it/s]"
     ]
    },
    {
     "name": "stdout",
     "output_type": "stream",
     "text": [
      "1\n"
     ]
    },
    {
     "name": "stderr",
     "output_type": "stream",
     "text": [
      "100%|██████████| 1/1 [00:02<00:00,  2.52s/it]\n",
      "  0%|          | 0/1 [00:00<?, ?it/s]"
     ]
    },
    {
     "name": "stdout",
     "output_type": "stream",
     "text": [
      "1\n"
     ]
    },
    {
     "name": "stderr",
     "output_type": "stream",
     "text": [
      "100%|██████████| 1/1 [00:04<00:00,  4.14s/it]\n",
      "  0%|          | 0/1 [00:00<?, ?it/s]"
     ]
    },
    {
     "name": "stdout",
     "output_type": "stream",
     "text": [
      "1\n"
     ]
    },
    {
     "name": "stderr",
     "output_type": "stream",
     "text": [
      "100%|██████████| 1/1 [00:01<00:00,  1.13s/it]\n",
      "  0%|          | 0/1 [00:00<?, ?it/s]"
     ]
    },
    {
     "name": "stdout",
     "output_type": "stream",
     "text": [
      "1\n"
     ]
    },
    {
     "name": "stderr",
     "output_type": "stream",
     "text": [
      "100%|██████████| 1/1 [00:04<00:00,  4.31s/it]\n",
      "  0%|          | 0/1 [00:00<?, ?it/s]"
     ]
    },
    {
     "name": "stdout",
     "output_type": "stream",
     "text": [
      "1\n"
     ]
    },
    {
     "name": "stderr",
     "output_type": "stream",
     "text": [
      "100%|██████████| 1/1 [00:01<00:00,  1.82s/it]\n",
      "  0%|          | 0/1 [00:00<?, ?it/s]"
     ]
    },
    {
     "name": "stdout",
     "output_type": "stream",
     "text": [
      "1\n"
     ]
    },
    {
     "name": "stderr",
     "output_type": "stream",
     "text": [
      "100%|██████████| 1/1 [00:02<00:00,  2.61s/it]\n",
      "  0%|          | 0/1 [00:00<?, ?it/s]"
     ]
    },
    {
     "name": "stdout",
     "output_type": "stream",
     "text": [
      "1\n"
     ]
    },
    {
     "name": "stderr",
     "output_type": "stream",
     "text": [
      "100%|██████████| 1/1 [00:00<00:00,  1.49it/s]\n",
      "  0%|          | 0/1 [00:00<?, ?it/s]"
     ]
    },
    {
     "name": "stdout",
     "output_type": "stream",
     "text": [
      "1\n"
     ]
    },
    {
     "name": "stderr",
     "output_type": "stream",
     "text": [
      "100%|██████████| 1/1 [00:01<00:00,  1.27s/it]\n",
      "  0%|          | 0/1 [00:00<?, ?it/s]"
     ]
    },
    {
     "name": "stdout",
     "output_type": "stream",
     "text": [
      "1\n"
     ]
    },
    {
     "name": "stderr",
     "output_type": "stream",
     "text": [
      "100%|██████████| 1/1 [00:02<00:00,  2.22s/it]\n",
      "  0%|          | 0/1 [00:00<?, ?it/s]"
     ]
    },
    {
     "name": "stdout",
     "output_type": "stream",
     "text": [
      "1\n"
     ]
    },
    {
     "name": "stderr",
     "output_type": "stream",
     "text": [
      "100%|██████████| 1/1 [00:02<00:00,  2.64s/it]\n",
      "  0%|          | 0/1 [00:00<?, ?it/s]"
     ]
    },
    {
     "name": "stdout",
     "output_type": "stream",
     "text": [
      "1\n"
     ]
    },
    {
     "name": "stderr",
     "output_type": "stream",
     "text": [
      "100%|██████████| 1/1 [00:03<00:00,  3.16s/it]\n",
      "  0%|          | 0/1 [00:00<?, ?it/s]"
     ]
    },
    {
     "name": "stdout",
     "output_type": "stream",
     "text": [
      "1\n"
     ]
    },
    {
     "name": "stderr",
     "output_type": "stream",
     "text": [
      "100%|██████████| 1/1 [00:00<00:00,  1.02it/s]\n",
      "  0%|          | 0/1 [00:00<?, ?it/s]"
     ]
    },
    {
     "name": "stdout",
     "output_type": "stream",
     "text": [
      "1\n"
     ]
    },
    {
     "name": "stderr",
     "output_type": "stream",
     "text": [
      "100%|██████████| 1/1 [00:01<00:00,  1.44s/it]\n",
      "  0%|          | 0/1 [00:00<?, ?it/s]"
     ]
    },
    {
     "name": "stdout",
     "output_type": "stream",
     "text": [
      "1\n"
     ]
    },
    {
     "name": "stderr",
     "output_type": "stream",
     "text": [
      "100%|██████████| 1/1 [00:02<00:00,  2.02s/it]\n",
      "  0%|          | 0/1 [00:00<?, ?it/s]"
     ]
    },
    {
     "name": "stdout",
     "output_type": "stream",
     "text": [
      "1\n"
     ]
    },
    {
     "name": "stderr",
     "output_type": "stream",
     "text": [
      "100%|██████████| 1/1 [00:01<00:00,  1.29s/it]\n",
      "  0%|          | 0/1 [00:00<?, ?it/s]"
     ]
    },
    {
     "name": "stdout",
     "output_type": "stream",
     "text": [
      "1\n"
     ]
    },
    {
     "name": "stderr",
     "output_type": "stream",
     "text": [
      "100%|██████████| 1/1 [00:01<00:00,  1.35s/it]\n",
      "  0%|          | 0/1 [00:00<?, ?it/s]"
     ]
    },
    {
     "name": "stdout",
     "output_type": "stream",
     "text": [
      "1\n"
     ]
    },
    {
     "name": "stderr",
     "output_type": "stream",
     "text": [
      "100%|██████████| 1/1 [00:02<00:00,  2.33s/it]\n",
      "  0%|          | 0/1 [00:00<?, ?it/s]"
     ]
    },
    {
     "name": "stdout",
     "output_type": "stream",
     "text": [
      "1\n"
     ]
    },
    {
     "name": "stderr",
     "output_type": "stream",
     "text": [
      "100%|██████████| 1/1 [00:02<00:00,  2.69s/it]\n",
      "  0%|          | 0/1 [00:00<?, ?it/s]"
     ]
    },
    {
     "name": "stdout",
     "output_type": "stream",
     "text": [
      "1\n"
     ]
    },
    {
     "name": "stderr",
     "output_type": "stream",
     "text": [
      "100%|██████████| 1/1 [00:02<00:00,  2.22s/it]\n",
      "  0%|          | 0/1 [00:00<?, ?it/s]"
     ]
    },
    {
     "name": "stdout",
     "output_type": "stream",
     "text": [
      "1\n"
     ]
    },
    {
     "name": "stderr",
     "output_type": "stream",
     "text": [
      "100%|██████████| 1/1 [00:02<00:00,  2.62s/it]\n",
      "  0%|          | 0/1 [00:00<?, ?it/s]"
     ]
    },
    {
     "name": "stdout",
     "output_type": "stream",
     "text": [
      "1\n"
     ]
    },
    {
     "name": "stderr",
     "output_type": "stream",
     "text": [
      "100%|██████████| 1/1 [00:04<00:00,  4.65s/it]\n",
      "  0%|          | 0/1 [00:00<?, ?it/s]"
     ]
    },
    {
     "name": "stdout",
     "output_type": "stream",
     "text": [
      "1\n"
     ]
    },
    {
     "name": "stderr",
     "output_type": "stream",
     "text": [
      "100%|██████████| 1/1 [00:00<00:00,  1.19it/s]\n",
      "  0%|          | 0/1 [00:00<?, ?it/s]"
     ]
    },
    {
     "name": "stdout",
     "output_type": "stream",
     "text": [
      "1\n"
     ]
    },
    {
     "name": "stderr",
     "output_type": "stream",
     "text": [
      "100%|██████████| 1/1 [00:02<00:00,  2.94s/it]\n",
      "  0%|          | 0/1 [00:00<?, ?it/s]"
     ]
    },
    {
     "name": "stdout",
     "output_type": "stream",
     "text": [
      "1\n"
     ]
    },
    {
     "name": "stderr",
     "output_type": "stream",
     "text": [
      "100%|██████████| 1/1 [00:03<00:00,  3.95s/it]\n",
      "  0%|          | 0/1 [00:00<?, ?it/s]"
     ]
    },
    {
     "name": "stdout",
     "output_type": "stream",
     "text": [
      "1\n"
     ]
    },
    {
     "name": "stderr",
     "output_type": "stream",
     "text": [
      "100%|██████████| 1/1 [00:01<00:00,  1.29s/it]\n",
      "  0%|          | 0/1 [00:00<?, ?it/s]"
     ]
    },
    {
     "name": "stdout",
     "output_type": "stream",
     "text": [
      "1\n"
     ]
    },
    {
     "name": "stderr",
     "output_type": "stream",
     "text": [
      "100%|██████████| 1/1 [00:01<00:00,  1.37s/it]\n",
      "  0%|          | 0/1 [00:00<?, ?it/s]"
     ]
    },
    {
     "name": "stdout",
     "output_type": "stream",
     "text": [
      "1\n"
     ]
    },
    {
     "name": "stderr",
     "output_type": "stream",
     "text": [
      "100%|██████████| 1/1 [00:01<00:00,  1.91s/it]\n",
      "100%|██████████| 1/1 [00:00<00:00,  9.54it/s]\n"
     ]
    },
    {
     "name": "stdout",
     "output_type": "stream",
     "text": [
      "1\n",
      "1\n"
     ]
    },
    {
     "name": "stderr",
     "output_type": "stream",
     "text": [
      "100%|██████████| 1/1 [00:02<00:00,  2.05s/it]\n",
      "  0%|          | 0/1 [00:00<?, ?it/s]"
     ]
    },
    {
     "name": "stdout",
     "output_type": "stream",
     "text": [
      "1\n"
     ]
    },
    {
     "name": "stderr",
     "output_type": "stream",
     "text": [
      "100%|██████████| 1/1 [00:00<00:00,  3.28it/s]\n",
      "  0%|          | 0/1 [00:00<?, ?it/s]"
     ]
    },
    {
     "name": "stdout",
     "output_type": "stream",
     "text": [
      "1\n"
     ]
    },
    {
     "name": "stderr",
     "output_type": "stream",
     "text": [
      "100%|██████████| 1/1 [00:03<00:00,  3.14s/it]\n",
      "  0%|          | 0/1 [00:00<?, ?it/s]"
     ]
    },
    {
     "name": "stdout",
     "output_type": "stream",
     "text": [
      "1\n"
     ]
    },
    {
     "name": "stderr",
     "output_type": "stream",
     "text": [
      "100%|██████████| 1/1 [00:01<00:00,  1.68s/it]\n",
      "  0%|          | 0/1 [00:00<?, ?it/s]"
     ]
    },
    {
     "name": "stdout",
     "output_type": "stream",
     "text": [
      "1\n"
     ]
    },
    {
     "name": "stderr",
     "output_type": "stream",
     "text": [
      "100%|██████████| 1/1 [00:01<00:00,  1.67s/it]\n",
      "  0%|          | 0/1 [00:00<?, ?it/s]"
     ]
    },
    {
     "name": "stdout",
     "output_type": "stream",
     "text": [
      "1\n"
     ]
    },
    {
     "name": "stderr",
     "output_type": "stream",
     "text": [
      "100%|██████████| 1/1 [00:02<00:00,  2.81s/it]\n",
      "  0%|          | 0/1 [00:00<?, ?it/s]"
     ]
    },
    {
     "name": "stdout",
     "output_type": "stream",
     "text": [
      "1\n"
     ]
    },
    {
     "name": "stderr",
     "output_type": "stream",
     "text": [
      "100%|██████████| 1/1 [00:01<00:00,  1.03s/it]\n",
      "  0%|          | 0/1 [00:00<?, ?it/s]"
     ]
    },
    {
     "name": "stdout",
     "output_type": "stream",
     "text": [
      "1\n"
     ]
    },
    {
     "name": "stderr",
     "output_type": "stream",
     "text": [
      "100%|██████████| 1/1 [00:01<00:00,  1.40s/it]\n",
      "  0%|          | 0/1 [00:00<?, ?it/s]"
     ]
    },
    {
     "name": "stdout",
     "output_type": "stream",
     "text": [
      "1\n"
     ]
    },
    {
     "name": "stderr",
     "output_type": "stream",
     "text": [
      "100%|██████████| 1/1 [00:01<00:00,  1.33s/it]\n",
      "  0%|          | 0/1 [00:00<?, ?it/s]"
     ]
    },
    {
     "name": "stdout",
     "output_type": "stream",
     "text": [
      "1\n"
     ]
    },
    {
     "name": "stderr",
     "output_type": "stream",
     "text": [
      "100%|██████████| 1/1 [00:02<00:00,  2.56s/it]\n",
      "  0%|          | 0/1 [00:00<?, ?it/s]"
     ]
    },
    {
     "name": "stdout",
     "output_type": "stream",
     "text": [
      "1\n"
     ]
    },
    {
     "name": "stderr",
     "output_type": "stream",
     "text": [
      "100%|██████████| 1/1 [00:02<00:00,  2.81s/it]\n",
      "  0%|          | 0/1 [00:00<?, ?it/s]"
     ]
    },
    {
     "name": "stdout",
     "output_type": "stream",
     "text": [
      "1\n"
     ]
    },
    {
     "name": "stderr",
     "output_type": "stream",
     "text": [
      "100%|██████████| 1/1 [00:02<00:00,  2.54s/it]\n",
      "  0%|          | 0/1 [00:00<?, ?it/s]"
     ]
    },
    {
     "name": "stdout",
     "output_type": "stream",
     "text": [
      "1\n"
     ]
    },
    {
     "name": "stderr",
     "output_type": "stream",
     "text": [
      "100%|██████████| 1/1 [00:01<00:00,  1.93s/it]\n",
      "  0%|          | 0/1 [00:00<?, ?it/s]"
     ]
    },
    {
     "name": "stdout",
     "output_type": "stream",
     "text": [
      "1\n"
     ]
    },
    {
     "name": "stderr",
     "output_type": "stream",
     "text": [
      "100%|██████████| 1/1 [00:01<00:00,  1.21s/it]\n",
      "  0%|          | 0/1 [00:00<?, ?it/s]"
     ]
    },
    {
     "name": "stdout",
     "output_type": "stream",
     "text": [
      "1\n"
     ]
    },
    {
     "name": "stderr",
     "output_type": "stream",
     "text": [
      "100%|██████████| 1/1 [00:00<00:00,  1.88it/s]\n",
      "  0%|          | 0/1 [00:00<?, ?it/s]"
     ]
    },
    {
     "name": "stdout",
     "output_type": "stream",
     "text": [
      "1\n"
     ]
    },
    {
     "name": "stderr",
     "output_type": "stream",
     "text": [
      "100%|██████████| 1/1 [00:01<00:00,  1.37s/it]\n",
      "  0%|          | 0/1 [00:00<?, ?it/s]"
     ]
    },
    {
     "name": "stdout",
     "output_type": "stream",
     "text": [
      "1\n"
     ]
    },
    {
     "name": "stderr",
     "output_type": "stream",
     "text": [
      "100%|██████████| 1/1 [00:00<00:00,  1.12it/s]\n",
      "  0%|          | 0/1 [00:00<?, ?it/s]"
     ]
    },
    {
     "name": "stdout",
     "output_type": "stream",
     "text": [
      "1\n"
     ]
    },
    {
     "name": "stderr",
     "output_type": "stream",
     "text": [
      "100%|██████████| 1/1 [00:03<00:00,  3.75s/it]\n",
      "  0%|          | 0/1 [00:00<?, ?it/s]"
     ]
    },
    {
     "name": "stdout",
     "output_type": "stream",
     "text": [
      "1\n"
     ]
    },
    {
     "name": "stderr",
     "output_type": "stream",
     "text": [
      "100%|██████████| 1/1 [00:01<00:00,  1.63s/it]\n",
      "  0%|          | 0/1 [00:00<?, ?it/s]"
     ]
    },
    {
     "name": "stdout",
     "output_type": "stream",
     "text": [
      "1\n"
     ]
    },
    {
     "name": "stderr",
     "output_type": "stream",
     "text": [
      "100%|██████████| 1/1 [00:02<00:00,  2.72s/it]\n",
      "  0%|          | 0/1 [00:00<?, ?it/s]"
     ]
    },
    {
     "name": "stdout",
     "output_type": "stream",
     "text": [
      "1\n"
     ]
    },
    {
     "name": "stderr",
     "output_type": "stream",
     "text": [
      "100%|██████████| 1/1 [00:02<00:00,  2.66s/it]\n",
      "  0%|          | 0/1 [00:00<?, ?it/s]"
     ]
    },
    {
     "name": "stdout",
     "output_type": "stream",
     "text": [
      "1\n"
     ]
    },
    {
     "name": "stderr",
     "output_type": "stream",
     "text": [
      "100%|██████████| 1/1 [00:01<00:00,  1.59s/it]\n",
      "  0%|          | 0/1 [00:00<?, ?it/s]"
     ]
    },
    {
     "name": "stdout",
     "output_type": "stream",
     "text": [
      "1\n"
     ]
    },
    {
     "name": "stderr",
     "output_type": "stream",
     "text": [
      "100%|██████████| 1/1 [00:00<00:00,  2.03it/s]\n",
      "  0%|          | 0/1 [00:00<?, ?it/s]"
     ]
    },
    {
     "name": "stdout",
     "output_type": "stream",
     "text": [
      "1\n"
     ]
    },
    {
     "name": "stderr",
     "output_type": "stream",
     "text": [
      "100%|██████████| 1/1 [00:02<00:00,  2.01s/it]\n",
      "  0%|          | 0/1 [00:00<?, ?it/s]"
     ]
    },
    {
     "name": "stdout",
     "output_type": "stream",
     "text": [
      "1\n"
     ]
    },
    {
     "name": "stderr",
     "output_type": "stream",
     "text": [
      "100%|██████████| 1/1 [00:03<00:00,  3.01s/it]\n",
      "  0%|          | 0/1 [00:00<?, ?it/s]"
     ]
    },
    {
     "name": "stdout",
     "output_type": "stream",
     "text": [
      "1\n"
     ]
    },
    {
     "name": "stderr",
     "output_type": "stream",
     "text": [
      "100%|██████████| 1/1 [00:02<00:00,  2.62s/it]\n",
      "  0%|          | 0/1 [00:00<?, ?it/s]"
     ]
    },
    {
     "name": "stdout",
     "output_type": "stream",
     "text": [
      "1\n"
     ]
    },
    {
     "name": "stderr",
     "output_type": "stream",
     "text": [
      "100%|██████████| 1/1 [00:01<00:00,  1.09s/it]\n",
      "  0%|          | 0/1 [00:00<?, ?it/s]"
     ]
    },
    {
     "name": "stdout",
     "output_type": "stream",
     "text": [
      "1\n"
     ]
    },
    {
     "name": "stderr",
     "output_type": "stream",
     "text": [
      "100%|██████████| 1/1 [00:02<00:00,  2.62s/it]\n",
      "  0%|          | 0/1 [00:00<?, ?it/s]"
     ]
    },
    {
     "name": "stdout",
     "output_type": "stream",
     "text": [
      "1\n"
     ]
    },
    {
     "name": "stderr",
     "output_type": "stream",
     "text": [
      "100%|██████████| 1/1 [00:01<00:00,  1.44s/it]\n",
      "  0%|          | 0/1 [00:00<?, ?it/s]"
     ]
    },
    {
     "name": "stdout",
     "output_type": "stream",
     "text": [
      "1\n"
     ]
    },
    {
     "name": "stderr",
     "output_type": "stream",
     "text": [
      "100%|██████████| 1/1 [00:03<00:00,  3.63s/it]\n",
      "  0%|          | 0/1 [00:00<?, ?it/s]"
     ]
    },
    {
     "name": "stdout",
     "output_type": "stream",
     "text": [
      "1\n"
     ]
    },
    {
     "name": "stderr",
     "output_type": "stream",
     "text": [
      "100%|██████████| 1/1 [00:01<00:00,  1.46s/it]\n",
      "  0%|          | 0/1 [00:00<?, ?it/s]"
     ]
    },
    {
     "name": "stdout",
     "output_type": "stream",
     "text": [
      "1\n"
     ]
    },
    {
     "name": "stderr",
     "output_type": "stream",
     "text": [
      "100%|██████████| 1/1 [00:02<00:00,  2.23s/it]\n",
      "  0%|          | 0/1 [00:00<?, ?it/s]"
     ]
    },
    {
     "name": "stdout",
     "output_type": "stream",
     "text": [
      "1\n"
     ]
    },
    {
     "name": "stderr",
     "output_type": "stream",
     "text": [
      "100%|██████████| 1/1 [00:01<00:00,  1.76s/it]\n",
      "  0%|          | 0/1 [00:00<?, ?it/s]"
     ]
    },
    {
     "name": "stdout",
     "output_type": "stream",
     "text": [
      "1\n"
     ]
    },
    {
     "name": "stderr",
     "output_type": "stream",
     "text": [
      "100%|██████████| 1/1 [00:01<00:00,  1.87s/it]\n",
      "  0%|          | 0/1 [00:00<?, ?it/s]"
     ]
    },
    {
     "name": "stdout",
     "output_type": "stream",
     "text": [
      "1\n"
     ]
    },
    {
     "name": "stderr",
     "output_type": "stream",
     "text": [
      "100%|██████████| 1/1 [00:01<00:00,  1.34s/it]\n",
      "  0%|          | 0/1 [00:00<?, ?it/s]"
     ]
    },
    {
     "name": "stdout",
     "output_type": "stream",
     "text": [
      "1\n"
     ]
    },
    {
     "name": "stderr",
     "output_type": "stream",
     "text": [
      "100%|██████████| 1/1 [00:01<00:00,  1.62s/it]\n",
      "  0%|          | 0/1 [00:00<?, ?it/s]"
     ]
    },
    {
     "name": "stdout",
     "output_type": "stream",
     "text": [
      "1\n"
     ]
    },
    {
     "name": "stderr",
     "output_type": "stream",
     "text": [
      "100%|██████████| 1/1 [00:02<00:00,  2.10s/it]\n",
      "  0%|          | 0/1 [00:00<?, ?it/s]"
     ]
    },
    {
     "name": "stdout",
     "output_type": "stream",
     "text": [
      "1\n"
     ]
    },
    {
     "name": "stderr",
     "output_type": "stream",
     "text": [
      "100%|██████████| 1/1 [00:03<00:00,  3.75s/it]\n",
      "  0%|          | 0/1 [00:00<?, ?it/s]"
     ]
    },
    {
     "name": "stdout",
     "output_type": "stream",
     "text": [
      "1\n"
     ]
    },
    {
     "name": "stderr",
     "output_type": "stream",
     "text": [
      "100%|██████████| 1/1 [00:01<00:00,  1.76s/it]\n",
      "  0%|          | 0/1 [00:00<?, ?it/s]"
     ]
    },
    {
     "name": "stdout",
     "output_type": "stream",
     "text": [
      "1\n"
     ]
    },
    {
     "name": "stderr",
     "output_type": "stream",
     "text": [
      "100%|██████████| 1/1 [00:03<00:00,  3.10s/it]\n",
      "  0%|          | 0/1 [00:00<?, ?it/s]"
     ]
    },
    {
     "name": "stdout",
     "output_type": "stream",
     "text": [
      "1\n"
     ]
    },
    {
     "name": "stderr",
     "output_type": "stream",
     "text": [
      "100%|██████████| 1/1 [00:00<00:00,  1.00it/s]\n",
      "  0%|          | 0/1 [00:00<?, ?it/s]"
     ]
    },
    {
     "name": "stdout",
     "output_type": "stream",
     "text": [
      "1\n"
     ]
    },
    {
     "name": "stderr",
     "output_type": "stream",
     "text": [
      "100%|██████████| 1/1 [00:01<00:00,  1.98s/it]\n",
      "  0%|          | 0/1 [00:00<?, ?it/s]"
     ]
    },
    {
     "name": "stdout",
     "output_type": "stream",
     "text": [
      "1\n"
     ]
    },
    {
     "name": "stderr",
     "output_type": "stream",
     "text": [
      "100%|██████████| 1/1 [00:01<00:00,  1.98s/it]\n",
      "  0%|          | 0/1 [00:00<?, ?it/s]"
     ]
    },
    {
     "name": "stdout",
     "output_type": "stream",
     "text": [
      "1\n"
     ]
    },
    {
     "name": "stderr",
     "output_type": "stream",
     "text": [
      "100%|██████████| 1/1 [00:01<00:00,  1.41s/it]\n",
      "  0%|          | 0/1 [00:00<?, ?it/s]"
     ]
    },
    {
     "name": "stdout",
     "output_type": "stream",
     "text": [
      "1\n"
     ]
    },
    {
     "name": "stderr",
     "output_type": "stream",
     "text": [
      "100%|██████████| 1/1 [00:01<00:00,  1.41s/it]\n",
      "  0%|          | 0/1 [00:00<?, ?it/s]"
     ]
    },
    {
     "name": "stdout",
     "output_type": "stream",
     "text": [
      "1\n"
     ]
    },
    {
     "name": "stderr",
     "output_type": "stream",
     "text": [
      "100%|██████████| 1/1 [00:02<00:00,  2.61s/it]\n",
      "  0%|          | 0/1 [00:00<?, ?it/s]"
     ]
    },
    {
     "name": "stdout",
     "output_type": "stream",
     "text": [
      "1\n"
     ]
    },
    {
     "name": "stderr",
     "output_type": "stream",
     "text": [
      "100%|██████████| 1/1 [00:02<00:00,  2.95s/it]\n",
      "  0%|          | 0/1 [00:00<?, ?it/s]"
     ]
    },
    {
     "name": "stdout",
     "output_type": "stream",
     "text": [
      "1\n"
     ]
    },
    {
     "name": "stderr",
     "output_type": "stream",
     "text": [
      "100%|██████████| 1/1 [00:03<00:00,  3.03s/it]\n",
      "  0%|          | 0/1 [00:00<?, ?it/s]"
     ]
    },
    {
     "name": "stdout",
     "output_type": "stream",
     "text": [
      "1\n"
     ]
    },
    {
     "name": "stderr",
     "output_type": "stream",
     "text": [
      "100%|██████████| 1/1 [00:00<00:00,  1.51it/s]\n",
      "  0%|          | 0/1 [00:00<?, ?it/s]"
     ]
    },
    {
     "name": "stdout",
     "output_type": "stream",
     "text": [
      "1\n"
     ]
    },
    {
     "name": "stderr",
     "output_type": "stream",
     "text": [
      "100%|██████████| 1/1 [00:02<00:00,  2.71s/it]\n",
      "  0%|          | 0/1 [00:00<?, ?it/s]"
     ]
    },
    {
     "name": "stdout",
     "output_type": "stream",
     "text": [
      "1\n"
     ]
    },
    {
     "name": "stderr",
     "output_type": "stream",
     "text": [
      "100%|██████████| 1/1 [00:02<00:00,  2.27s/it]\n",
      "  0%|          | 0/1 [00:00<?, ?it/s]"
     ]
    },
    {
     "name": "stdout",
     "output_type": "stream",
     "text": [
      "1\n"
     ]
    },
    {
     "name": "stderr",
     "output_type": "stream",
     "text": [
      "100%|██████████| 1/1 [00:01<00:00,  1.56s/it]\n",
      "  0%|          | 0/1 [00:00<?, ?it/s]"
     ]
    },
    {
     "name": "stdout",
     "output_type": "stream",
     "text": [
      "1\n"
     ]
    },
    {
     "name": "stderr",
     "output_type": "stream",
     "text": [
      "100%|██████████| 1/1 [00:02<00:00,  2.16s/it]\n",
      "  0%|          | 0/1 [00:00<?, ?it/s]"
     ]
    },
    {
     "name": "stdout",
     "output_type": "stream",
     "text": [
      "1\n"
     ]
    },
    {
     "name": "stderr",
     "output_type": "stream",
     "text": [
      "100%|██████████| 1/1 [00:01<00:00,  1.90s/it]\n",
      "100%|██████████| 1/1 [00:00<00:00,  9.10it/s]\n"
     ]
    },
    {
     "name": "stdout",
     "output_type": "stream",
     "text": [
      "1\n",
      "1\n"
     ]
    },
    {
     "name": "stderr",
     "output_type": "stream",
     "text": [
      "100%|██████████| 1/1 [00:02<00:00,  2.58s/it]\n",
      "  0%|          | 0/1 [00:00<?, ?it/s]"
     ]
    },
    {
     "name": "stdout",
     "output_type": "stream",
     "text": [
      "1\n"
     ]
    },
    {
     "name": "stderr",
     "output_type": "stream",
     "text": [
      "100%|██████████| 1/1 [00:02<00:00,  2.43s/it]\n",
      "  0%|          | 0/1 [00:00<?, ?it/s]"
     ]
    },
    {
     "name": "stdout",
     "output_type": "stream",
     "text": [
      "1\n"
     ]
    },
    {
     "name": "stderr",
     "output_type": "stream",
     "text": [
      "100%|██████████| 1/1 [00:02<00:00,  2.49s/it]\n",
      "  0%|          | 0/1 [00:00<?, ?it/s]"
     ]
    },
    {
     "name": "stdout",
     "output_type": "stream",
     "text": [
      "1\n"
     ]
    },
    {
     "name": "stderr",
     "output_type": "stream",
     "text": [
      "100%|██████████| 1/1 [00:00<00:00,  1.30it/s]\n",
      "  0%|          | 0/1 [00:00<?, ?it/s]"
     ]
    },
    {
     "name": "stdout",
     "output_type": "stream",
     "text": [
      "1\n"
     ]
    },
    {
     "name": "stderr",
     "output_type": "stream",
     "text": [
      "100%|██████████| 1/1 [00:02<00:00,  2.69s/it]\n",
      "  0%|          | 0/1 [00:00<?, ?it/s]"
     ]
    },
    {
     "name": "stdout",
     "output_type": "stream",
     "text": [
      "1\n"
     ]
    },
    {
     "name": "stderr",
     "output_type": "stream",
     "text": [
      "100%|██████████| 1/1 [00:02<00:00,  2.51s/it]\n",
      "  0%|          | 0/1 [00:00<?, ?it/s]"
     ]
    },
    {
     "name": "stdout",
     "output_type": "stream",
     "text": [
      "1\n"
     ]
    },
    {
     "name": "stderr",
     "output_type": "stream",
     "text": [
      "100%|██████████| 1/1 [00:02<00:00,  2.76s/it]\n",
      "  0%|          | 0/1 [00:00<?, ?it/s]"
     ]
    },
    {
     "name": "stdout",
     "output_type": "stream",
     "text": [
      "1\n"
     ]
    },
    {
     "name": "stderr",
     "output_type": "stream",
     "text": [
      "100%|██████████| 1/1 [00:00<00:00,  1.01it/s]\n",
      "  0%|          | 0/1 [00:00<?, ?it/s]"
     ]
    },
    {
     "name": "stdout",
     "output_type": "stream",
     "text": [
      "1\n"
     ]
    },
    {
     "name": "stderr",
     "output_type": "stream",
     "text": [
      "100%|██████████| 1/1 [00:01<00:00,  1.94s/it]\n",
      "  0%|          | 0/1 [00:00<?, ?it/s]"
     ]
    },
    {
     "name": "stdout",
     "output_type": "stream",
     "text": [
      "1\n"
     ]
    },
    {
     "name": "stderr",
     "output_type": "stream",
     "text": [
      "100%|██████████| 1/1 [00:01<00:00,  1.97s/it]\n",
      "  0%|          | 0/1 [00:00<?, ?it/s]"
     ]
    },
    {
     "name": "stdout",
     "output_type": "stream",
     "text": [
      "1\n"
     ]
    },
    {
     "name": "stderr",
     "output_type": "stream",
     "text": [
      "100%|██████████| 1/1 [00:01<00:00,  1.97s/it]\n",
      "  0%|          | 0/1 [00:00<?, ?it/s]"
     ]
    },
    {
     "name": "stdout",
     "output_type": "stream",
     "text": [
      "1\n"
     ]
    },
    {
     "name": "stderr",
     "output_type": "stream",
     "text": [
      "100%|██████████| 1/1 [00:02<00:00,  2.05s/it]\n",
      "  0%|          | 0/1 [00:00<?, ?it/s]"
     ]
    },
    {
     "name": "stdout",
     "output_type": "stream",
     "text": [
      "1\n"
     ]
    },
    {
     "name": "stderr",
     "output_type": "stream",
     "text": [
      "100%|██████████| 1/1 [00:02<00:00,  2.76s/it]\n",
      "  0%|          | 0/1 [00:00<?, ?it/s]"
     ]
    },
    {
     "name": "stdout",
     "output_type": "stream",
     "text": [
      "1\n"
     ]
    },
    {
     "name": "stderr",
     "output_type": "stream",
     "text": [
      "100%|██████████| 1/1 [00:02<00:00,  2.07s/it]\n",
      "  0%|          | 0/1 [00:00<?, ?it/s]"
     ]
    },
    {
     "name": "stdout",
     "output_type": "stream",
     "text": [
      "1\n"
     ]
    },
    {
     "name": "stderr",
     "output_type": "stream",
     "text": [
      "100%|██████████| 1/1 [00:01<00:00,  1.45s/it]\n",
      "  0%|          | 0/1 [00:00<?, ?it/s]"
     ]
    },
    {
     "name": "stdout",
     "output_type": "stream",
     "text": [
      "1\n"
     ]
    },
    {
     "name": "stderr",
     "output_type": "stream",
     "text": [
      "100%|██████████| 1/1 [00:01<00:00,  1.68s/it]\n",
      "  0%|          | 0/1 [00:00<?, ?it/s]"
     ]
    },
    {
     "name": "stdout",
     "output_type": "stream",
     "text": [
      "1\n"
     ]
    },
    {
     "name": "stderr",
     "output_type": "stream",
     "text": [
      "100%|██████████| 1/1 [00:01<00:00,  1.56s/it]\n",
      "  0%|          | 0/1 [00:00<?, ?it/s]"
     ]
    },
    {
     "name": "stdout",
     "output_type": "stream",
     "text": [
      "1\n"
     ]
    },
    {
     "name": "stderr",
     "output_type": "stream",
     "text": [
      "100%|██████████| 1/1 [00:02<00:00,  2.57s/it]\n",
      "  0%|          | 0/1 [00:00<?, ?it/s]"
     ]
    },
    {
     "name": "stdout",
     "output_type": "stream",
     "text": [
      "1\n"
     ]
    },
    {
     "name": "stderr",
     "output_type": "stream",
     "text": [
      "100%|██████████| 1/1 [00:02<00:00,  2.06s/it]\n",
      "  0%|          | 0/1 [00:00<?, ?it/s]"
     ]
    },
    {
     "name": "stdout",
     "output_type": "stream",
     "text": [
      "1\n"
     ]
    },
    {
     "name": "stderr",
     "output_type": "stream",
     "text": [
      "100%|██████████| 1/1 [00:00<00:00,  1.39it/s]\n",
      "  0%|          | 0/1 [00:00<?, ?it/s]"
     ]
    },
    {
     "name": "stdout",
     "output_type": "stream",
     "text": [
      "1\n"
     ]
    },
    {
     "name": "stderr",
     "output_type": "stream",
     "text": [
      "100%|██████████| 1/1 [00:02<00:00,  2.27s/it]\n",
      "  0%|          | 0/1 [00:00<?, ?it/s]"
     ]
    },
    {
     "name": "stdout",
     "output_type": "stream",
     "text": [
      "1\n"
     ]
    },
    {
     "name": "stderr",
     "output_type": "stream",
     "text": [
      "100%|██████████| 1/1 [00:02<00:00,  2.88s/it]\n",
      "  0%|          | 0/1 [00:00<?, ?it/s]"
     ]
    },
    {
     "name": "stdout",
     "output_type": "stream",
     "text": [
      "1\n"
     ]
    },
    {
     "name": "stderr",
     "output_type": "stream",
     "text": [
      "100%|██████████| 1/1 [00:02<00:00,  2.68s/it]\n",
      "  0%|          | 0/1 [00:00<?, ?it/s]"
     ]
    },
    {
     "name": "stdout",
     "output_type": "stream",
     "text": [
      "1\n"
     ]
    },
    {
     "name": "stderr",
     "output_type": "stream",
     "text": [
      "100%|██████████| 1/1 [00:01<00:00,  1.98s/it]\n",
      "  0%|          | 0/1 [00:00<?, ?it/s]"
     ]
    },
    {
     "name": "stdout",
     "output_type": "stream",
     "text": [
      "1\n"
     ]
    },
    {
     "name": "stderr",
     "output_type": "stream",
     "text": [
      "100%|██████████| 1/1 [00:01<00:00,  1.11s/it]\n",
      "  0%|          | 0/1 [00:00<?, ?it/s]"
     ]
    },
    {
     "name": "stdout",
     "output_type": "stream",
     "text": [
      "1\n"
     ]
    },
    {
     "name": "stderr",
     "output_type": "stream",
     "text": [
      "100%|██████████| 1/1 [00:02<00:00,  2.35s/it]\n",
      "  0%|          | 0/1 [00:00<?, ?it/s]"
     ]
    },
    {
     "name": "stdout",
     "output_type": "stream",
     "text": [
      "1\n"
     ]
    },
    {
     "name": "stderr",
     "output_type": "stream",
     "text": [
      "100%|██████████| 1/1 [00:02<00:00,  2.87s/it]\n",
      "  0%|          | 0/1 [00:00<?, ?it/s]"
     ]
    },
    {
     "name": "stdout",
     "output_type": "stream",
     "text": [
      "1\n"
     ]
    },
    {
     "name": "stderr",
     "output_type": "stream",
     "text": [
      "100%|██████████| 1/1 [00:02<00:00,  2.11s/it]\n",
      "  0%|          | 0/1 [00:00<?, ?it/s]"
     ]
    },
    {
     "name": "stdout",
     "output_type": "stream",
     "text": [
      "1\n"
     ]
    },
    {
     "name": "stderr",
     "output_type": "stream",
     "text": [
      "100%|██████████| 1/1 [00:03<00:00,  3.56s/it]\n",
      "  0%|          | 0/1 [00:00<?, ?it/s]"
     ]
    },
    {
     "name": "stdout",
     "output_type": "stream",
     "text": [
      "1\n"
     ]
    },
    {
     "name": "stderr",
     "output_type": "stream",
     "text": [
      "100%|██████████| 1/1 [00:01<00:00,  1.22s/it]\n",
      "  0%|          | 0/1 [00:00<?, ?it/s]"
     ]
    },
    {
     "name": "stdout",
     "output_type": "stream",
     "text": [
      "1\n"
     ]
    },
    {
     "name": "stderr",
     "output_type": "stream",
     "text": [
      "100%|██████████| 1/1 [00:00<00:00,  1.72it/s]\n",
      "  0%|          | 0/1 [00:00<?, ?it/s]"
     ]
    },
    {
     "name": "stdout",
     "output_type": "stream",
     "text": [
      "1\n"
     ]
    },
    {
     "name": "stderr",
     "output_type": "stream",
     "text": [
      "100%|██████████| 1/1 [00:01<00:00,  1.90s/it]\n",
      "  0%|          | 0/1 [00:00<?, ?it/s]"
     ]
    },
    {
     "name": "stdout",
     "output_type": "stream",
     "text": [
      "1\n"
     ]
    },
    {
     "name": "stderr",
     "output_type": "stream",
     "text": [
      "100%|██████████| 1/1 [00:03<00:00,  3.01s/it]\n",
      "  0%|          | 0/1 [00:00<?, ?it/s]"
     ]
    },
    {
     "name": "stdout",
     "output_type": "stream",
     "text": [
      "1\n"
     ]
    },
    {
     "name": "stderr",
     "output_type": "stream",
     "text": [
      "100%|██████████| 1/1 [00:03<00:00,  3.36s/it]\n",
      "100%|██████████| 1/1 [00:00<00:00,  9.26it/s]\n"
     ]
    },
    {
     "name": "stdout",
     "output_type": "stream",
     "text": [
      "1\n",
      "1\n"
     ]
    },
    {
     "name": "stderr",
     "output_type": "stream",
     "text": [
      "100%|██████████| 1/1 [00:01<00:00,  1.22s/it]\n",
      "  0%|          | 0/1 [00:00<?, ?it/s]"
     ]
    },
    {
     "name": "stdout",
     "output_type": "stream",
     "text": [
      "1\n"
     ]
    },
    {
     "name": "stderr",
     "output_type": "stream",
     "text": [
      "100%|██████████| 1/1 [00:02<00:00,  2.19s/it]\n",
      "  0%|          | 0/1 [00:00<?, ?it/s]"
     ]
    },
    {
     "name": "stdout",
     "output_type": "stream",
     "text": [
      "1\n"
     ]
    },
    {
     "name": "stderr",
     "output_type": "stream",
     "text": [
      "100%|██████████| 1/1 [00:02<00:00,  2.53s/it]\n",
      "  0%|          | 0/1 [00:00<?, ?it/s]"
     ]
    },
    {
     "name": "stdout",
     "output_type": "stream",
     "text": [
      "1\n"
     ]
    },
    {
     "name": "stderr",
     "output_type": "stream",
     "text": [
      "100%|██████████| 1/1 [00:00<00:00,  1.09it/s]\n",
      "  0%|          | 0/1 [00:00<?, ?it/s]"
     ]
    },
    {
     "name": "stdout",
     "output_type": "stream",
     "text": [
      "1\n"
     ]
    },
    {
     "name": "stderr",
     "output_type": "stream",
     "text": [
      "100%|██████████| 1/1 [00:01<00:00,  1.85s/it]\n",
      "  0%|          | 0/1 [00:00<?, ?it/s]"
     ]
    },
    {
     "name": "stdout",
     "output_type": "stream",
     "text": [
      "1\n"
     ]
    },
    {
     "name": "stderr",
     "output_type": "stream",
     "text": [
      "100%|██████████| 1/1 [00:02<00:00,  2.21s/it]\n",
      "  0%|          | 0/1 [00:00<?, ?it/s]"
     ]
    },
    {
     "name": "stdout",
     "output_type": "stream",
     "text": [
      "1\n"
     ]
    },
    {
     "name": "stderr",
     "output_type": "stream",
     "text": [
      "100%|██████████| 1/1 [00:01<00:00,  1.91s/it]\n",
      "  0%|          | 0/1 [00:00<?, ?it/s]"
     ]
    },
    {
     "name": "stdout",
     "output_type": "stream",
     "text": [
      "1\n"
     ]
    },
    {
     "name": "stderr",
     "output_type": "stream",
     "text": [
      "100%|██████████| 1/1 [00:03<00:00,  3.23s/it]\n",
      "  0%|          | 0/1 [00:00<?, ?it/s]"
     ]
    },
    {
     "name": "stdout",
     "output_type": "stream",
     "text": [
      "1\n"
     ]
    },
    {
     "name": "stderr",
     "output_type": "stream",
     "text": [
      "100%|██████████| 1/1 [00:00<00:00,  5.12it/s]\n",
      "  0%|          | 0/1 [00:00<?, ?it/s]"
     ]
    },
    {
     "name": "stdout",
     "output_type": "stream",
     "text": [
      "1\n"
     ]
    },
    {
     "name": "stderr",
     "output_type": "stream",
     "text": [
      "100%|██████████| 1/1 [00:00<00:00,  1.17it/s]\n",
      "  0%|          | 0/1 [00:00<?, ?it/s]"
     ]
    },
    {
     "name": "stdout",
     "output_type": "stream",
     "text": [
      "1\n"
     ]
    },
    {
     "name": "stderr",
     "output_type": "stream",
     "text": [
      "100%|██████████| 1/1 [00:02<00:00,  2.57s/it]\n",
      "  0%|          | 0/1 [00:00<?, ?it/s]"
     ]
    },
    {
     "name": "stdout",
     "output_type": "stream",
     "text": [
      "1\n"
     ]
    },
    {
     "name": "stderr",
     "output_type": "stream",
     "text": [
      "100%|██████████| 1/1 [00:02<00:00,  2.09s/it]\n",
      "  0%|          | 0/1 [00:00<?, ?it/s]"
     ]
    },
    {
     "name": "stdout",
     "output_type": "stream",
     "text": [
      "1\n"
     ]
    },
    {
     "name": "stderr",
     "output_type": "stream",
     "text": [
      "100%|██████████| 1/1 [00:02<00:00,  2.67s/it]\n",
      "  0%|          | 0/1 [00:00<?, ?it/s]"
     ]
    },
    {
     "name": "stdout",
     "output_type": "stream",
     "text": [
      "1\n"
     ]
    },
    {
     "name": "stderr",
     "output_type": "stream",
     "text": [
      "100%|██████████| 1/1 [00:02<00:00,  2.32s/it]\n",
      "  0%|          | 0/1 [00:00<?, ?it/s]"
     ]
    },
    {
     "name": "stdout",
     "output_type": "stream",
     "text": [
      "1\n"
     ]
    },
    {
     "name": "stderr",
     "output_type": "stream",
     "text": [
      "100%|██████████| 1/1 [00:02<00:00,  2.87s/it]\n",
      "  0%|          | 0/1 [00:00<?, ?it/s]"
     ]
    },
    {
     "name": "stdout",
     "output_type": "stream",
     "text": [
      "1\n"
     ]
    },
    {
     "name": "stderr",
     "output_type": "stream",
     "text": [
      "100%|██████████| 1/1 [00:00<00:00,  1.34it/s]\n",
      "  0%|          | 0/1 [00:00<?, ?it/s]"
     ]
    },
    {
     "name": "stdout",
     "output_type": "stream",
     "text": [
      "1\n"
     ]
    },
    {
     "name": "stderr",
     "output_type": "stream",
     "text": [
      "100%|██████████| 1/1 [00:01<00:00,  1.30s/it]\n",
      "  0%|          | 0/1 [00:00<?, ?it/s]"
     ]
    },
    {
     "name": "stdout",
     "output_type": "stream",
     "text": [
      "1\n"
     ]
    },
    {
     "name": "stderr",
     "output_type": "stream",
     "text": [
      "100%|██████████| 1/1 [00:02<00:00,  2.86s/it]\n",
      "  0%|          | 0/1 [00:00<?, ?it/s]"
     ]
    },
    {
     "name": "stdout",
     "output_type": "stream",
     "text": [
      "1\n"
     ]
    },
    {
     "name": "stderr",
     "output_type": "stream",
     "text": [
      "100%|██████████| 1/1 [00:01<00:00,  1.60s/it]\n",
      "  0%|          | 0/1 [00:00<?, ?it/s]"
     ]
    },
    {
     "name": "stdout",
     "output_type": "stream",
     "text": [
      "1\n"
     ]
    },
    {
     "name": "stderr",
     "output_type": "stream",
     "text": [
      "100%|██████████| 1/1 [00:00<00:00,  1.31it/s]\n",
      "  0%|          | 0/1 [00:00<?, ?it/s]"
     ]
    },
    {
     "name": "stdout",
     "output_type": "stream",
     "text": [
      "1\n"
     ]
    },
    {
     "name": "stderr",
     "output_type": "stream",
     "text": [
      "100%|██████████| 1/1 [00:01<00:00,  1.97s/it]\n",
      "  0%|          | 0/1 [00:00<?, ?it/s]"
     ]
    },
    {
     "name": "stdout",
     "output_type": "stream",
     "text": [
      "1\n"
     ]
    },
    {
     "name": "stderr",
     "output_type": "stream",
     "text": [
      "100%|██████████| 1/1 [00:01<00:00,  1.22s/it]\n",
      "  0%|          | 0/1 [00:00<?, ?it/s]"
     ]
    },
    {
     "name": "stdout",
     "output_type": "stream",
     "text": [
      "1\n"
     ]
    },
    {
     "name": "stderr",
     "output_type": "stream",
     "text": [
      "100%|██████████| 1/1 [00:01<00:00,  1.67s/it]\n",
      "  0%|          | 0/1 [00:00<?, ?it/s]"
     ]
    },
    {
     "name": "stdout",
     "output_type": "stream",
     "text": [
      "1\n"
     ]
    },
    {
     "name": "stderr",
     "output_type": "stream",
     "text": [
      "100%|██████████| 1/1 [00:02<00:00,  2.14s/it]\n",
      "  0%|          | 0/1 [00:00<?, ?it/s]"
     ]
    },
    {
     "name": "stdout",
     "output_type": "stream",
     "text": [
      "1\n"
     ]
    },
    {
     "name": "stderr",
     "output_type": "stream",
     "text": [
      "100%|██████████| 1/1 [00:01<00:00,  1.97s/it]\n",
      "  0%|          | 0/1 [00:00<?, ?it/s]"
     ]
    },
    {
     "name": "stdout",
     "output_type": "stream",
     "text": [
      "1\n"
     ]
    },
    {
     "name": "stderr",
     "output_type": "stream",
     "text": [
      "100%|██████████| 1/1 [00:02<00:00,  2.58s/it]\n",
      "  0%|          | 0/1 [00:00<?, ?it/s]"
     ]
    },
    {
     "name": "stdout",
     "output_type": "stream",
     "text": [
      "1\n"
     ]
    },
    {
     "name": "stderr",
     "output_type": "stream",
     "text": [
      "100%|██████████| 1/1 [00:02<00:00,  2.36s/it]\n",
      "  0%|          | 0/1 [00:00<?, ?it/s]"
     ]
    },
    {
     "name": "stdout",
     "output_type": "stream",
     "text": [
      "1\n"
     ]
    },
    {
     "name": "stderr",
     "output_type": "stream",
     "text": [
      "100%|██████████| 1/1 [00:02<00:00,  2.16s/it]\n",
      "  0%|          | 0/1 [00:00<?, ?it/s]"
     ]
    },
    {
     "name": "stdout",
     "output_type": "stream",
     "text": [
      "1\n"
     ]
    },
    {
     "name": "stderr",
     "output_type": "stream",
     "text": [
      "100%|██████████| 1/1 [00:01<00:00,  1.84s/it]\n",
      "  0%|          | 0/1 [00:00<?, ?it/s]"
     ]
    },
    {
     "name": "stdout",
     "output_type": "stream",
     "text": [
      "1\n"
     ]
    },
    {
     "name": "stderr",
     "output_type": "stream",
     "text": [
      "100%|██████████| 1/1 [00:01<00:00,  1.69s/it]\n",
      "  0%|          | 0/1 [00:00<?, ?it/s]"
     ]
    },
    {
     "name": "stdout",
     "output_type": "stream",
     "text": [
      "1\n"
     ]
    },
    {
     "name": "stderr",
     "output_type": "stream",
     "text": [
      "100%|██████████| 1/1 [00:01<00:00,  1.66s/it]\n",
      "  0%|          | 0/1 [00:00<?, ?it/s]"
     ]
    },
    {
     "name": "stdout",
     "output_type": "stream",
     "text": [
      "1\n"
     ]
    },
    {
     "name": "stderr",
     "output_type": "stream",
     "text": [
      "100%|██████████| 1/1 [00:01<00:00,  1.83s/it]\n",
      "  0%|          | 0/1 [00:00<?, ?it/s]"
     ]
    },
    {
     "name": "stdout",
     "output_type": "stream",
     "text": [
      "1\n"
     ]
    },
    {
     "name": "stderr",
     "output_type": "stream",
     "text": [
      "100%|██████████| 1/1 [00:02<00:00,  2.19s/it]\n",
      "  0%|          | 0/1 [00:00<?, ?it/s]"
     ]
    },
    {
     "name": "stdout",
     "output_type": "stream",
     "text": [
      "1\n"
     ]
    },
    {
     "name": "stderr",
     "output_type": "stream",
     "text": [
      "100%|██████████| 1/1 [00:00<00:00,  2.86it/s]\n",
      "  0%|          | 0/1 [00:00<?, ?it/s]"
     ]
    },
    {
     "name": "stdout",
     "output_type": "stream",
     "text": [
      "1\n"
     ]
    },
    {
     "name": "stderr",
     "output_type": "stream",
     "text": [
      "100%|██████████| 1/1 [00:00<00:00,  1.10it/s]\n",
      "  0%|          | 0/1 [00:00<?, ?it/s]"
     ]
    },
    {
     "name": "stdout",
     "output_type": "stream",
     "text": [
      "1\n"
     ]
    },
    {
     "name": "stderr",
     "output_type": "stream",
     "text": [
      "100%|██████████| 1/1 [00:01<00:00,  1.23s/it]\n",
      "  0%|          | 0/1 [00:00<?, ?it/s]"
     ]
    },
    {
     "name": "stdout",
     "output_type": "stream",
     "text": [
      "1\n"
     ]
    },
    {
     "name": "stderr",
     "output_type": "stream",
     "text": [
      "100%|██████████| 1/1 [00:02<00:00,  2.19s/it]\n",
      "  0%|          | 0/1 [00:00<?, ?it/s]"
     ]
    },
    {
     "name": "stdout",
     "output_type": "stream",
     "text": [
      "1\n"
     ]
    },
    {
     "name": "stderr",
     "output_type": "stream",
     "text": [
      "100%|██████████| 1/1 [00:02<00:00,  2.27s/it]\n",
      "  0%|          | 0/1 [00:00<?, ?it/s]"
     ]
    },
    {
     "name": "stdout",
     "output_type": "stream",
     "text": [
      "1\n"
     ]
    },
    {
     "name": "stderr",
     "output_type": "stream",
     "text": [
      "100%|██████████| 1/1 [00:02<00:00,  2.20s/it]\n",
      "  0%|          | 0/1 [00:00<?, ?it/s]"
     ]
    },
    {
     "name": "stdout",
     "output_type": "stream",
     "text": [
      "1\n"
     ]
    },
    {
     "name": "stderr",
     "output_type": "stream",
     "text": [
      "100%|██████████| 1/1 [00:03<00:00,  3.24s/it]\n",
      "  0%|          | 0/1 [00:00<?, ?it/s]"
     ]
    },
    {
     "name": "stdout",
     "output_type": "stream",
     "text": [
      "1\n"
     ]
    },
    {
     "name": "stderr",
     "output_type": "stream",
     "text": [
      "100%|██████████| 1/1 [00:01<00:00,  1.71s/it]\n",
      "  0%|          | 0/1 [00:00<?, ?it/s]"
     ]
    },
    {
     "name": "stdout",
     "output_type": "stream",
     "text": [
      "1\n"
     ]
    },
    {
     "name": "stderr",
     "output_type": "stream",
     "text": [
      "100%|██████████| 1/1 [00:00<00:00,  1.00it/s]\n",
      "  0%|          | 0/1 [00:00<?, ?it/s]"
     ]
    },
    {
     "name": "stdout",
     "output_type": "stream",
     "text": [
      "1\n"
     ]
    },
    {
     "name": "stderr",
     "output_type": "stream",
     "text": [
      "100%|██████████| 1/1 [00:01<00:00,  1.11s/it]\n",
      "  0%|          | 0/1 [00:00<?, ?it/s]"
     ]
    },
    {
     "name": "stdout",
     "output_type": "stream",
     "text": [
      "1\n"
     ]
    },
    {
     "name": "stderr",
     "output_type": "stream",
     "text": [
      "100%|██████████| 1/1 [00:00<00:00,  1.99it/s]\n",
      "  0%|          | 0/1 [00:00<?, ?it/s]"
     ]
    },
    {
     "name": "stdout",
     "output_type": "stream",
     "text": [
      "1\n"
     ]
    },
    {
     "name": "stderr",
     "output_type": "stream",
     "text": [
      "100%|██████████| 1/1 [00:01<00:00,  1.12s/it]\n",
      "  0%|          | 0/1 [00:00<?, ?it/s]"
     ]
    },
    {
     "name": "stdout",
     "output_type": "stream",
     "text": [
      "1\n"
     ]
    },
    {
     "name": "stderr",
     "output_type": "stream",
     "text": [
      "100%|██████████| 1/1 [00:01<00:00,  1.57s/it]\n",
      "  0%|          | 0/1 [00:00<?, ?it/s]"
     ]
    },
    {
     "name": "stdout",
     "output_type": "stream",
     "text": [
      "1\n"
     ]
    },
    {
     "name": "stderr",
     "output_type": "stream",
     "text": [
      "100%|██████████| 1/1 [00:01<00:00,  1.82s/it]\n",
      "  0%|          | 0/1 [00:00<?, ?it/s]"
     ]
    },
    {
     "name": "stdout",
     "output_type": "stream",
     "text": [
      "1\n"
     ]
    },
    {
     "name": "stderr",
     "output_type": "stream",
     "text": [
      "100%|██████████| 1/1 [00:01<00:00,  1.11s/it]\n",
      "  0%|          | 0/1 [00:00<?, ?it/s]"
     ]
    },
    {
     "name": "stdout",
     "output_type": "stream",
     "text": [
      "1\n"
     ]
    },
    {
     "name": "stderr",
     "output_type": "stream",
     "text": [
      "100%|██████████| 1/1 [00:01<00:00,  1.74s/it]\n",
      "  0%|          | 0/1 [00:00<?, ?it/s]"
     ]
    },
    {
     "name": "stdout",
     "output_type": "stream",
     "text": [
      "1\n"
     ]
    },
    {
     "name": "stderr",
     "output_type": "stream",
     "text": [
      "100%|██████████| 1/1 [00:01<00:00,  1.27s/it]\n",
      "  0%|          | 0/1 [00:00<?, ?it/s]"
     ]
    },
    {
     "name": "stdout",
     "output_type": "stream",
     "text": [
      "1\n"
     ]
    },
    {
     "name": "stderr",
     "output_type": "stream",
     "text": [
      "100%|██████████| 1/1 [00:00<00:00,  2.12it/s]\n",
      "  0%|          | 0/1 [00:00<?, ?it/s]"
     ]
    },
    {
     "name": "stdout",
     "output_type": "stream",
     "text": [
      "1\n"
     ]
    },
    {
     "name": "stderr",
     "output_type": "stream",
     "text": [
      "100%|██████████| 1/1 [00:00<00:00,  1.92it/s]\n",
      "  0%|          | 0/1 [00:00<?, ?it/s]"
     ]
    },
    {
     "name": "stdout",
     "output_type": "stream",
     "text": [
      "1\n"
     ]
    },
    {
     "name": "stderr",
     "output_type": "stream",
     "text": [
      "100%|██████████| 1/1 [00:01<00:00,  1.84s/it]\n",
      "  0%|          | 0/1 [00:00<?, ?it/s]"
     ]
    },
    {
     "name": "stdout",
     "output_type": "stream",
     "text": [
      "1\n"
     ]
    },
    {
     "name": "stderr",
     "output_type": "stream",
     "text": [
      "100%|██████████| 1/1 [00:02<00:00,  2.56s/it]\n",
      "  0%|          | 0/1 [00:00<?, ?it/s]"
     ]
    },
    {
     "name": "stdout",
     "output_type": "stream",
     "text": [
      "1\n"
     ]
    },
    {
     "name": "stderr",
     "output_type": "stream",
     "text": [
      "100%|██████████| 1/1 [00:01<00:00,  1.95s/it]\n",
      "  0%|          | 0/1 [00:00<?, ?it/s]"
     ]
    },
    {
     "name": "stdout",
     "output_type": "stream",
     "text": [
      "1\n"
     ]
    },
    {
     "name": "stderr",
     "output_type": "stream",
     "text": [
      "100%|██████████| 1/1 [00:02<00:00,  2.38s/it]\n",
      "  0%|          | 0/1 [00:00<?, ?it/s]"
     ]
    },
    {
     "name": "stdout",
     "output_type": "stream",
     "text": [
      "1\n"
     ]
    },
    {
     "name": "stderr",
     "output_type": "stream",
     "text": [
      "100%|██████████| 1/1 [00:02<00:00,  2.34s/it]\n",
      "  0%|          | 0/1 [00:00<?, ?it/s]"
     ]
    },
    {
     "name": "stdout",
     "output_type": "stream",
     "text": [
      "1\n"
     ]
    },
    {
     "name": "stderr",
     "output_type": "stream",
     "text": [
      "100%|██████████| 1/1 [00:03<00:00,  3.12s/it]\n",
      "  0%|          | 0/1 [00:00<?, ?it/s]"
     ]
    },
    {
     "name": "stdout",
     "output_type": "stream",
     "text": [
      "1\n"
     ]
    },
    {
     "name": "stderr",
     "output_type": "stream",
     "text": [
      "100%|██████████| 1/1 [00:02<00:00,  2.11s/it]\n",
      "  0%|          | 0/1 [00:00<?, ?it/s]"
     ]
    },
    {
     "name": "stdout",
     "output_type": "stream",
     "text": [
      "1\n"
     ]
    },
    {
     "name": "stderr",
     "output_type": "stream",
     "text": [
      "100%|██████████| 1/1 [00:02<00:00,  2.34s/it]\n",
      "  0%|          | 0/1 [00:00<?, ?it/s]"
     ]
    },
    {
     "name": "stdout",
     "output_type": "stream",
     "text": [
      "1\n"
     ]
    },
    {
     "name": "stderr",
     "output_type": "stream",
     "text": [
      "100%|██████████| 1/1 [00:01<00:00,  1.71s/it]\n",
      "  0%|          | 0/1 [00:00<?, ?it/s]"
     ]
    },
    {
     "name": "stdout",
     "output_type": "stream",
     "text": [
      "1\n"
     ]
    },
    {
     "name": "stderr",
     "output_type": "stream",
     "text": [
      "100%|██████████| 1/1 [00:00<00:00,  2.55it/s]\n",
      "  0%|          | 0/1 [00:00<?, ?it/s]"
     ]
    },
    {
     "name": "stdout",
     "output_type": "stream",
     "text": [
      "1\n"
     ]
    },
    {
     "name": "stderr",
     "output_type": "stream",
     "text": [
      "100%|██████████| 1/1 [00:02<00:00,  2.10s/it]\n",
      "  0%|          | 0/1 [00:00<?, ?it/s]"
     ]
    },
    {
     "name": "stdout",
     "output_type": "stream",
     "text": [
      "1\n"
     ]
    },
    {
     "name": "stderr",
     "output_type": "stream",
     "text": [
      "100%|██████████| 1/1 [00:01<00:00,  1.24s/it]\n",
      "  0%|          | 0/1 [00:00<?, ?it/s]"
     ]
    },
    {
     "name": "stdout",
     "output_type": "stream",
     "text": [
      "1\n"
     ]
    },
    {
     "name": "stderr",
     "output_type": "stream",
     "text": [
      "100%|██████████| 1/1 [00:02<00:00,  2.35s/it]\n",
      "  0%|          | 0/1 [00:00<?, ?it/s]"
     ]
    },
    {
     "name": "stdout",
     "output_type": "stream",
     "text": [
      "1\n"
     ]
    },
    {
     "name": "stderr",
     "output_type": "stream",
     "text": [
      "100%|██████████| 1/1 [00:02<00:00,  2.68s/it]\n",
      "  0%|          | 0/1 [00:00<?, ?it/s]"
     ]
    },
    {
     "name": "stdout",
     "output_type": "stream",
     "text": [
      "1\n"
     ]
    },
    {
     "name": "stderr",
     "output_type": "stream",
     "text": [
      "100%|██████████| 1/1 [00:02<00:00,  2.18s/it]\n",
      "  0%|          | 0/1 [00:00<?, ?it/s]"
     ]
    },
    {
     "name": "stdout",
     "output_type": "stream",
     "text": [
      "1\n"
     ]
    },
    {
     "name": "stderr",
     "output_type": "stream",
     "text": [
      "100%|██████████| 1/1 [00:02<00:00,  2.18s/it]\n",
      "  0%|          | 0/1 [00:00<?, ?it/s]"
     ]
    },
    {
     "name": "stdout",
     "output_type": "stream",
     "text": [
      "1\n"
     ]
    },
    {
     "name": "stderr",
     "output_type": "stream",
     "text": [
      "100%|██████████| 1/1 [00:01<00:00,  1.62s/it]\n",
      "  0%|          | 0/1 [00:00<?, ?it/s]"
     ]
    },
    {
     "name": "stdout",
     "output_type": "stream",
     "text": [
      "1\n"
     ]
    },
    {
     "name": "stderr",
     "output_type": "stream",
     "text": [
      "100%|██████████| 1/1 [00:02<00:00,  2.15s/it]\n",
      "  0%|          | 0/1 [00:00<?, ?it/s]"
     ]
    },
    {
     "name": "stdout",
     "output_type": "stream",
     "text": [
      "1\n"
     ]
    },
    {
     "name": "stderr",
     "output_type": "stream",
     "text": [
      "100%|██████████| 1/1 [00:01<00:00,  1.85s/it]\n",
      "  0%|          | 0/1 [00:00<?, ?it/s]"
     ]
    },
    {
     "name": "stdout",
     "output_type": "stream",
     "text": [
      "1\n"
     ]
    },
    {
     "name": "stderr",
     "output_type": "stream",
     "text": [
      "100%|██████████| 1/1 [00:01<00:00,  1.41s/it]\n",
      "  0%|          | 0/1 [00:00<?, ?it/s]"
     ]
    },
    {
     "name": "stdout",
     "output_type": "stream",
     "text": [
      "1\n"
     ]
    },
    {
     "name": "stderr",
     "output_type": "stream",
     "text": [
      "100%|██████████| 1/1 [00:02<00:00,  2.90s/it]\n",
      "  0%|          | 0/1 [00:00<?, ?it/s]"
     ]
    },
    {
     "name": "stdout",
     "output_type": "stream",
     "text": [
      "1\n"
     ]
    },
    {
     "name": "stderr",
     "output_type": "stream",
     "text": [
      "100%|██████████| 1/1 [00:03<00:00,  3.12s/it]\n",
      "  0%|          | 0/1 [00:00<?, ?it/s]"
     ]
    },
    {
     "name": "stdout",
     "output_type": "stream",
     "text": [
      "1\n"
     ]
    },
    {
     "name": "stderr",
     "output_type": "stream",
     "text": [
      "100%|██████████| 1/1 [00:00<00:00,  2.52it/s]\n",
      "  0%|          | 0/1 [00:00<?, ?it/s]"
     ]
    },
    {
     "name": "stdout",
     "output_type": "stream",
     "text": [
      "1\n"
     ]
    },
    {
     "name": "stderr",
     "output_type": "stream",
     "text": [
      "100%|██████████| 1/1 [00:02<00:00,  2.17s/it]\n",
      "  0%|          | 0/1 [00:00<?, ?it/s]"
     ]
    },
    {
     "name": "stdout",
     "output_type": "stream",
     "text": [
      "1\n"
     ]
    },
    {
     "name": "stderr",
     "output_type": "stream",
     "text": [
      "100%|██████████| 1/1 [00:03<00:00,  3.02s/it]\n",
      "  0%|          | 0/1 [00:00<?, ?it/s]"
     ]
    },
    {
     "name": "stdout",
     "output_type": "stream",
     "text": [
      "1\n"
     ]
    },
    {
     "name": "stderr",
     "output_type": "stream",
     "text": [
      "100%|██████████| 1/1 [00:00<00:00,  1.19it/s]\n",
      "  0%|          | 0/1 [00:00<?, ?it/s]"
     ]
    },
    {
     "name": "stdout",
     "output_type": "stream",
     "text": [
      "1\n"
     ]
    },
    {
     "name": "stderr",
     "output_type": "stream",
     "text": [
      "100%|██████████| 1/1 [00:01<00:00,  1.76s/it]\n",
      "  0%|          | 0/1 [00:00<?, ?it/s]"
     ]
    },
    {
     "name": "stdout",
     "output_type": "stream",
     "text": [
      "1\n"
     ]
    },
    {
     "name": "stderr",
     "output_type": "stream",
     "text": [
      "100%|██████████| 1/1 [00:02<00:00,  2.62s/it]\n",
      "  0%|          | 0/1 [00:00<?, ?it/s]"
     ]
    },
    {
     "name": "stdout",
     "output_type": "stream",
     "text": [
      "1\n"
     ]
    },
    {
     "name": "stderr",
     "output_type": "stream",
     "text": [
      "100%|██████████| 1/1 [00:01<00:00,  1.94s/it]\n",
      "  0%|          | 0/1 [00:00<?, ?it/s]"
     ]
    },
    {
     "name": "stdout",
     "output_type": "stream",
     "text": [
      "1\n"
     ]
    },
    {
     "name": "stderr",
     "output_type": "stream",
     "text": [
      "100%|██████████| 1/1 [00:02<00:00,  2.58s/it]\n",
      "  0%|          | 0/1 [00:00<?, ?it/s]"
     ]
    },
    {
     "name": "stdout",
     "output_type": "stream",
     "text": [
      "1\n"
     ]
    },
    {
     "name": "stderr",
     "output_type": "stream",
     "text": [
      "100%|██████████| 1/1 [00:01<00:00,  1.51s/it]\n",
      "  0%|          | 0/1 [00:00<?, ?it/s]"
     ]
    },
    {
     "name": "stdout",
     "output_type": "stream",
     "text": [
      "1\n"
     ]
    },
    {
     "name": "stderr",
     "output_type": "stream",
     "text": [
      "100%|██████████| 1/1 [00:00<00:00,  1.44it/s]\n",
      "  0%|          | 0/1 [00:00<?, ?it/s]"
     ]
    },
    {
     "name": "stdout",
     "output_type": "stream",
     "text": [
      "1\n"
     ]
    },
    {
     "name": "stderr",
     "output_type": "stream",
     "text": [
      "100%|██████████| 1/1 [00:01<00:00,  1.72s/it]\n",
      "  0%|          | 0/1 [00:00<?, ?it/s]"
     ]
    },
    {
     "name": "stdout",
     "output_type": "stream",
     "text": [
      "1\n"
     ]
    },
    {
     "name": "stderr",
     "output_type": "stream",
     "text": [
      "100%|██████████| 1/1 [00:01<00:00,  1.37s/it]\n",
      "  0%|          | 0/1 [00:00<?, ?it/s]"
     ]
    },
    {
     "name": "stdout",
     "output_type": "stream",
     "text": [
      "1\n"
     ]
    },
    {
     "name": "stderr",
     "output_type": "stream",
     "text": [
      "100%|██████████| 1/1 [00:01<00:00,  1.68s/it]\n",
      "  0%|          | 0/1 [00:00<?, ?it/s]"
     ]
    },
    {
     "name": "stdout",
     "output_type": "stream",
     "text": [
      "1\n"
     ]
    },
    {
     "name": "stderr",
     "output_type": "stream",
     "text": [
      "100%|██████████| 1/1 [00:01<00:00,  1.46s/it]\n",
      "  0%|          | 0/1 [00:00<?, ?it/s]"
     ]
    },
    {
     "name": "stdout",
     "output_type": "stream",
     "text": [
      "1\n"
     ]
    },
    {
     "name": "stderr",
     "output_type": "stream",
     "text": [
      "100%|██████████| 1/1 [00:01<00:00,  1.87s/it]\n",
      "  0%|          | 0/1 [00:00<?, ?it/s]"
     ]
    },
    {
     "name": "stdout",
     "output_type": "stream",
     "text": [
      "1\n"
     ]
    },
    {
     "name": "stderr",
     "output_type": "stream",
     "text": [
      "100%|██████████| 1/1 [00:02<00:00,  2.10s/it]\n",
      "  0%|          | 0/1 [00:00<?, ?it/s]"
     ]
    },
    {
     "name": "stdout",
     "output_type": "stream",
     "text": [
      "1\n"
     ]
    },
    {
     "name": "stderr",
     "output_type": "stream",
     "text": [
      "100%|██████████| 1/1 [00:01<00:00,  1.83s/it]\n",
      "  0%|          | 0/1 [00:00<?, ?it/s]"
     ]
    },
    {
     "name": "stdout",
     "output_type": "stream",
     "text": [
      "1\n"
     ]
    },
    {
     "name": "stderr",
     "output_type": "stream",
     "text": [
      "100%|██████████| 1/1 [00:02<00:00,  2.95s/it]\n",
      "  0%|          | 0/1 [00:00<?, ?it/s]"
     ]
    },
    {
     "name": "stdout",
     "output_type": "stream",
     "text": [
      "1\n"
     ]
    },
    {
     "name": "stderr",
     "output_type": "stream",
     "text": [
      "100%|██████████| 1/1 [00:01<00:00,  1.94s/it]\n",
      "  0%|          | 0/1 [00:00<?, ?it/s]"
     ]
    },
    {
     "name": "stdout",
     "output_type": "stream",
     "text": [
      "1\n"
     ]
    },
    {
     "name": "stderr",
     "output_type": "stream",
     "text": [
      "100%|██████████| 1/1 [00:02<00:00,  2.17s/it]\n",
      "  0%|          | 0/1 [00:00<?, ?it/s]"
     ]
    },
    {
     "name": "stdout",
     "output_type": "stream",
     "text": [
      "1\n"
     ]
    },
    {
     "name": "stderr",
     "output_type": "stream",
     "text": [
      "100%|██████████| 1/1 [00:01<00:00,  1.27s/it]\n",
      "  0%|          | 0/1 [00:00<?, ?it/s]"
     ]
    },
    {
     "name": "stdout",
     "output_type": "stream",
     "text": [
      "1\n"
     ]
    },
    {
     "name": "stderr",
     "output_type": "stream",
     "text": [
      "100%|██████████| 1/1 [00:02<00:00,  2.83s/it]\n",
      "  0%|          | 0/1 [00:00<?, ?it/s]"
     ]
    },
    {
     "name": "stdout",
     "output_type": "stream",
     "text": [
      "1\n"
     ]
    },
    {
     "name": "stderr",
     "output_type": "stream",
     "text": [
      "100%|██████████| 1/1 [00:02<00:00,  2.51s/it]\n",
      "  0%|          | 0/1 [00:00<?, ?it/s]"
     ]
    },
    {
     "name": "stdout",
     "output_type": "stream",
     "text": [
      "1\n"
     ]
    },
    {
     "name": "stderr",
     "output_type": "stream",
     "text": [
      "100%|██████████| 1/1 [00:02<00:00,  2.40s/it]\n",
      "  0%|          | 0/1 [00:00<?, ?it/s]"
     ]
    },
    {
     "name": "stdout",
     "output_type": "stream",
     "text": [
      "1\n"
     ]
    },
    {
     "name": "stderr",
     "output_type": "stream",
     "text": [
      "100%|██████████| 1/1 [00:02<00:00,  2.16s/it]\n",
      "  0%|          | 0/1 [00:00<?, ?it/s]"
     ]
    },
    {
     "name": "stdout",
     "output_type": "stream",
     "text": [
      "1\n"
     ]
    },
    {
     "name": "stderr",
     "output_type": "stream",
     "text": [
      "100%|██████████| 1/1 [00:01<00:00,  1.24s/it]\n",
      "  0%|          | 0/1 [00:00<?, ?it/s]"
     ]
    },
    {
     "name": "stdout",
     "output_type": "stream",
     "text": [
      "1\n"
     ]
    },
    {
     "name": "stderr",
     "output_type": "stream",
     "text": [
      "100%|██████████| 1/1 [00:02<00:00,  2.28s/it]\n",
      "  0%|          | 0/1 [00:00<?, ?it/s]"
     ]
    },
    {
     "name": "stdout",
     "output_type": "stream",
     "text": [
      "1\n"
     ]
    },
    {
     "name": "stderr",
     "output_type": "stream",
     "text": [
      "100%|██████████| 1/1 [00:02<00:00,  2.69s/it]\n",
      "  0%|          | 0/1 [00:00<?, ?it/s]"
     ]
    },
    {
     "name": "stdout",
     "output_type": "stream",
     "text": [
      "1\n"
     ]
    },
    {
     "name": "stderr",
     "output_type": "stream",
     "text": [
      "100%|██████████| 1/1 [00:00<00:00,  2.57it/s]\n",
      "  0%|          | 0/1 [00:00<?, ?it/s]"
     ]
    },
    {
     "name": "stdout",
     "output_type": "stream",
     "text": [
      "1\n"
     ]
    },
    {
     "name": "stderr",
     "output_type": "stream",
     "text": [
      "100%|██████████| 1/1 [00:02<00:00,  2.39s/it]\n",
      "  0%|          | 0/1 [00:00<?, ?it/s]"
     ]
    },
    {
     "name": "stdout",
     "output_type": "stream",
     "text": [
      "1\n"
     ]
    },
    {
     "name": "stderr",
     "output_type": "stream",
     "text": [
      "100%|██████████| 1/1 [00:02<00:00,  2.91s/it]\n",
      "  0%|          | 0/1 [00:00<?, ?it/s]"
     ]
    },
    {
     "name": "stdout",
     "output_type": "stream",
     "text": [
      "1\n"
     ]
    },
    {
     "name": "stderr",
     "output_type": "stream",
     "text": [
      "100%|██████████| 1/1 [00:01<00:00,  1.60s/it]\n",
      "  0%|          | 0/1 [00:00<?, ?it/s]"
     ]
    },
    {
     "name": "stdout",
     "output_type": "stream",
     "text": [
      "1\n"
     ]
    },
    {
     "name": "stderr",
     "output_type": "stream",
     "text": [
      "100%|██████████| 1/1 [00:03<00:00,  3.17s/it]\n",
      "  0%|          | 0/1 [00:00<?, ?it/s]"
     ]
    },
    {
     "name": "stdout",
     "output_type": "stream",
     "text": [
      "1\n"
     ]
    },
    {
     "name": "stderr",
     "output_type": "stream",
     "text": [
      "100%|██████████| 1/1 [00:01<00:00,  1.83s/it]\n",
      "  0%|          | 0/1 [00:00<?, ?it/s]"
     ]
    },
    {
     "name": "stdout",
     "output_type": "stream",
     "text": [
      "1\n"
     ]
    },
    {
     "name": "stderr",
     "output_type": "stream",
     "text": [
      "100%|██████████| 1/1 [00:01<00:00,  1.49s/it]\n",
      "  0%|          | 0/1 [00:00<?, ?it/s]"
     ]
    },
    {
     "name": "stdout",
     "output_type": "stream",
     "text": [
      "1\n"
     ]
    },
    {
     "name": "stderr",
     "output_type": "stream",
     "text": [
      "100%|██████████| 1/1 [00:01<00:00,  1.49s/it]\n",
      "  0%|          | 0/1 [00:00<?, ?it/s]"
     ]
    },
    {
     "name": "stdout",
     "output_type": "stream",
     "text": [
      "1\n"
     ]
    },
    {
     "name": "stderr",
     "output_type": "stream",
     "text": [
      "100%|██████████| 1/1 [00:01<00:00,  1.09s/it]\n",
      "  0%|          | 0/1 [00:00<?, ?it/s]"
     ]
    },
    {
     "name": "stdout",
     "output_type": "stream",
     "text": [
      "1\n"
     ]
    },
    {
     "name": "stderr",
     "output_type": "stream",
     "text": [
      "100%|██████████| 1/1 [00:02<00:00,  2.25s/it]\n",
      "  0%|          | 0/1 [00:00<?, ?it/s]"
     ]
    },
    {
     "name": "stdout",
     "output_type": "stream",
     "text": [
      "1\n"
     ]
    },
    {
     "name": "stderr",
     "output_type": "stream",
     "text": [
      "100%|██████████| 1/1 [00:01<00:00,  1.32s/it]\n",
      "  0%|          | 0/1 [00:00<?, ?it/s]"
     ]
    },
    {
     "name": "stdout",
     "output_type": "stream",
     "text": [
      "1\n"
     ]
    },
    {
     "name": "stderr",
     "output_type": "stream",
     "text": [
      "100%|██████████| 1/1 [00:01<00:00,  1.09s/it]\n",
      "  0%|          | 0/1 [00:00<?, ?it/s]"
     ]
    },
    {
     "name": "stdout",
     "output_type": "stream",
     "text": [
      "1\n"
     ]
    },
    {
     "name": "stderr",
     "output_type": "stream",
     "text": [
      "100%|██████████| 1/1 [00:00<00:00,  1.21it/s]\n",
      "  0%|          | 0/1 [00:00<?, ?it/s]"
     ]
    },
    {
     "name": "stdout",
     "output_type": "stream",
     "text": [
      "1\n"
     ]
    },
    {
     "name": "stderr",
     "output_type": "stream",
     "text": [
      "100%|██████████| 1/1 [00:01<00:00,  1.31s/it]\n",
      "  0%|          | 0/1 [00:00<?, ?it/s]"
     ]
    },
    {
     "name": "stdout",
     "output_type": "stream",
     "text": [
      "1\n"
     ]
    },
    {
     "name": "stderr",
     "output_type": "stream",
     "text": [
      "100%|██████████| 1/1 [00:02<00:00,  2.57s/it]\n",
      "  0%|          | 0/1 [00:00<?, ?it/s]"
     ]
    },
    {
     "name": "stdout",
     "output_type": "stream",
     "text": [
      "1\n"
     ]
    },
    {
     "name": "stderr",
     "output_type": "stream",
     "text": [
      "100%|██████████| 1/1 [00:00<00:00,  1.97it/s]\n",
      "  0%|          | 0/1 [00:00<?, ?it/s]"
     ]
    },
    {
     "name": "stdout",
     "output_type": "stream",
     "text": [
      "1\n"
     ]
    },
    {
     "name": "stderr",
     "output_type": "stream",
     "text": [
      "100%|██████████| 1/1 [00:00<00:00,  3.19it/s]\n",
      "  0%|          | 0/1 [00:00<?, ?it/s]"
     ]
    },
    {
     "name": "stdout",
     "output_type": "stream",
     "text": [
      "1\n"
     ]
    },
    {
     "name": "stderr",
     "output_type": "stream",
     "text": [
      "100%|██████████| 1/1 [00:03<00:00,  3.25s/it]\n",
      "  0%|          | 0/1 [00:00<?, ?it/s]"
     ]
    },
    {
     "name": "stdout",
     "output_type": "stream",
     "text": [
      "1\n"
     ]
    },
    {
     "name": "stderr",
     "output_type": "stream",
     "text": [
      "100%|██████████| 1/1 [00:02<00:00,  2.22s/it]\n",
      "  0%|          | 0/1 [00:00<?, ?it/s]"
     ]
    },
    {
     "name": "stdout",
     "output_type": "stream",
     "text": [
      "1\n"
     ]
    },
    {
     "name": "stderr",
     "output_type": "stream",
     "text": [
      "100%|██████████| 1/1 [00:02<00:00,  2.33s/it]\n",
      "  0%|          | 0/1 [00:00<?, ?it/s]"
     ]
    },
    {
     "name": "stdout",
     "output_type": "stream",
     "text": [
      "1\n"
     ]
    },
    {
     "name": "stderr",
     "output_type": "stream",
     "text": [
      "100%|██████████| 1/1 [00:02<00:00,  2.29s/it]\n",
      "  0%|          | 0/1 [00:00<?, ?it/s]"
     ]
    },
    {
     "name": "stdout",
     "output_type": "stream",
     "text": [
      "1\n"
     ]
    },
    {
     "name": "stderr",
     "output_type": "stream",
     "text": [
      "100%|██████████| 1/1 [00:02<00:00,  2.39s/it]\n",
      "  0%|          | 0/1 [00:00<?, ?it/s]"
     ]
    },
    {
     "name": "stdout",
     "output_type": "stream",
     "text": [
      "1\n"
     ]
    },
    {
     "name": "stderr",
     "output_type": "stream",
     "text": [
      "100%|██████████| 1/1 [00:00<00:00,  4.22it/s]\n",
      "  0%|          | 0/1 [00:00<?, ?it/s]"
     ]
    },
    {
     "name": "stdout",
     "output_type": "stream",
     "text": [
      "1\n"
     ]
    },
    {
     "name": "stderr",
     "output_type": "stream",
     "text": [
      "100%|██████████| 1/1 [00:01<00:00,  1.51s/it]\n",
      "  0%|          | 0/1 [00:00<?, ?it/s]"
     ]
    },
    {
     "name": "stdout",
     "output_type": "stream",
     "text": [
      "1\n"
     ]
    },
    {
     "name": "stderr",
     "output_type": "stream",
     "text": [
      "100%|██████████| 1/1 [00:01<00:00,  1.63s/it]\n",
      "  0%|          | 0/1 [00:00<?, ?it/s]"
     ]
    },
    {
     "name": "stdout",
     "output_type": "stream",
     "text": [
      "1\n"
     ]
    },
    {
     "name": "stderr",
     "output_type": "stream",
     "text": [
      "100%|██████████| 1/1 [00:01<00:00,  1.66s/it]\n",
      "  0%|          | 0/1 [00:00<?, ?it/s]"
     ]
    },
    {
     "name": "stdout",
     "output_type": "stream",
     "text": [
      "1\n"
     ]
    },
    {
     "name": "stderr",
     "output_type": "stream",
     "text": [
      "100%|██████████| 1/1 [00:02<00:00,  2.17s/it]\n",
      "  0%|          | 0/1 [00:00<?, ?it/s]"
     ]
    },
    {
     "name": "stdout",
     "output_type": "stream",
     "text": [
      "1\n"
     ]
    },
    {
     "name": "stderr",
     "output_type": "stream",
     "text": [
      "100%|██████████| 1/1 [00:01<00:00,  1.38s/it]\n",
      "  0%|          | 0/1 [00:00<?, ?it/s]"
     ]
    },
    {
     "name": "stdout",
     "output_type": "stream",
     "text": [
      "1\n"
     ]
    },
    {
     "name": "stderr",
     "output_type": "stream",
     "text": [
      "100%|██████████| 1/1 [00:02<00:00,  2.05s/it]\n",
      "  0%|          | 0/1 [00:00<?, ?it/s]"
     ]
    },
    {
     "name": "stdout",
     "output_type": "stream",
     "text": [
      "1\n"
     ]
    },
    {
     "name": "stderr",
     "output_type": "stream",
     "text": [
      "100%|██████████| 1/1 [00:02<00:00,  2.33s/it]\n",
      "  0%|          | 0/1 [00:00<?, ?it/s]"
     ]
    },
    {
     "name": "stdout",
     "output_type": "stream",
     "text": [
      "1\n"
     ]
    },
    {
     "name": "stderr",
     "output_type": "stream",
     "text": [
      "100%|██████████| 1/1 [00:01<00:00,  1.91s/it]\n",
      "  0%|          | 0/1 [00:00<?, ?it/s]"
     ]
    },
    {
     "name": "stdout",
     "output_type": "stream",
     "text": [
      "1\n"
     ]
    },
    {
     "name": "stderr",
     "output_type": "stream",
     "text": [
      "100%|██████████| 1/1 [00:01<00:00,  1.76s/it]\n",
      "  0%|          | 0/1 [00:00<?, ?it/s]"
     ]
    },
    {
     "name": "stdout",
     "output_type": "stream",
     "text": [
      "1\n"
     ]
    },
    {
     "name": "stderr",
     "output_type": "stream",
     "text": [
      "100%|██████████| 1/1 [00:00<00:00,  3.13it/s]\n",
      "  0%|          | 0/1 [00:00<?, ?it/s]"
     ]
    },
    {
     "name": "stdout",
     "output_type": "stream",
     "text": [
      "1\n"
     ]
    },
    {
     "name": "stderr",
     "output_type": "stream",
     "text": [
      "100%|██████████| 1/1 [00:01<00:00,  1.98s/it]\n",
      "  0%|          | 0/1 [00:00<?, ?it/s]"
     ]
    },
    {
     "name": "stdout",
     "output_type": "stream",
     "text": [
      "1\n"
     ]
    },
    {
     "name": "stderr",
     "output_type": "stream",
     "text": [
      "100%|██████████| 1/1 [00:02<00:00,  2.39s/it]\n",
      "  0%|          | 0/1 [00:00<?, ?it/s]"
     ]
    },
    {
     "name": "stdout",
     "output_type": "stream",
     "text": [
      "1\n"
     ]
    },
    {
     "name": "stderr",
     "output_type": "stream",
     "text": [
      "100%|██████████| 1/1 [00:02<00:00,  2.45s/it]\n",
      "  0%|          | 0/1 [00:00<?, ?it/s]"
     ]
    },
    {
     "name": "stdout",
     "output_type": "stream",
     "text": [
      "1\n"
     ]
    },
    {
     "name": "stderr",
     "output_type": "stream",
     "text": [
      "100%|██████████| 1/1 [00:01<00:00,  1.99s/it]\n",
      "  0%|          | 0/1 [00:00<?, ?it/s]"
     ]
    },
    {
     "name": "stdout",
     "output_type": "stream",
     "text": [
      "1\n"
     ]
    },
    {
     "name": "stderr",
     "output_type": "stream",
     "text": [
      "100%|██████████| 1/1 [00:01<00:00,  1.99s/it]\n",
      "  0%|          | 0/1 [00:00<?, ?it/s]"
     ]
    },
    {
     "name": "stdout",
     "output_type": "stream",
     "text": [
      "1\n"
     ]
    },
    {
     "name": "stderr",
     "output_type": "stream",
     "text": [
      "100%|██████████| 1/1 [00:02<00:00,  2.69s/it]\n",
      "  0%|          | 0/1 [00:00<?, ?it/s]"
     ]
    },
    {
     "name": "stdout",
     "output_type": "stream",
     "text": [
      "1\n"
     ]
    },
    {
     "name": "stderr",
     "output_type": "stream",
     "text": [
      "100%|██████████| 1/1 [00:01<00:00,  1.46s/it]\n",
      "  0%|          | 0/1 [00:00<?, ?it/s]"
     ]
    },
    {
     "name": "stdout",
     "output_type": "stream",
     "text": [
      "1\n"
     ]
    },
    {
     "name": "stderr",
     "output_type": "stream",
     "text": [
      "100%|██████████| 1/1 [00:02<00:00,  2.67s/it]\n",
      "  0%|          | 0/1 [00:00<?, ?it/s]"
     ]
    },
    {
     "name": "stdout",
     "output_type": "stream",
     "text": [
      "1\n"
     ]
    },
    {
     "name": "stderr",
     "output_type": "stream",
     "text": [
      "100%|██████████| 1/1 [00:02<00:00,  2.54s/it]\n",
      "  0%|          | 0/1 [00:00<?, ?it/s]"
     ]
    },
    {
     "name": "stdout",
     "output_type": "stream",
     "text": [
      "1\n"
     ]
    },
    {
     "name": "stderr",
     "output_type": "stream",
     "text": [
      "100%|██████████| 1/1 [00:01<00:00,  1.31s/it]\n",
      "  0%|          | 0/1 [00:00<?, ?it/s]"
     ]
    },
    {
     "name": "stdout",
     "output_type": "stream",
     "text": [
      "1\n"
     ]
    },
    {
     "name": "stderr",
     "output_type": "stream",
     "text": [
      "100%|██████████| 1/1 [00:01<00:00,  1.42s/it]\n",
      "  0%|          | 0/1 [00:00<?, ?it/s]"
     ]
    },
    {
     "name": "stdout",
     "output_type": "stream",
     "text": [
      "1\n"
     ]
    },
    {
     "name": "stderr",
     "output_type": "stream",
     "text": [
      "100%|██████████| 1/1 [00:01<00:00,  1.94s/it]\n",
      "  0%|          | 0/1 [00:00<?, ?it/s]"
     ]
    },
    {
     "name": "stdout",
     "output_type": "stream",
     "text": [
      "1\n"
     ]
    },
    {
     "name": "stderr",
     "output_type": "stream",
     "text": [
      "100%|██████████| 1/1 [00:01<00:00,  1.45s/it]\n",
      "  0%|          | 0/1 [00:00<?, ?it/s]"
     ]
    },
    {
     "name": "stdout",
     "output_type": "stream",
     "text": [
      "1\n"
     ]
    },
    {
     "name": "stderr",
     "output_type": "stream",
     "text": [
      "100%|██████████| 1/1 [00:00<00:00,  1.37it/s]\n",
      "  0%|          | 0/1 [00:00<?, ?it/s]"
     ]
    },
    {
     "name": "stdout",
     "output_type": "stream",
     "text": [
      "1\n"
     ]
    },
    {
     "name": "stderr",
     "output_type": "stream",
     "text": [
      "100%|██████████| 1/1 [00:01<00:00,  1.08s/it]\n",
      "  0%|          | 0/1 [00:00<?, ?it/s]"
     ]
    },
    {
     "name": "stdout",
     "output_type": "stream",
     "text": [
      "1\n"
     ]
    },
    {
     "name": "stderr",
     "output_type": "stream",
     "text": [
      "100%|██████████| 1/1 [00:02<00:00,  2.42s/it]\n",
      "  0%|          | 0/1 [00:00<?, ?it/s]"
     ]
    },
    {
     "name": "stdout",
     "output_type": "stream",
     "text": [
      "1\n"
     ]
    },
    {
     "name": "stderr",
     "output_type": "stream",
     "text": [
      "100%|██████████| 1/1 [00:01<00:00,  1.02s/it]\n",
      "  0%|          | 0/1 [00:00<?, ?it/s]"
     ]
    },
    {
     "name": "stdout",
     "output_type": "stream",
     "text": [
      "1\n"
     ]
    },
    {
     "name": "stderr",
     "output_type": "stream",
     "text": [
      "100%|██████████| 1/1 [00:02<00:00,  2.53s/it]\n",
      "  0%|          | 0/1 [00:00<?, ?it/s]"
     ]
    },
    {
     "name": "stdout",
     "output_type": "stream",
     "text": [
      "1\n"
     ]
    },
    {
     "name": "stderr",
     "output_type": "stream",
     "text": [
      "100%|██████████| 1/1 [00:02<00:00,  2.15s/it]\n",
      "  0%|          | 0/1 [00:00<?, ?it/s]"
     ]
    },
    {
     "name": "stdout",
     "output_type": "stream",
     "text": [
      "1\n"
     ]
    },
    {
     "name": "stderr",
     "output_type": "stream",
     "text": [
      "100%|██████████| 1/1 [00:02<00:00,  2.24s/it]\n",
      "  0%|          | 0/1 [00:00<?, ?it/s]"
     ]
    },
    {
     "name": "stdout",
     "output_type": "stream",
     "text": [
      "1\n"
     ]
    },
    {
     "name": "stderr",
     "output_type": "stream",
     "text": [
      "100%|██████████| 1/1 [00:01<00:00,  1.84s/it]\n",
      "  0%|          | 0/1 [00:00<?, ?it/s]"
     ]
    },
    {
     "name": "stdout",
     "output_type": "stream",
     "text": [
      "1\n"
     ]
    },
    {
     "name": "stderr",
     "output_type": "stream",
     "text": [
      "100%|██████████| 1/1 [00:01<00:00,  1.98s/it]\n",
      "  0%|          | 0/1 [00:00<?, ?it/s]"
     ]
    },
    {
     "name": "stdout",
     "output_type": "stream",
     "text": [
      "1\n"
     ]
    },
    {
     "name": "stderr",
     "output_type": "stream",
     "text": [
      "100%|██████████| 1/1 [00:01<00:00,  1.16s/it]\n",
      "  0%|          | 0/1 [00:00<?, ?it/s]"
     ]
    },
    {
     "name": "stdout",
     "output_type": "stream",
     "text": [
      "1\n"
     ]
    },
    {
     "name": "stderr",
     "output_type": "stream",
     "text": [
      "100%|██████████| 1/1 [00:02<00:00,  2.05s/it]\n",
      "  0%|          | 0/1 [00:00<?, ?it/s]"
     ]
    },
    {
     "name": "stdout",
     "output_type": "stream",
     "text": [
      "1\n"
     ]
    },
    {
     "name": "stderr",
     "output_type": "stream",
     "text": [
      "100%|██████████| 1/1 [00:01<00:00,  1.19s/it]\n",
      "  0%|          | 0/1 [00:00<?, ?it/s]"
     ]
    },
    {
     "name": "stdout",
     "output_type": "stream",
     "text": [
      "1\n"
     ]
    },
    {
     "name": "stderr",
     "output_type": "stream",
     "text": [
      "100%|██████████| 1/1 [00:02<00:00,  2.26s/it]\n",
      "  0%|          | 0/1 [00:00<?, ?it/s]"
     ]
    },
    {
     "name": "stdout",
     "output_type": "stream",
     "text": [
      "1\n"
     ]
    },
    {
     "name": "stderr",
     "output_type": "stream",
     "text": [
      "100%|██████████| 1/1 [00:00<00:00,  4.20it/s]\n",
      "  0%|          | 0/1 [00:00<?, ?it/s]"
     ]
    },
    {
     "name": "stdout",
     "output_type": "stream",
     "text": [
      "1\n"
     ]
    },
    {
     "name": "stderr",
     "output_type": "stream",
     "text": [
      "100%|██████████| 1/1 [00:00<00:00,  3.55it/s]\n",
      "  0%|          | 0/1 [00:00<?, ?it/s]"
     ]
    },
    {
     "name": "stdout",
     "output_type": "stream",
     "text": [
      "1\n"
     ]
    },
    {
     "name": "stderr",
     "output_type": "stream",
     "text": [
      "100%|██████████| 1/1 [00:00<00:00,  1.00it/s]\n",
      "  0%|          | 0/1 [00:00<?, ?it/s]"
     ]
    },
    {
     "name": "stdout",
     "output_type": "stream",
     "text": [
      "1\n"
     ]
    },
    {
     "name": "stderr",
     "output_type": "stream",
     "text": [
      "100%|██████████| 1/1 [00:01<00:00,  1.81s/it]\n",
      "  0%|          | 0/1 [00:00<?, ?it/s]"
     ]
    },
    {
     "name": "stdout",
     "output_type": "stream",
     "text": [
      "1\n"
     ]
    },
    {
     "name": "stderr",
     "output_type": "stream",
     "text": [
      "100%|██████████| 1/1 [00:00<00:00,  1.70it/s]\n",
      "  0%|          | 0/1 [00:00<?, ?it/s]"
     ]
    },
    {
     "name": "stdout",
     "output_type": "stream",
     "text": [
      "1\n"
     ]
    },
    {
     "name": "stderr",
     "output_type": "stream",
     "text": [
      "100%|██████████| 1/1 [00:01<00:00,  1.95s/it]\n",
      "  0%|          | 0/1 [00:00<?, ?it/s]"
     ]
    },
    {
     "name": "stdout",
     "output_type": "stream",
     "text": [
      "1\n"
     ]
    },
    {
     "name": "stderr",
     "output_type": "stream",
     "text": [
      "100%|██████████| 1/1 [00:00<00:00,  1.35it/s]\n",
      "  0%|          | 0/1 [00:00<?, ?it/s]"
     ]
    },
    {
     "name": "stdout",
     "output_type": "stream",
     "text": [
      "1\n"
     ]
    },
    {
     "name": "stderr",
     "output_type": "stream",
     "text": [
      "100%|██████████| 1/1 [00:01<00:00,  1.74s/it]\n",
      "  0%|          | 0/1 [00:00<?, ?it/s]"
     ]
    },
    {
     "name": "stdout",
     "output_type": "stream",
     "text": [
      "1\n"
     ]
    },
    {
     "name": "stderr",
     "output_type": "stream",
     "text": [
      "100%|██████████| 1/1 [00:01<00:00,  1.32s/it]\n",
      "  0%|          | 0/1 [00:00<?, ?it/s]"
     ]
    },
    {
     "name": "stdout",
     "output_type": "stream",
     "text": [
      "1\n"
     ]
    },
    {
     "name": "stderr",
     "output_type": "stream",
     "text": [
      "100%|██████████| 1/1 [00:01<00:00,  1.39s/it]\n",
      "  0%|          | 0/1 [00:00<?, ?it/s]"
     ]
    },
    {
     "name": "stdout",
     "output_type": "stream",
     "text": [
      "1\n"
     ]
    },
    {
     "name": "stderr",
     "output_type": "stream",
     "text": [
      "100%|██████████| 1/1 [00:01<00:00,  1.04s/it]\n",
      "  0%|          | 0/1 [00:00<?, ?it/s]"
     ]
    },
    {
     "name": "stdout",
     "output_type": "stream",
     "text": [
      "1\n"
     ]
    },
    {
     "name": "stderr",
     "output_type": "stream",
     "text": [
      "100%|██████████| 1/1 [00:02<00:00,  2.61s/it]\n",
      "  0%|          | 0/1 [00:00<?, ?it/s]"
     ]
    },
    {
     "name": "stdout",
     "output_type": "stream",
     "text": [
      "1\n"
     ]
    },
    {
     "name": "stderr",
     "output_type": "stream",
     "text": [
      "100%|██████████| 1/1 [00:01<00:00,  1.95s/it]\n",
      "100%|██████████| 1/1 [00:00<00:00,  6.48it/s]"
     ]
    },
    {
     "name": "stdout",
     "output_type": "stream",
     "text": [
      "1\n"
     ]
    },
    {
     "name": "stderr",
     "output_type": "stream",
     "text": [
      "\n",
      "  0%|          | 0/1 [00:00<?, ?it/s]"
     ]
    },
    {
     "name": "stdout",
     "output_type": "stream",
     "text": [
      "1\n"
     ]
    },
    {
     "name": "stderr",
     "output_type": "stream",
     "text": [
      "100%|██████████| 1/1 [00:03<00:00,  3.63s/it]\n",
      "  0%|          | 0/1 [00:00<?, ?it/s]"
     ]
    },
    {
     "name": "stdout",
     "output_type": "stream",
     "text": [
      "1\n"
     ]
    },
    {
     "name": "stderr",
     "output_type": "stream",
     "text": [
      "100%|██████████| 1/1 [00:02<00:00,  2.92s/it]\n",
      "  0%|          | 0/1 [00:00<?, ?it/s]"
     ]
    },
    {
     "name": "stdout",
     "output_type": "stream",
     "text": [
      "1\n"
     ]
    },
    {
     "name": "stderr",
     "output_type": "stream",
     "text": [
      "100%|██████████| 1/1 [00:00<00:00,  1.19it/s]\n",
      "  0%|          | 0/1 [00:00<?, ?it/s]"
     ]
    },
    {
     "name": "stdout",
     "output_type": "stream",
     "text": [
      "1\n"
     ]
    },
    {
     "name": "stderr",
     "output_type": "stream",
     "text": [
      "100%|██████████| 1/1 [00:02<00:00,  2.31s/it]\n",
      "  0%|          | 0/1 [00:00<?, ?it/s]"
     ]
    },
    {
     "name": "stdout",
     "output_type": "stream",
     "text": [
      "1\n"
     ]
    },
    {
     "name": "stderr",
     "output_type": "stream",
     "text": [
      "100%|██████████| 1/1 [00:03<00:00,  3.21s/it]\n",
      "  0%|          | 0/1 [00:00<?, ?it/s]"
     ]
    },
    {
     "name": "stdout",
     "output_type": "stream",
     "text": [
      "1\n"
     ]
    },
    {
     "name": "stderr",
     "output_type": "stream",
     "text": [
      "100%|██████████| 1/1 [00:01<00:00,  1.82s/it]\n",
      "  0%|          | 0/1 [00:00<?, ?it/s]"
     ]
    },
    {
     "name": "stdout",
     "output_type": "stream",
     "text": [
      "1\n"
     ]
    },
    {
     "name": "stderr",
     "output_type": "stream",
     "text": [
      "100%|██████████| 1/1 [00:01<00:00,  1.05s/it]\n",
      "  0%|          | 0/1 [00:00<?, ?it/s]"
     ]
    },
    {
     "name": "stdout",
     "output_type": "stream",
     "text": [
      "1\n"
     ]
    },
    {
     "name": "stderr",
     "output_type": "stream",
     "text": [
      "100%|██████████| 1/1 [00:00<00:00,  1.07it/s]\n",
      "  0%|          | 0/1 [00:00<?, ?it/s]"
     ]
    },
    {
     "name": "stdout",
     "output_type": "stream",
     "text": [
      "1\n"
     ]
    },
    {
     "name": "stderr",
     "output_type": "stream",
     "text": [
      "100%|██████████| 1/1 [00:01<00:00,  1.35s/it]\n",
      "  0%|          | 0/1 [00:00<?, ?it/s]"
     ]
    },
    {
     "name": "stdout",
     "output_type": "stream",
     "text": [
      "1\n"
     ]
    },
    {
     "name": "stderr",
     "output_type": "stream",
     "text": [
      "100%|██████████| 1/1 [00:02<00:00,  2.97s/it]\n",
      "  0%|          | 0/1 [00:00<?, ?it/s]"
     ]
    },
    {
     "name": "stdout",
     "output_type": "stream",
     "text": [
      "1\n"
     ]
    },
    {
     "name": "stderr",
     "output_type": "stream",
     "text": [
      "100%|██████████| 1/1 [00:02<00:00,  2.28s/it]\n",
      "  0%|          | 0/1 [00:00<?, ?it/s]"
     ]
    },
    {
     "name": "stdout",
     "output_type": "stream",
     "text": [
      "1\n"
     ]
    },
    {
     "name": "stderr",
     "output_type": "stream",
     "text": [
      "100%|██████████| 1/1 [00:01<00:00,  1.24s/it]\n",
      "  0%|          | 0/1 [00:00<?, ?it/s]"
     ]
    },
    {
     "name": "stdout",
     "output_type": "stream",
     "text": [
      "1\n"
     ]
    },
    {
     "name": "stderr",
     "output_type": "stream",
     "text": [
      "100%|██████████| 1/1 [00:03<00:00,  3.52s/it]\n",
      "  0%|          | 0/1 [00:00<?, ?it/s]"
     ]
    },
    {
     "name": "stdout",
     "output_type": "stream",
     "text": [
      "1\n"
     ]
    },
    {
     "name": "stderr",
     "output_type": "stream",
     "text": [
      "100%|██████████| 1/1 [00:02<00:00,  2.02s/it]\n",
      "100%|██████████| 1/1 [00:00<00:00,  8.76it/s]\n"
     ]
    },
    {
     "name": "stdout",
     "output_type": "stream",
     "text": [
      "1\n",
      "1\n"
     ]
    },
    {
     "name": "stderr",
     "output_type": "stream",
     "text": [
      "100%|██████████| 1/1 [00:01<00:00,  1.42s/it]\n",
      "  0%|          | 0/1 [00:00<?, ?it/s]"
     ]
    },
    {
     "name": "stdout",
     "output_type": "stream",
     "text": [
      "1\n"
     ]
    },
    {
     "name": "stderr",
     "output_type": "stream",
     "text": [
      "100%|██████████| 1/1 [00:00<00:00,  1.99it/s]\n",
      "  0%|          | 0/1 [00:00<?, ?it/s]"
     ]
    },
    {
     "name": "stdout",
     "output_type": "stream",
     "text": [
      "1\n"
     ]
    },
    {
     "name": "stderr",
     "output_type": "stream",
     "text": [
      "100%|██████████| 1/1 [00:01<00:00,  1.09s/it]\n",
      "  0%|          | 0/1 [00:00<?, ?it/s]"
     ]
    },
    {
     "name": "stdout",
     "output_type": "stream",
     "text": [
      "1\n"
     ]
    },
    {
     "name": "stderr",
     "output_type": "stream",
     "text": [
      "100%|██████████| 1/1 [00:02<00:00,  2.50s/it]\n",
      "  0%|          | 0/1 [00:00<?, ?it/s]"
     ]
    },
    {
     "name": "stdout",
     "output_type": "stream",
     "text": [
      "1\n"
     ]
    },
    {
     "name": "stderr",
     "output_type": "stream",
     "text": [
      "100%|██████████| 1/1 [00:02<00:00,  2.54s/it]\n",
      "  0%|          | 0/1 [00:00<?, ?it/s]"
     ]
    },
    {
     "name": "stdout",
     "output_type": "stream",
     "text": [
      "1\n"
     ]
    },
    {
     "name": "stderr",
     "output_type": "stream",
     "text": [
      "100%|██████████| 1/1 [00:02<00:00,  2.03s/it]\n",
      "  0%|          | 0/1 [00:00<?, ?it/s]"
     ]
    },
    {
     "name": "stdout",
     "output_type": "stream",
     "text": [
      "1\n"
     ]
    },
    {
     "name": "stderr",
     "output_type": "stream",
     "text": [
      "100%|██████████| 1/1 [00:02<00:00,  2.21s/it]\n",
      "100%|██████████| 1/1 [00:00<00:00,  8.68it/s]"
     ]
    },
    {
     "name": "stdout",
     "output_type": "stream",
     "text": [
      "1\n",
      "1\n"
     ]
    },
    {
     "name": "stderr",
     "output_type": "stream",
     "text": [
      "\n",
      "100%|██████████| 1/1 [00:03<00:00,  3.96s/it]\n",
      "  0%|          | 0/1 [00:00<?, ?it/s]"
     ]
    },
    {
     "name": "stdout",
     "output_type": "stream",
     "text": [
      "1\n"
     ]
    },
    {
     "name": "stderr",
     "output_type": "stream",
     "text": [
      "100%|██████████| 1/1 [00:00<00:00,  1.13it/s]\n",
      "  0%|          | 0/1 [00:00<?, ?it/s]"
     ]
    },
    {
     "name": "stdout",
     "output_type": "stream",
     "text": [
      "1\n"
     ]
    },
    {
     "name": "stderr",
     "output_type": "stream",
     "text": [
      "100%|██████████| 1/1 [00:01<00:00,  1.67s/it]\n",
      "  0%|          | 0/1 [00:00<?, ?it/s]"
     ]
    },
    {
     "name": "stdout",
     "output_type": "stream",
     "text": [
      "1\n"
     ]
    },
    {
     "name": "stderr",
     "output_type": "stream",
     "text": [
      "100%|██████████| 1/1 [00:02<00:00,  2.22s/it]\n",
      "  0%|          | 0/1 [00:00<?, ?it/s]"
     ]
    },
    {
     "name": "stdout",
     "output_type": "stream",
     "text": [
      "1\n"
     ]
    },
    {
     "name": "stderr",
     "output_type": "stream",
     "text": [
      "100%|██████████| 1/1 [00:01<00:00,  1.77s/it]\n",
      "  0%|          | 0/1 [00:00<?, ?it/s]"
     ]
    },
    {
     "name": "stdout",
     "output_type": "stream",
     "text": [
      "1\n"
     ]
    },
    {
     "name": "stderr",
     "output_type": "stream",
     "text": [
      "100%|██████████| 1/1 [00:01<00:00,  1.53s/it]\n",
      "  0%|          | 0/1 [00:00<?, ?it/s]"
     ]
    },
    {
     "name": "stdout",
     "output_type": "stream",
     "text": [
      "1\n"
     ]
    },
    {
     "name": "stderr",
     "output_type": "stream",
     "text": [
      "100%|██████████| 1/1 [00:01<00:00,  1.49s/it]\n",
      "  0%|          | 0/1 [00:00<?, ?it/s]"
     ]
    },
    {
     "name": "stdout",
     "output_type": "stream",
     "text": [
      "1\n"
     ]
    },
    {
     "name": "stderr",
     "output_type": "stream",
     "text": [
      "100%|██████████| 1/1 [00:01<00:00,  1.61s/it]\n",
      "  0%|          | 0/1 [00:00<?, ?it/s]"
     ]
    },
    {
     "name": "stdout",
     "output_type": "stream",
     "text": [
      "1\n"
     ]
    },
    {
     "name": "stderr",
     "output_type": "stream",
     "text": [
      "100%|██████████| 1/1 [00:01<00:00,  1.24s/it]\n",
      "  0%|          | 0/1 [00:00<?, ?it/s]"
     ]
    },
    {
     "name": "stdout",
     "output_type": "stream",
     "text": [
      "1\n"
     ]
    },
    {
     "name": "stderr",
     "output_type": "stream",
     "text": [
      "100%|██████████| 1/1 [00:01<00:00,  1.43s/it]\n",
      "  0%|          | 0/1 [00:00<?, ?it/s]"
     ]
    },
    {
     "name": "stdout",
     "output_type": "stream",
     "text": [
      "1\n"
     ]
    },
    {
     "name": "stderr",
     "output_type": "stream",
     "text": [
      "100%|██████████| 1/1 [00:01<00:00,  1.65s/it]\n",
      "  0%|          | 0/1 [00:00<?, ?it/s]"
     ]
    },
    {
     "name": "stdout",
     "output_type": "stream",
     "text": [
      "1\n"
     ]
    },
    {
     "name": "stderr",
     "output_type": "stream",
     "text": [
      "100%|██████████| 1/1 [00:01<00:00,  1.16s/it]\n",
      "  0%|          | 0/1 [00:00<?, ?it/s]"
     ]
    },
    {
     "name": "stdout",
     "output_type": "stream",
     "text": [
      "1\n"
     ]
    },
    {
     "name": "stderr",
     "output_type": "stream",
     "text": [
      "100%|██████████| 1/1 [00:02<00:00,  2.57s/it]\n",
      "  0%|          | 0/1 [00:00<?, ?it/s]"
     ]
    },
    {
     "name": "stdout",
     "output_type": "stream",
     "text": [
      "1\n"
     ]
    },
    {
     "name": "stderr",
     "output_type": "stream",
     "text": [
      "100%|██████████| 1/1 [00:01<00:00,  1.81s/it]\n",
      "  0%|          | 0/1 [00:00<?, ?it/s]"
     ]
    },
    {
     "name": "stdout",
     "output_type": "stream",
     "text": [
      "1\n"
     ]
    },
    {
     "name": "stderr",
     "output_type": "stream",
     "text": [
      "100%|██████████| 1/1 [00:00<00:00,  1.16it/s]\n",
      "  0%|          | 0/1 [00:00<?, ?it/s]"
     ]
    },
    {
     "name": "stdout",
     "output_type": "stream",
     "text": [
      "1\n"
     ]
    },
    {
     "name": "stderr",
     "output_type": "stream",
     "text": [
      "100%|██████████| 1/1 [00:01<00:00,  1.20s/it]\n",
      "  0%|          | 0/1 [00:00<?, ?it/s]"
     ]
    },
    {
     "name": "stdout",
     "output_type": "stream",
     "text": [
      "1\n"
     ]
    },
    {
     "name": "stderr",
     "output_type": "stream",
     "text": [
      "100%|██████████| 1/1 [00:01<00:00,  1.78s/it]\n",
      "  0%|          | 0/1 [00:00<?, ?it/s]"
     ]
    },
    {
     "name": "stdout",
     "output_type": "stream",
     "text": [
      "1\n"
     ]
    },
    {
     "name": "stderr",
     "output_type": "stream",
     "text": [
      "100%|██████████| 1/1 [00:01<00:00,  1.99s/it]\n",
      "  0%|          | 0/1 [00:00<?, ?it/s]"
     ]
    },
    {
     "name": "stdout",
     "output_type": "stream",
     "text": [
      "1\n"
     ]
    },
    {
     "name": "stderr",
     "output_type": "stream",
     "text": [
      "100%|██████████| 1/1 [00:02<00:00,  2.97s/it]\n",
      "  0%|          | 0/1 [00:00<?, ?it/s]"
     ]
    },
    {
     "name": "stdout",
     "output_type": "stream",
     "text": [
      "1\n"
     ]
    },
    {
     "name": "stderr",
     "output_type": "stream",
     "text": [
      "100%|██████████| 1/1 [00:02<00:00,  2.84s/it]\n",
      "  0%|          | 0/1 [00:00<?, ?it/s]"
     ]
    },
    {
     "name": "stdout",
     "output_type": "stream",
     "text": [
      "1\n"
     ]
    },
    {
     "name": "stderr",
     "output_type": "stream",
     "text": [
      "100%|██████████| 1/1 [00:02<00:00,  2.27s/it]\n",
      "  0%|          | 0/1 [00:00<?, ?it/s]"
     ]
    },
    {
     "name": "stdout",
     "output_type": "stream",
     "text": [
      "1\n"
     ]
    },
    {
     "name": "stderr",
     "output_type": "stream",
     "text": [
      "100%|██████████| 1/1 [00:01<00:00,  1.01s/it]\n",
      "  0%|          | 0/1 [00:00<?, ?it/s]"
     ]
    },
    {
     "name": "stdout",
     "output_type": "stream",
     "text": [
      "1\n"
     ]
    },
    {
     "name": "stderr",
     "output_type": "stream",
     "text": [
      "100%|██████████| 1/1 [00:01<00:00,  1.43s/it]\n",
      "  0%|          | 0/1 [00:00<?, ?it/s]"
     ]
    },
    {
     "name": "stdout",
     "output_type": "stream",
     "text": [
      "1\n"
     ]
    },
    {
     "name": "stderr",
     "output_type": "stream",
     "text": [
      "100%|██████████| 1/1 [00:02<00:00,  2.52s/it]\n",
      "  0%|          | 0/1 [00:00<?, ?it/s]"
     ]
    },
    {
     "name": "stdout",
     "output_type": "stream",
     "text": [
      "1\n"
     ]
    },
    {
     "name": "stderr",
     "output_type": "stream",
     "text": [
      "100%|██████████| 1/1 [00:01<00:00,  1.14s/it]\n",
      "  0%|          | 0/1 [00:00<?, ?it/s]"
     ]
    },
    {
     "name": "stdout",
     "output_type": "stream",
     "text": [
      "1\n"
     ]
    },
    {
     "name": "stderr",
     "output_type": "stream",
     "text": [
      "100%|██████████| 1/1 [00:01<00:00,  1.11s/it]\n",
      "  0%|          | 0/1 [00:00<?, ?it/s]"
     ]
    },
    {
     "name": "stdout",
     "output_type": "stream",
     "text": [
      "1\n"
     ]
    },
    {
     "name": "stderr",
     "output_type": "stream",
     "text": [
      "100%|██████████| 1/1 [00:03<00:00,  3.71s/it]\n",
      "  0%|          | 0/1 [00:00<?, ?it/s]"
     ]
    },
    {
     "name": "stdout",
     "output_type": "stream",
     "text": [
      "1\n"
     ]
    },
    {
     "name": "stderr",
     "output_type": "stream",
     "text": [
      "100%|██████████| 1/1 [00:01<00:00,  1.40s/it]\n",
      "  0%|          | 0/1 [00:00<?, ?it/s]"
     ]
    },
    {
     "name": "stdout",
     "output_type": "stream",
     "text": [
      "1\n"
     ]
    },
    {
     "name": "stderr",
     "output_type": "stream",
     "text": [
      "100%|██████████| 1/1 [00:00<00:00,  1.22it/s]\n",
      "  0%|          | 0/1 [00:00<?, ?it/s]"
     ]
    },
    {
     "name": "stdout",
     "output_type": "stream",
     "text": [
      "1\n"
     ]
    },
    {
     "name": "stderr",
     "output_type": "stream",
     "text": [
      "100%|██████████| 1/1 [00:02<00:00,  2.12s/it]\n",
      "  0%|          | 0/1 [00:00<?, ?it/s]"
     ]
    },
    {
     "name": "stdout",
     "output_type": "stream",
     "text": [
      "1\n"
     ]
    },
    {
     "name": "stderr",
     "output_type": "stream",
     "text": [
      "100%|██████████| 1/1 [00:01<00:00,  1.74s/it]\n",
      "  0%|          | 0/1 [00:00<?, ?it/s]"
     ]
    },
    {
     "name": "stdout",
     "output_type": "stream",
     "text": [
      "1\n"
     ]
    },
    {
     "name": "stderr",
     "output_type": "stream",
     "text": [
      "100%|██████████| 1/1 [00:01<00:00,  1.62s/it]\n",
      "  0%|          | 0/1 [00:00<?, ?it/s]"
     ]
    },
    {
     "name": "stdout",
     "output_type": "stream",
     "text": [
      "1\n"
     ]
    },
    {
     "name": "stderr",
     "output_type": "stream",
     "text": [
      "100%|██████████| 1/1 [00:02<00:00,  2.95s/it]\n",
      "  0%|          | 0/1 [00:00<?, ?it/s]"
     ]
    },
    {
     "name": "stdout",
     "output_type": "stream",
     "text": [
      "1\n"
     ]
    },
    {
     "name": "stderr",
     "output_type": "stream",
     "text": [
      "100%|██████████| 1/1 [00:03<00:00,  3.35s/it]\n",
      "  0%|          | 0/1 [00:00<?, ?it/s]"
     ]
    },
    {
     "name": "stdout",
     "output_type": "stream",
     "text": [
      "1\n"
     ]
    },
    {
     "name": "stderr",
     "output_type": "stream",
     "text": [
      "100%|██████████| 1/1 [00:02<00:00,  2.32s/it]\n",
      "  0%|          | 0/1 [00:00<?, ?it/s]"
     ]
    },
    {
     "name": "stdout",
     "output_type": "stream",
     "text": [
      "1\n"
     ]
    },
    {
     "name": "stderr",
     "output_type": "stream",
     "text": [
      "100%|██████████| 1/1 [00:02<00:00,  2.99s/it]\n",
      "  0%|          | 0/1 [00:00<?, ?it/s]"
     ]
    },
    {
     "name": "stdout",
     "output_type": "stream",
     "text": [
      "1\n"
     ]
    },
    {
     "name": "stderr",
     "output_type": "stream",
     "text": [
      "100%|██████████| 1/1 [00:03<00:00,  3.69s/it]\n",
      "  0%|          | 0/1 [00:00<?, ?it/s]"
     ]
    },
    {
     "name": "stdout",
     "output_type": "stream",
     "text": [
      "1\n"
     ]
    },
    {
     "name": "stderr",
     "output_type": "stream",
     "text": [
      "100%|██████████| 1/1 [00:01<00:00,  1.28s/it]\n",
      "  0%|          | 0/1 [00:00<?, ?it/s]"
     ]
    },
    {
     "name": "stdout",
     "output_type": "stream",
     "text": [
      "1\n"
     ]
    },
    {
     "name": "stderr",
     "output_type": "stream",
     "text": [
      "100%|██████████| 1/1 [00:03<00:00,  3.28s/it]\n",
      "  0%|          | 0/1 [00:00<?, ?it/s]"
     ]
    },
    {
     "name": "stdout",
     "output_type": "stream",
     "text": [
      "1\n"
     ]
    },
    {
     "name": "stderr",
     "output_type": "stream",
     "text": [
      "100%|██████████| 1/1 [00:02<00:00,  2.49s/it]\n",
      "  0%|          | 0/1 [00:00<?, ?it/s]"
     ]
    },
    {
     "name": "stdout",
     "output_type": "stream",
     "text": [
      "1\n"
     ]
    },
    {
     "name": "stderr",
     "output_type": "stream",
     "text": [
      "100%|██████████| 1/1 [00:02<00:00,  2.08s/it]\n",
      "  0%|          | 0/1 [00:00<?, ?it/s]"
     ]
    },
    {
     "name": "stdout",
     "output_type": "stream",
     "text": [
      "1\n"
     ]
    },
    {
     "name": "stderr",
     "output_type": "stream",
     "text": [
      "100%|██████████| 1/1 [00:01<00:00,  1.08s/it]\n",
      "  0%|          | 0/1 [00:00<?, ?it/s]"
     ]
    },
    {
     "name": "stdout",
     "output_type": "stream",
     "text": [
      "1\n"
     ]
    },
    {
     "name": "stderr",
     "output_type": "stream",
     "text": [
      "100%|██████████| 1/1 [00:01<00:00,  1.67s/it]\n",
      "  0%|          | 0/1 [00:00<?, ?it/s]"
     ]
    },
    {
     "name": "stdout",
     "output_type": "stream",
     "text": [
      "1\n"
     ]
    },
    {
     "name": "stderr",
     "output_type": "stream",
     "text": [
      "100%|██████████| 1/1 [00:00<00:00,  1.03it/s]"
     ]
    },
    {
     "name": "stdout",
     "output_type": "stream",
     "text": [
      "1\n"
     ]
    },
    {
     "name": "stderr",
     "output_type": "stream",
     "text": [
      "\n"
     ]
    }
   ],
   "source": [
    "ga = GAdvExample(feature_names=feature_names,\n",
    "                sol_per_pop=35, num_parents_mating=15, cat_vars_ohe=one_hot,\n",
    "                 num_generations=200, n_runs=1, black_list=blist,\n",
    "                 verbose=False, beta=0.95)\n",
    "\n",
    "results = []\n",
    "\n",
    "for xi in X_test:\n",
    "    x_all, x_changes, x_sucess = ga.attack(clf, x=xi,x_train=X_train)\n",
    "    if len(x_sucess)>0:\n",
    "        results.append((xi,x_changes, x_sucess))\n",
    "    print(len(x_sucess))"
   ]
  },
  {
   "cell_type": "code",
   "execution_count": 19,
   "metadata": {},
   "outputs": [
    {
     "data": {
      "text/plain": [
       "400"
      ]
     },
     "execution_count": 19,
     "metadata": {},
     "output_type": "execute_result"
    }
   ],
   "source": [
    "len(results)"
   ]
  },
  {
   "cell_type": "code",
   "execution_count": null,
   "metadata": {},
   "outputs": [],
   "source": [
    "adv = []\n",
    "data = []\n",
    "for result in results:\n",
    "    for xi in result[2]:\n",
    "        adv.append(xi)\n",
    "        data.append(result[0])"
   ]
  },
  {
   "cell_type": "code",
   "execution_count": 45,
   "metadata": {},
   "outputs": [],
   "source": [
    "# import pickle\n",
    "# pickle.dump((clf, results), open(\"distribution_change_res.pkl\",\"wb\"))"
   ]
  },
  {
   "cell_type": "code",
   "execution_count": 58,
   "metadata": {},
   "outputs": [],
   "source": [
    "adv = []\n",
    "data = []\n",
    "for result in results:\n",
    "    for xi in result[2]:\n",
    "        adv.append(alibi_ord_to_ohe(xi.reshape(1,-1), ord_enc)[0][0])\n",
    "        data.append(result[0])"
   ]
  },
  {
   "cell_type": "code",
   "execution_count": 59,
   "metadata": {},
   "outputs": [],
   "source": [
    "predprob_data = clf.predict_proba(data)[:,1]\n",
    "predprob_adv = clf.predict_proba(adv)[:,1]\n",
    "pred = clf.predict(data)"
   ]
  },
  {
   "cell_type": "code",
   "execution_count": 71,
   "metadata": {},
   "outputs": [
    {
     "data": {
      "text/plain": [
       "Text(0, 0.5, 'Counts')"
      ]
     },
     "execution_count": 71,
     "metadata": {},
     "output_type": "execute_result"
    },
    {
     "data": {
      "image/png": "[encoded data removed]",
      "text/plain": [
       "<Figure size 720x360 with 1 Axes>"
      ]
     },
     "metadata": {},
     "output_type": "display_data"
    },
    {
     "data": {
      "image/png": "[encoded data removed]",
      "text/plain": [
       "<Figure size 720x360 with 1 Axes>"
      ]
     },
     "metadata": {},
     "output_type": "display_data"
    }
   ],
   "source": [
    "fig = plt.figure(figsize=(10,5))\n",
    "_ = plt.hist(predprob_data[pred==1], label=\"Original Prediction\")\n",
    "_ = plt.hist(predprob_adv[pred==1], label=\"Counterfactual Prediction\")\n",
    "plt.legend(loc='best', fontsize=13)\n",
    "fig.gca().set_xlabel(\"Prediction Probability\", fontsize=13)\n",
    "fig.gca().set_ylabel(\"Counts\", fontsize=13)\n",
    "\n",
    "fig = plt.figure(figsize=(10,5))\n",
    "_ = plt.hist(predprob_data[pred==0], label=\"Original Prediction\")\n",
    "_ = plt.hist(predprob_adv[pred==0], label=\"Counterfactual Prediction\")\n",
    "plt.legend(loc='best', fontsize=13)\n",
    "fig.gca().set_xlabel(\"Prediction Probability\", fontsize=13)\n",
    "fig.gca().set_ylabel(\"Counts\", fontsize=13)"
   ]
  },
  {
   "cell_type": "code",
   "execution_count": 91,
   "metadata": {},
   "outputs": [
    {
     "data": {
      "image/png": "[encoded data removed]",
      "text/plain": [
       "<Figure size 504x504 with 1 Axes>"
      ]
     },
     "metadata": {},
     "output_type": "display_data"
    }
   ],
   "source": [
    "fig = plt.figure(figsize=(7,7))\n",
    "\n",
    "\n",
    "plt.scatter(predprob_data[pred==1], predprob_adv[pred==1], c=\"b\", vmin=0, vmax=1, label = \"Original Pred = 1, Counterfactual Pred = 0\")\n",
    "plt.scatter(predprob_data[pred==0], predprob_adv[pred==0], c=\"r\", vmin=0, vmax=1, label = \"Original Pred = 0, Counterfactual Pred = 1\")\n",
    "\n",
    "plt.hlines(0.5, 0, 1, linestyles=\"--\")\n",
    "plt.vlines(0.5, 0, 1, linestyles=\"--\")\n",
    "\n",
    "plt.legend(loc='best', fontsize=13)\n",
    "fig.gca().set_xlabel(\"Original Probability\", fontsize=15)\n",
    "fig.gca().set_ylabel(\"Counterfactual Probability\", fontsize=15)\n",
    "plt.tight_layout()\n",
    "plt.savefig(\"scatter_outcomes.png\", type=\"png\", dpi=600)"
   ]
  },
  {
   "cell_type": "code",
   "execution_count": 22,
   "metadata": {},
   "outputs": [
    {
     "data": {
      "text/html": [
       "<div>\n",
       "<style scoped>\n",
       "    .dataframe tbody tr th:only-of-type {\n",
       "        vertical-align: middle;\n",
       "    }\n",
       "\n",
       "    .dataframe tbody tr th {\n",
       "        vertical-align: top;\n",
       "    }\n",
       "\n",
       "    .dataframe thead th {\n",
       "        text-align: right;\n",
       "    }\n",
       "</style>\n",
       "<table border=\"1\" class=\"dataframe\">\n",
       "  <thead>\n",
       "    <tr style=\"text-align: right;\">\n",
       "      <th></th>\n",
       "      <th>duration_in_month</th>\n",
       "      <th>credit_amount</th>\n",
       "      <th>installment_as_income_perc</th>\n",
       "      <th>present_res_since</th>\n",
       "      <th>age</th>\n",
       "      <th>credits_this_bank</th>\n",
       "      <th>people_under_maintenance</th>\n",
       "      <th>account_check_status</th>\n",
       "      <th>credit_history</th>\n",
       "      <th>purpose</th>\n",
       "      <th>savings</th>\n",
       "      <th>present_emp_since</th>\n",
       "      <th>personal_status_sex</th>\n",
       "      <th>other_debtors</th>\n",
       "      <th>property</th>\n",
       "      <th>other_installment_plans</th>\n",
       "      <th>housing</th>\n",
       "      <th>job</th>\n",
       "      <th>telephone</th>\n",
       "      <th>foreign_worker</th>\n",
       "    </tr>\n",
       "  </thead>\n",
       "  <tbody>\n",
       "    <tr>\n",
       "      <th>0</th>\n",
       "      <td>0</td>\n",
       "      <td>0</td>\n",
       "      <td>0</td>\n",
       "      <td>0</td>\n",
       "      <td>0</td>\n",
       "      <td>0</td>\n",
       "      <td>0</td>\n",
       "      <td>2</td>\n",
       "      <td>0</td>\n",
       "      <td>0</td>\n",
       "      <td>0</td>\n",
       "      <td>0</td>\n",
       "      <td>0</td>\n",
       "      <td>0</td>\n",
       "      <td>0</td>\n",
       "      <td>0</td>\n",
       "      <td>0</td>\n",
       "      <td>-1</td>\n",
       "      <td>0</td>\n",
       "      <td>0</td>\n",
       "    </tr>\n",
       "    <tr>\n",
       "      <th>0</th>\n",
       "      <td>0</td>\n",
       "      <td>0</td>\n",
       "      <td>0</td>\n",
       "      <td>0</td>\n",
       "      <td>0</td>\n",
       "      <td>0</td>\n",
       "      <td>0</td>\n",
       "      <td>2</td>\n",
       "      <td>0</td>\n",
       "      <td>0</td>\n",
       "      <td>2</td>\n",
       "      <td>0</td>\n",
       "      <td>0</td>\n",
       "      <td>0</td>\n",
       "      <td>0</td>\n",
       "      <td>0</td>\n",
       "      <td>0</td>\n",
       "      <td>0</td>\n",
       "      <td>0</td>\n",
       "      <td>0</td>\n",
       "    </tr>\n",
       "    <tr>\n",
       "      <th>0</th>\n",
       "      <td>0</td>\n",
       "      <td>0</td>\n",
       "      <td>0</td>\n",
       "      <td>0</td>\n",
       "      <td>0</td>\n",
       "      <td>0</td>\n",
       "      <td>0</td>\n",
       "      <td>0</td>\n",
       "      <td>-1</td>\n",
       "      <td>0</td>\n",
       "      <td>0</td>\n",
       "      <td>-1</td>\n",
       "      <td>-1</td>\n",
       "      <td>0</td>\n",
       "      <td>0</td>\n",
       "      <td>-1</td>\n",
       "      <td>0</td>\n",
       "      <td>0</td>\n",
       "      <td>0</td>\n",
       "      <td>0</td>\n",
       "    </tr>\n",
       "    <tr>\n",
       "      <th>0</th>\n",
       "      <td>0</td>\n",
       "      <td>0</td>\n",
       "      <td>0</td>\n",
       "      <td>0</td>\n",
       "      <td>0</td>\n",
       "      <td>0</td>\n",
       "      <td>0</td>\n",
       "      <td>2</td>\n",
       "      <td>0</td>\n",
       "      <td>0</td>\n",
       "      <td>0</td>\n",
       "      <td>0</td>\n",
       "      <td>0</td>\n",
       "      <td>0</td>\n",
       "      <td>0</td>\n",
       "      <td>0</td>\n",
       "      <td>0</td>\n",
       "      <td>0</td>\n",
       "      <td>0</td>\n",
       "      <td>0</td>\n",
       "    </tr>\n",
       "    <tr>\n",
       "      <th>0</th>\n",
       "      <td>0</td>\n",
       "      <td>0</td>\n",
       "      <td>0</td>\n",
       "      <td>0</td>\n",
       "      <td>0</td>\n",
       "      <td>0</td>\n",
       "      <td>0</td>\n",
       "      <td>0</td>\n",
       "      <td>0</td>\n",
       "      <td>1</td>\n",
       "      <td>0</td>\n",
       "      <td>1</td>\n",
       "      <td>0</td>\n",
       "      <td>0</td>\n",
       "      <td>0</td>\n",
       "      <td>1</td>\n",
       "      <td>0</td>\n",
       "      <td>0</td>\n",
       "      <td>0</td>\n",
       "      <td>0</td>\n",
       "    </tr>\n",
       "  </tbody>\n",
       "</table>\n",
       "</div>"
      ],
      "text/plain": [
       "   duration_in_month  credit_amount  installment_as_income_perc  present_res_since  age  credits_this_bank  people_under_maintenance  account_check_status  credit_history  purpose  savings  present_emp_since  personal_status_sex  other_debtors  property  other_installment_plans  housing  job  telephone  foreign_worker\n",
       "0                  0              0                           0                  0    0                  0                         0                     2               0        0        0                  0                    0              0         0                        0        0   -1          0               0\n",
       "0                  0              0                           0                  0    0                  0                         0                     2               0        0        2                  0                    0              0         0                        0        0    0          0               0\n",
       "0                  0              0                           0                  0    0                  0                         0                     0              -1        0        0                 -1                   -1              0         0                       -1        0    0          0               0\n",
       "0                  0              0                           0                  0    0                  0                         0                     2               0        0        0                  0                    0              0         0                        0        0    0          0               0\n",
       "0                  0              0                           0                  0    0                  0                         0                     0               0        1        0                  1                    0              0         0                        1        0    0          0               0"
      ]
     },
     "execution_count": 22,
     "metadata": {},
     "output_type": "execute_result"
    }
   ],
   "source": [
    "x_change_all = results[0][1]\n",
    "for result in results[1:]:\n",
    "    x_change_all = pd.concat([x_change_all, result[1]])\n",
    "    \n",
    "x_change_all.head()"
   ]
  },
  {
   "cell_type": "code",
   "execution_count": 23,
   "metadata": {},
   "outputs": [
    {
     "data": {
      "text/plain": [
       "(400, 20)"
      ]
     },
     "execution_count": 23,
     "metadata": {},
     "output_type": "execute_result"
    }
   ],
   "source": [
    "adv = np.asarray(adv)\n",
    "data = np.asarray(data)\n",
    "adv.shape"
   ]
  },
  {
   "cell_type": "code",
   "execution_count": 24,
   "metadata": {},
   "outputs": [
    {
     "data": {
      "text/plain": [
       "((400, 20), (400, 61))"
      ]
     },
     "execution_count": 24,
     "metadata": {},
     "output_type": "execute_result"
    }
   ],
   "source": [
    "data_, hot_one = alibi_ohe_to_ord(data, one_hot)\n",
    "data_.shape, data.shape"
   ]
  },
  {
   "cell_type": "code",
   "execution_count": 25,
   "metadata": {},
   "outputs": [
    {
     "data": {
      "text/plain": [
       "(329, 71)"
      ]
     },
     "execution_count": 25,
     "metadata": {},
     "output_type": "execute_result"
    }
   ],
   "source": [
    "(clf.predict(alibi_ord_to_ohe(adv, hot_one)[0])==1).sum(), (clf.predict(alibi_ord_to_ohe(adv, hot_one)[0])==0).sum()"
   ]
  },
  {
   "cell_type": "code",
   "execution_count": 26,
   "metadata": {},
   "outputs": [
    {
     "data": {
      "image/png": "[encoded data removed]",
      "text/plain": [
       "<Figure size 720x432 with 2 Axes>"
      ]
     },
     "metadata": {},
     "output_type": "display_data"
    }
   ],
   "source": [
    "plt.figure(figsize=(10,6))\n",
    "ax= plt.subplot(1,2,1)\n",
    "\n",
    "ind = clf.predict(alibi_ord_to_ohe(adv, hot_one)[0])==0\n",
    "df1 = (x_change_all[ind]).sum(0).to_frame().sort_values(by=0,ascending=False)\n",
    "ax = df1[df1[0]!=0].plot.bar(legend=False, fontsize=13, ax = ax)\n",
    "ax.set_ylabel(\"Counts\", fontsize=14)\n",
    "ax.set_title(\"Pred. changed from Default to Not Default\")\n",
    "ax = plt.subplot(1,2,2)\n",
    "ind = clf.predict(alibi_ord_to_ohe(adv, hot_one)[0])==1\n",
    "df2 = (x_change_all[ind]).sum(0).to_frame().sort_values(by=0,ascending=False)\n",
    "df2[df2[0]!=0].plot.bar(legend=False, fontsize=13, ax=ax)\n",
    "ax.set_title(\"Pred. changed from Not Default to Default\")\n",
    "\n",
    "plt.tight_layout()\n",
    "# plt.savefig(\"sensitive_germancredit.png\", type=\"png\", dpi=600)"
   ]
  },
  {
   "cell_type": "code",
   "execution_count": 27,
   "metadata": {},
   "outputs": [
    {
     "data": {
      "text/plain": [
       "array([1, 1, 1, 1, 1, 1, 0, 1, 0, 1, 1, 1, 1, 1, 1, 1, 1, 1, 1, 1, 1, 1,\n",
       "       1, 1, 1, 1, 0, 1, 1, 1, 1, 1, 1, 1, 1, 1, 1, 1, 1, 1, 1, 1, 1, 1,\n",
       "       1, 1, 1, 1, 1, 1, 1, 1, 1, 1, 1, 1, 1, 1, 1, 1, 1, 1, 1, 1, 1, 1,\n",
       "       1, 1, 1, 1, 1, 1, 1, 1, 1, 1, 1, 1, 1, 1, 1, 1, 1, 1, 1, 1, 1, 1,\n",
       "       1, 1, 1, 1, 1, 1, 1, 1, 1, 1, 0, 1, 1, 1, 1, 1, 1, 1, 1, 1, 1, 1,\n",
       "       1, 1, 1, 1, 1, 1, 1, 1, 1, 1, 1, 1, 1, 1, 1, 1, 1, 1, 1, 1, 1, 1,\n",
       "       1, 1, 1, 1, 0, 1, 1, 1, 1, 1, 1, 1, 1, 1, 1, 1, 1, 1, 1, 1, 1, 1,\n",
       "       0, 1, 1, 1, 1, 1, 1, 1, 1, 1, 1, 1, 1, 1, 1, 1, 1, 1, 1, 1, 1, 1,\n",
       "       1, 0, 1, 1, 1, 1, 1, 1, 1, 1, 1, 1, 1, 1, 1, 1, 1, 1, 1, 1, 1, 0,\n",
       "       1, 1, 1, 1, 1, 1, 1, 1, 1, 1, 1, 1, 1, 1, 1, 1, 1, 1, 1, 1, 1, 1,\n",
       "       1, 1, 1, 1, 1, 1, 1, 1, 1, 1, 1, 1, 1, 1, 1, 1, 1, 1, 1, 1, 1, 1,\n",
       "       1, 1, 1, 1, 0, 1, 1, 1, 1, 1, 1, 1, 1, 1, 1, 1, 1, 1, 1, 1, 1, 1,\n",
       "       1, 1, 1, 1, 1, 1, 1, 1, 1, 1, 1, 1, 1, 1, 1, 1, 1, 1, 1, 1, 1, 1,\n",
       "       1, 1, 1, 1, 1, 1, 1, 1, 1, 1, 1, 1, 1, 1, 1, 1, 1, 1, 1, 1, 1, 1,\n",
       "       1, 1, 1, 1, 1, 1, 1, 1, 1, 1, 1, 1, 1, 0, 1, 0, 1, 1, 1, 0, 1])"
      ]
     },
     "execution_count": 27,
     "metadata": {},
     "output_type": "execute_result"
    }
   ],
   "source": [
    "adv[ind,-1]"
   ]
  },
  {
   "cell_type": "code",
   "execution_count": 28,
   "metadata": {},
   "outputs": [
    {
     "data": {
      "text/plain": [
       "<matplotlib.axes._subplots.AxesSubplot at 0x7f359f722050>"
      ]
     },
     "execution_count": 28,
     "metadata": {},
     "output_type": "execute_result"
    },
    {
     "data": {
      "image/png": "[encoded data removed]",
      "text/plain": [
       "<Figure size 432x288 with 1 Axes>"
      ]
     },
     "metadata": {},
     "output_type": "display_data"
    }
   ],
   "source": [
    "ind = clf.predict(alibi_ord_to_ohe(adv, hot_one)[0])==0\n",
    "df = x_change_all.loc[ind, \"foreign_worker\"]\n",
    "df[df!=0].hist()"
   ]
  },
  {
   "cell_type": "code",
   "execution_count": 29,
   "metadata": {},
   "outputs": [
    {
     "data": {
      "image/png": "[encoded data removed]",
      "text/plain": [
       "<Figure size 576x576 with 1 Axes>"
      ]
     },
     "metadata": {},
     "output_type": "display_data"
    }
   ],
   "source": [
    "ind = clf.predict(alibi_ord_to_ohe(adv, hot_one)[0])==0\n",
    "\n",
    "plot_graph(x_change_all[ind], 0, figsize=(8,8), save=True)"
   ]
  },
  {
   "cell_type": "code",
   "execution_count": 30,
   "metadata": {},
   "outputs": [
    {
     "data": {
      "text/plain": [
       "(400, 20)"
      ]
     },
     "execution_count": 30,
     "metadata": {},
     "output_type": "execute_result"
    }
   ],
   "source": [
    "data_.shape"
   ]
  },
  {
   "cell_type": "code",
   "execution_count": 31,
   "metadata": {},
   "outputs": [],
   "source": [
    "change = data_!=adv"
   ]
  },
  {
   "cell_type": "code",
   "execution_count": 32,
   "metadata": {},
   "outputs": [
    {
     "data": {
      "image/png": "[encoded data removed]",
      "text/plain": [
       "<Figure size 432x288 with 1 Axes>"
      ]
     },
     "metadata": {},
     "output_type": "display_data"
    }
   ],
   "source": [
    "n, bins,_ = plt.hist(change.sum(1), bins=6)\n",
    "plt.gca().set_xlabel(\"Number of changed features\", fontsize=14)\n",
    "plt.gca().set_ylabel(\"Count\", fontsize=14)\n",
    "plt.title(\"Distribution of the number of changed features\")\n",
    "plt.vlines(np.sum(bins[1:]*n)/np.sum(n), 0, 200, \"k\", \"--\", label=\"average\")\n",
    "plt.legend()\n",
    "plt.tight_layout()\n",
    "plt.savefig(\"chenge_freq.svg\", type=\"svg\")\n",
    "# plt.savefig(\"chenge_freq.png\", type=\"png\", dpi=600)"
   ]
  },
  {
   "cell_type": "code",
   "execution_count": 33,
   "metadata": {},
   "outputs": [
    {
     "data": {
      "text/plain": [
       "2.427083333333334"
      ]
     },
     "execution_count": 33,
     "metadata": {},
     "output_type": "execute_result"
    }
   ],
   "source": [
    "np.sum(bins[1:]*n)/np.sum(n)"
   ]
  },
  {
   "cell_type": "code",
   "execution_count": 34,
   "metadata": {},
   "outputs": [
    {
     "data": {
      "text/plain": [
       "0"
      ]
     },
     "execution_count": 34,
     "metadata": {},
     "output_type": "execute_result"
    }
   ],
   "source": [
    "(clf.predict(alibi_ord_to_ohe(data_, hot_one)[0]) == clf.predict(alibi_ord_to_ohe(adv, hot_one)[0])).sum()"
   ]
  },
  {
   "cell_type": "code",
   "execution_count": 35,
   "metadata": {},
   "outputs": [
    {
     "data": {
      "image/png": "[encoded data removed]",
      "text/plain": [
       "<Figure size 576x576 with 1 Axes>"
      ]
     },
     "metadata": {},
     "output_type": "display_data"
    }
   ],
   "source": [
    "plot_graph(x_change_all, 0, figsize=(8,8), save=True)"
   ]
  },
  {
   "cell_type": "code",
   "execution_count": 36,
   "metadata": {},
   "outputs": [
    {
     "data": {
      "image/png": "[encoded data removed]",
      "text/plain": [
       "<Figure size 720x432 with 1 Axes>"
      ]
     },
     "metadata": {},
     "output_type": "display_data"
    }
   ],
   "source": [
    "ax = (x_change_all!=0).sum(0).to_frame().sort_values(by=0,ascending=False).plot.bar(legend=False, figsize=(10,6),fontsize=13)\n",
    "ax.set_ylabel(\"Counts\", fontsize=14)\n",
    "plt.tight_layout()\n",
    "# plt.savefig(\"feat_change_hist.png\", type=\"png\", dpi=600)"
   ]
  },
  {
   "cell_type": "code",
   "execution_count": null,
   "metadata": {},
   "outputs": [],
   "source": []
  },
  {
   "cell_type": "code",
   "execution_count": null,
   "metadata": {},
   "outputs": [],
   "source": []
  },
  {
   "cell_type": "code",
   "execution_count": null,
   "metadata": {},
   "outputs": [],
   "source": []
  },
  {
   "cell_type": "code",
   "execution_count": null,
   "metadata": {},
   "outputs": [],
   "source": []
  },
  {
   "cell_type": "markdown",
   "metadata": {},
   "source": [
    "# SHAP Analysis"
   ]
  },
  {
   "cell_type": "code",
   "execution_count": 37,
   "metadata": {},
   "outputs": [],
   "source": [
    "import shap"
   ]
  },
  {
   "cell_type": "code",
   "execution_count": 38,
   "metadata": {},
   "outputs": [
    {
     "name": "stderr",
     "output_type": "stream",
     "text": [
      "Setting feature_perturbation = \"tree_path_dependent\" because no background data was given.\n"
     ]
    }
   ],
   "source": [
    "explainer = shap.TreeExplainer(clf)\n",
    "shap_values = explainer.shap_values(pd.DataFrame(X_test, columns=feature_names))"
   ]
  },
  {
   "cell_type": "code",
   "execution_count": 39,
   "metadata": {},
   "outputs": [
    {
     "data": {
      "text/html": [
       "<div>\n",
       "<style scoped>\n",
       "    .dataframe tbody tr th:only-of-type {\n",
       "        vertical-align: middle;\n",
       "    }\n",
       "\n",
       "    .dataframe tbody tr th {\n",
       "        vertical-align: top;\n",
       "    }\n",
       "\n",
       "    .dataframe thead th {\n",
       "        text-align: right;\n",
       "    }\n",
       "</style>\n",
       "<table border=\"1\" class=\"dataframe\">\n",
       "  <thead>\n",
       "    <tr style=\"text-align: right;\">\n",
       "      <th></th>\n",
       "      <th>duration_in_month</th>\n",
       "      <th>credit_amount</th>\n",
       "      <th>installment_as_income_perc</th>\n",
       "      <th>present_res_since</th>\n",
       "      <th>age</th>\n",
       "      <th>credits_this_bank</th>\n",
       "      <th>people_under_maintenance</th>\n",
       "      <th>account_check_status_0 &lt;= ... &lt; 200 DM</th>\n",
       "      <th>account_check_status_&lt; 0 DM</th>\n",
       "      <th>account_check_status_&gt;= 200 DM / salary assignments for at least 1 year</th>\n",
       "      <th>account_check_status_no checking account</th>\n",
       "      <th>credit_history_all credits at this bank paid back duly</th>\n",
       "      <th>credit_history_critical account/ other credits existing (not at this bank)</th>\n",
       "      <th>credit_history_delay in paying off in the past</th>\n",
       "      <th>credit_history_existing credits paid back duly till now</th>\n",
       "      <th>credit_history_no credits taken/ all credits paid back duly</th>\n",
       "      <th>purpose_(vacation - does not exist?)</th>\n",
       "      <th>purpose_business</th>\n",
       "      <th>purpose_car (new)</th>\n",
       "      <th>purpose_car (used)</th>\n",
       "      <th>purpose_domestic appliances</th>\n",
       "      <th>purpose_education</th>\n",
       "      <th>purpose_furniture/equipment</th>\n",
       "      <th>purpose_radio/television</th>\n",
       "      <th>purpose_repairs</th>\n",
       "      <th>purpose_retraining</th>\n",
       "      <th>savings_.. &gt;= 1000 DM</th>\n",
       "      <th>savings_... &lt; 100 DM</th>\n",
       "      <th>savings_100 &lt;= ... &lt; 500 DM</th>\n",
       "      <th>savings_500 &lt;= ... &lt; 1000 DM</th>\n",
       "      <th>savings_unknown/ no savings account</th>\n",
       "      <th>present_emp_since_.. &gt;= 7 years</th>\n",
       "      <th>present_emp_since_... &lt; 1 year</th>\n",
       "      <th>present_emp_since_1 &lt;= ... &lt; 4 years</th>\n",
       "      <th>present_emp_since_4 &lt;= ... &lt; 7 years</th>\n",
       "      <th>present_emp_since_unemployed</th>\n",
       "      <th>personal_status_sex_female : divorced/separated/married</th>\n",
       "      <th>personal_status_sex_male : divorced/separated</th>\n",
       "      <th>personal_status_sex_male : married/widowed</th>\n",
       "      <th>personal_status_sex_male : single</th>\n",
       "      <th>other_debtors_co-applicant</th>\n",
       "      <th>other_debtors_guarantor</th>\n",
       "      <th>other_debtors_none</th>\n",
       "      <th>property_if not A121 : building society savings agreement/ life insurance</th>\n",
       "      <th>property_if not A121/A122 : car or other, not in attribute 6</th>\n",
       "      <th>property_real estate</th>\n",
       "      <th>property_unknown / no property</th>\n",
       "      <th>other_installment_plans_bank</th>\n",
       "      <th>other_installment_plans_none</th>\n",
       "      <th>other_installment_plans_stores</th>\n",
       "      <th>housing_for free</th>\n",
       "      <th>housing_own</th>\n",
       "      <th>housing_rent</th>\n",
       "      <th>job_management/ self-employed/ highly qualified employee/ officer</th>\n",
       "      <th>job_skilled employee / official</th>\n",
       "      <th>job_unemployed/ unskilled - non-resident</th>\n",
       "      <th>job_unskilled - resident</th>\n",
       "      <th>telephone_none</th>\n",
       "      <th>telephone_yes, registered under the customers name</th>\n",
       "      <th>foreign_worker_no</th>\n",
       "      <th>foreign_worker_yes</th>\n",
       "    </tr>\n",
       "  </thead>\n",
       "  <tbody>\n",
       "    <tr>\n",
       "      <th>0</th>\n",
       "      <td>13.228625</td>\n",
       "      <td>8.178123</td>\n",
       "      <td>4.098975</td>\n",
       "      <td>2.140119</td>\n",
       "      <td>5.157096</td>\n",
       "      <td>1.370633</td>\n",
       "      <td>1.190621</td>\n",
       "      <td>5.931064</td>\n",
       "      <td>19.933499</td>\n",
       "      <td>1.005349</td>\n",
       "      <td>18.504337</td>\n",
       "      <td>2.657122</td>\n",
       "      <td>11.395156</td>\n",
       "      <td>0.630917</td>\n",
       "      <td>1.792658</td>\n",
       "      <td>1.82789</td>\n",
       "      <td>2.642617</td>\n",
       "      <td>1.840977</td>\n",
       "      <td>4.761337</td>\n",
       "      <td>2.074912</td>\n",
       "      <td>4.5581</td>\n",
       "      <td>0.37743</td>\n",
       "      <td>0.11571</td>\n",
       "      <td>1.888181</td>\n",
       "      <td>0.151703</td>\n",
       "      <td>0.099133</td>\n",
       "      <td>0.802638</td>\n",
       "      <td>6.428612</td>\n",
       "      <td>1.718809</td>\n",
       "      <td>0.751202</td>\n",
       "      <td>4.111296</td>\n",
       "      <td>1.872205</td>\n",
       "      <td>2.998317</td>\n",
       "      <td>2.52468</td>\n",
       "      <td>2.715324</td>\n",
       "      <td>0.799875</td>\n",
       "      <td>4.221522</td>\n",
       "      <td>0.509152</td>\n",
       "      <td>0.742043</td>\n",
       "      <td>4.089321</td>\n",
       "      <td>0.711412</td>\n",
       "      <td>0.96471</td>\n",
       "      <td>0.669205</td>\n",
       "      <td>2.064798</td>\n",
       "      <td>2.036309</td>\n",
       "      <td>6.779368</td>\n",
       "      <td>5.53104</td>\n",
       "      <td>1.853671</td>\n",
       "      <td>6.093097</td>\n",
       "      <td>2.293244</td>\n",
       "      <td>1.342508</td>\n",
       "      <td>7.819567</td>\n",
       "      <td>3.863635</td>\n",
       "      <td>1.003496</td>\n",
       "      <td>1.6092</td>\n",
       "      <td>0.124181</td>\n",
       "      <td>0.743713</td>\n",
       "      <td>1.248319</td>\n",
       "      <td>1.283912</td>\n",
       "      <td>0.630858</td>\n",
       "      <td>0.698077</td>\n",
       "    </tr>\n",
       "  </tbody>\n",
       "</table>\n",
       "</div>"
      ],
      "text/plain": [
       "   duration_in_month  credit_amount  installment_as_income_perc  present_res_since       age  credits_this_bank  people_under_maintenance  account_check_status_0 <= ... < 200 DM  account_check_status_< 0 DM  account_check_status_>= 200 DM / salary assignments for at least 1 year  account_check_status_no checking account  credit_history_all credits at this bank paid back duly  credit_history_critical account/ other credits existing (not at this bank)  credit_history_delay in paying off in the past  credit_history_existing credits paid back duly till now  credit_history_no credits taken/ all credits paid back duly  purpose_(vacation - does not exist?)  purpose_business  purpose_car (new)  purpose_car (used)  purpose_domestic appliances  purpose_education  purpose_furniture/equipment  purpose_radio/television  purpose_repairs  purpose_retraining  savings_.. >= 1000 DM   savings_... < 100 DM  savings_100 <= ... < 500 DM  savings_500 <= ... < 1000 DM   savings_unknown/ no savings account  \\\n",
       "0          13.228625       8.178123                    4.098975           2.140119  5.157096           1.370633                  1.190621                                5.931064                    19.933499                                           1.005349                                                       18.504337                                           2.657122                                               11.395156                                                                 0.630917                                           1.792658                                                  1.82789                                        2.642617          1.840977           4.761337            2.074912                       4.5581            0.37743                      0.11571                  1.888181         0.151703            0.099133                0.802638              6.428612                     1.718809                       0.751202                             4.111296   \n",
       "\n",
       "   present_emp_since_.. >= 7 years  present_emp_since_... < 1 year   present_emp_since_1 <= ... < 4 years  present_emp_since_4 <= ... < 7 years  present_emp_since_unemployed  personal_status_sex_female : divorced/separated/married  personal_status_sex_male : divorced/separated  personal_status_sex_male : married/widowed  personal_status_sex_male : single  other_debtors_co-applicant  other_debtors_guarantor  other_debtors_none  property_if not A121 : building society savings agreement/ life insurance  property_if not A121/A122 : car or other, not in attribute 6  property_real estate  property_unknown / no property  other_installment_plans_bank  other_installment_plans_none  other_installment_plans_stores  housing_for free  housing_own  housing_rent  job_management/ self-employed/ highly qualified employee/ officer  job_skilled employee / official  job_unemployed/ unskilled - non-resident  job_unskilled - resident  telephone_none  telephone_yes, registered under the customers name   \\\n",
       "0                         1.872205                         2.998317                               2.52468                              2.715324                      0.799875                                           4.221522                                             0.509152                                    0.742043                           4.089321                    0.711412                  0.96471            0.669205                                           2.064798                                                                   2.036309                         6.779368                         5.53104                      1.853671                      6.093097                        2.293244          1.342508     7.819567      3.863635                                           1.003496                                           1.6092                                  0.124181                  0.743713        1.248319                                           1.283912     \n",
       "\n",
       "   foreign_worker_no  foreign_worker_yes  \n",
       "0           0.630858            0.698077  "
      ]
     },
     "execution_count": 39,
     "metadata": {},
     "output_type": "execute_result"
    }
   ],
   "source": [
    "df_shap = pd.DataFrame([np.abs(shap_values[0]).sum(0)], columns = feature_names)\n",
    "df_shap"
   ]
  },
  {
   "cell_type": "code",
   "execution_count": 40,
   "metadata": {},
   "outputs": [
    {
     "data": {
      "text/html": [
       "<div>\n",
       "<style scoped>\n",
       "    .dataframe tbody tr th:only-of-type {\n",
       "        vertical-align: middle;\n",
       "    }\n",
       "\n",
       "    .dataframe tbody tr th {\n",
       "        vertical-align: top;\n",
       "    }\n",
       "\n",
       "    .dataframe thead th {\n",
       "        text-align: right;\n",
       "    }\n",
       "</style>\n",
       "<table border=\"1\" class=\"dataframe\">\n",
       "  <thead>\n",
       "    <tr style=\"text-align: right;\">\n",
       "      <th></th>\n",
       "      <th>duration_in_month</th>\n",
       "      <th>credit_amount</th>\n",
       "      <th>installment_as_income_perc</th>\n",
       "      <th>present_res_since</th>\n",
       "      <th>age</th>\n",
       "      <th>credits_this_bank</th>\n",
       "      <th>people_under_maintenance</th>\n",
       "      <th>account_check_status</th>\n",
       "      <th>credit_history</th>\n",
       "      <th>purpose</th>\n",
       "      <th>savings</th>\n",
       "      <th>present_emp_since</th>\n",
       "      <th>personal_status_sex</th>\n",
       "      <th>other_debtors</th>\n",
       "      <th>property</th>\n",
       "      <th>other_installment_plans</th>\n",
       "      <th>housing</th>\n",
       "      <th>job</th>\n",
       "      <th>telephone</th>\n",
       "      <th>foreign_worker</th>\n",
       "    </tr>\n",
       "  </thead>\n",
       "  <tbody>\n",
       "    <tr>\n",
       "      <th>0</th>\n",
       "      <td>13.228625</td>\n",
       "      <td>8.178123</td>\n",
       "      <td>4.098975</td>\n",
       "      <td>2.140119</td>\n",
       "      <td>5.157096</td>\n",
       "      <td>1.370633</td>\n",
       "      <td>1.190621</td>\n",
       "      <td>45.374249</td>\n",
       "      <td>18.303743</td>\n",
       "      <td>18.5101</td>\n",
       "      <td>13.812556</td>\n",
       "      <td>10.910401</td>\n",
       "      <td>9.562037</td>\n",
       "      <td>2.345327</td>\n",
       "      <td>16.411515</td>\n",
       "      <td>10.240013</td>\n",
       "      <td>13.02571</td>\n",
       "      <td>3.480589</td>\n",
       "      <td>2.532231</td>\n",
       "      <td>1.328935</td>\n",
       "    </tr>\n",
       "  </tbody>\n",
       "</table>\n",
       "</div>"
      ],
      "text/plain": [
       "   duration_in_month  credit_amount  installment_as_income_perc  present_res_since       age  credits_this_bank  people_under_maintenance  account_check_status  credit_history  purpose    savings  present_emp_since  personal_status_sex  other_debtors   property  other_installment_plans   housing       job  telephone  foreign_worker\n",
       "0          13.228625       8.178123                    4.098975           2.140119  5.157096           1.370633                  1.190621             45.374249       18.303743  18.5101  13.812556          10.910401             9.562037       2.345327  16.411515                10.240013  13.02571  3.480589   2.532231        1.328935"
      ]
     },
     "execution_count": 40,
     "metadata": {},
     "output_type": "execute_result"
    }
   ],
   "source": [
    "shap_sum = []\n",
    "for i in range(list(one_hot.keys())[0]):\n",
    "    shap_sum.append(df_shap.iloc[0,i])\n",
    "    \n",
    "for i,v in one_hot.items():\n",
    "    shap_sum.append(np.sum(df_shap.iloc[0,i:i+v]))\n",
    "\n",
    "df_shap_sum = pd.DataFrame([shap_sum], columns=x_change_all.columns)\n",
    "df_shap_sum"
   ]
  },
  {
   "cell_type": "code",
   "execution_count": 41,
   "metadata": {},
   "outputs": [
    {
     "data": {
      "image/png": "[encoded data removed]",
      "text/plain": [
       "<Figure size 720x432 with 1 Axes>"
      ]
     },
     "metadata": {},
     "output_type": "display_data"
    }
   ],
   "source": [
    "ax = df_shap_sum.T.sort_values(by=0, ascending=False).plot.bar(legend=False, figsize=(10,6),fontsize=13)\n",
    "ax.set_ylabel(\"Avg(|Shap Values|)\", fontsize=14)\n",
    "plt.tight_layout()\n",
    "# plt.savefig(\"shap_value_importance.png\", type=\"png\", dpi=600)"
   ]
  },
  {
   "cell_type": "code",
   "execution_count": 42,
   "metadata": {},
   "outputs": [
    {
     "data": {
      "text/html": [
       "<div>\n",
       "<style scoped>\n",
       "    .dataframe tbody tr th:only-of-type {\n",
       "        vertical-align: middle;\n",
       "    }\n",
       "\n",
       "    .dataframe tbody tr th {\n",
       "        vertical-align: top;\n",
       "    }\n",
       "\n",
       "    .dataframe thead th {\n",
       "        text-align: right;\n",
       "    }\n",
       "</style>\n",
       "<table border=\"1\" class=\"dataframe\">\n",
       "  <thead>\n",
       "    <tr style=\"text-align: right;\">\n",
       "      <th></th>\n",
       "      <th>duration_in_month</th>\n",
       "      <th>credit_amount</th>\n",
       "      <th>installment_as_income_perc</th>\n",
       "      <th>present_res_since</th>\n",
       "      <th>age</th>\n",
       "      <th>credits_this_bank</th>\n",
       "      <th>people_under_maintenance</th>\n",
       "      <th>account_check_status</th>\n",
       "      <th>credit_history</th>\n",
       "      <th>purpose</th>\n",
       "      <th>savings</th>\n",
       "      <th>present_emp_since</th>\n",
       "      <th>personal_status_sex</th>\n",
       "      <th>other_debtors</th>\n",
       "      <th>property</th>\n",
       "      <th>other_installment_plans</th>\n",
       "      <th>housing</th>\n",
       "      <th>job</th>\n",
       "      <th>telephone</th>\n",
       "      <th>foreign_worker</th>\n",
       "    </tr>\n",
       "  </thead>\n",
       "  <tbody>\n",
       "    <tr>\n",
       "      <th>0</th>\n",
       "      <td>False</td>\n",
       "      <td>False</td>\n",
       "      <td>False</td>\n",
       "      <td>False</td>\n",
       "      <td>False</td>\n",
       "      <td>False</td>\n",
       "      <td>False</td>\n",
       "      <td>True</td>\n",
       "      <td>False</td>\n",
       "      <td>False</td>\n",
       "      <td>False</td>\n",
       "      <td>False</td>\n",
       "      <td>False</td>\n",
       "      <td>False</td>\n",
       "      <td>False</td>\n",
       "      <td>False</td>\n",
       "      <td>False</td>\n",
       "      <td>True</td>\n",
       "      <td>False</td>\n",
       "      <td>False</td>\n",
       "    </tr>\n",
       "    <tr>\n",
       "      <th>0</th>\n",
       "      <td>False</td>\n",
       "      <td>False</td>\n",
       "      <td>False</td>\n",
       "      <td>False</td>\n",
       "      <td>False</td>\n",
       "      <td>False</td>\n",
       "      <td>False</td>\n",
       "      <td>True</td>\n",
       "      <td>False</td>\n",
       "      <td>False</td>\n",
       "      <td>True</td>\n",
       "      <td>False</td>\n",
       "      <td>False</td>\n",
       "      <td>False</td>\n",
       "      <td>False</td>\n",
       "      <td>False</td>\n",
       "      <td>False</td>\n",
       "      <td>False</td>\n",
       "      <td>False</td>\n",
       "      <td>False</td>\n",
       "    </tr>\n",
       "    <tr>\n",
       "      <th>0</th>\n",
       "      <td>False</td>\n",
       "      <td>False</td>\n",
       "      <td>False</td>\n",
       "      <td>False</td>\n",
       "      <td>False</td>\n",
       "      <td>False</td>\n",
       "      <td>False</td>\n",
       "      <td>False</td>\n",
       "      <td>True</td>\n",
       "      <td>False</td>\n",
       "      <td>False</td>\n",
       "      <td>True</td>\n",
       "      <td>True</td>\n",
       "      <td>False</td>\n",
       "      <td>False</td>\n",
       "      <td>True</td>\n",
       "      <td>False</td>\n",
       "      <td>False</td>\n",
       "      <td>False</td>\n",
       "      <td>False</td>\n",
       "    </tr>\n",
       "    <tr>\n",
       "      <th>0</th>\n",
       "      <td>False</td>\n",
       "      <td>False</td>\n",
       "      <td>False</td>\n",
       "      <td>False</td>\n",
       "      <td>False</td>\n",
       "      <td>False</td>\n",
       "      <td>False</td>\n",
       "      <td>True</td>\n",
       "      <td>False</td>\n",
       "      <td>False</td>\n",
       "      <td>False</td>\n",
       "      <td>False</td>\n",
       "      <td>False</td>\n",
       "      <td>False</td>\n",
       "      <td>False</td>\n",
       "      <td>False</td>\n",
       "      <td>False</td>\n",
       "      <td>False</td>\n",
       "      <td>False</td>\n",
       "      <td>False</td>\n",
       "    </tr>\n",
       "    <tr>\n",
       "      <th>0</th>\n",
       "      <td>False</td>\n",
       "      <td>False</td>\n",
       "      <td>False</td>\n",
       "      <td>False</td>\n",
       "      <td>False</td>\n",
       "      <td>False</td>\n",
       "      <td>False</td>\n",
       "      <td>False</td>\n",
       "      <td>False</td>\n",
       "      <td>True</td>\n",
       "      <td>False</td>\n",
       "      <td>True</td>\n",
       "      <td>False</td>\n",
       "      <td>False</td>\n",
       "      <td>False</td>\n",
       "      <td>True</td>\n",
       "      <td>False</td>\n",
       "      <td>False</td>\n",
       "      <td>False</td>\n",
       "      <td>False</td>\n",
       "    </tr>\n",
       "  </tbody>\n",
       "</table>\n",
       "</div>"
      ],
      "text/plain": [
       "   duration_in_month  credit_amount  installment_as_income_perc  present_res_since    age  credits_this_bank  people_under_maintenance  account_check_status  credit_history  purpose  savings  present_emp_since  personal_status_sex  other_debtors  property  other_installment_plans  housing    job  telephone  foreign_worker\n",
       "0              False          False                       False              False  False              False                     False                  True           False    False    False              False                False          False     False                    False    False   True      False           False\n",
       "0              False          False                       False              False  False              False                     False                  True           False    False     True              False                False          False     False                    False    False  False      False           False\n",
       "0              False          False                       False              False  False              False                     False                 False            True    False    False               True                 True          False     False                     True    False  False      False           False\n",
       "0              False          False                       False              False  False              False                     False                  True           False    False    False              False                False          False     False                    False    False  False      False           False\n",
       "0              False          False                       False              False  False              False                     False                 False           False     True    False               True                False          False     False                     True    False  False      False           False"
      ]
     },
     "execution_count": 42,
     "metadata": {},
     "output_type": "execute_result"
    }
   ],
   "source": [
    "x_change_bin = (x_change_all!=0)\n",
    "x_change_bin.head()"
   ]
  },
  {
   "cell_type": "code",
   "execution_count": 43,
   "metadata": {},
   "outputs": [
    {
     "data": {
      "text/plain": [
       "33"
      ]
     },
     "execution_count": 43,
     "metadata": {},
     "output_type": "execute_result"
    }
   ],
   "source": [
    "len(x_change_bin[(x_change_bin[\"property\"]==1) & (x_change_bin[\"account_check_status\"])])"
   ]
  },
  {
   "cell_type": "code",
   "execution_count": 44,
   "metadata": {},
   "outputs": [
    {
     "data": {
      "text/plain": [
       "2"
      ]
     },
     "execution_count": 44,
     "metadata": {},
     "output_type": "execute_result"
    }
   ],
   "source": [
    "len(x_change_bin[(x_change_bin[\"job\"]==1) & (x_change_bin[\"account_check_status\"])])"
   ]
  },
  {
   "cell_type": "code",
   "execution_count": null,
   "metadata": {},
   "outputs": [],
   "source": []
  }
 ],
 "metadata": {
  "kernelspec": {
   "display_name": "Python 3",
   "language": "python",
   "name": "python3"
  },
  "language_info": {
   "codemirror_mode": {
    "name": "ipython",
    "version": 3
   },
   "file_extension": ".py",
   "mimetype": "text/x-python",
   "name": "python",
   "nbconvert_exporter": "python",
   "pygments_lexer": "ipython3",
   "version": "3.7.6"
  }
 },
 "nbformat": 4,
 "nbformat_minor": 4
}
